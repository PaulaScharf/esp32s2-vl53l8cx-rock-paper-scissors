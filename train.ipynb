{
 "cells": [
  {
   "cell_type": "code",
   "execution_count": 1,
   "metadata": {},
   "outputs": [
    {
     "name": "stderr",
     "output_type": "stream",
     "text": [
      "WARNING: All log messages before absl::InitializeLog() is called are written to STDERR\n",
      "E0000 00:00:1739128068.005214    7936 cuda_dnn.cc:8310] Unable to register cuDNN factory: Attempting to register factory for plugin cuDNN when one has already been registered\n",
      "E0000 00:00:1739128068.022708    7936 cuda_blas.cc:1418] Unable to register cuBLAS factory: Attempting to register factory for plugin cuBLAS when one has already been registered\n"
     ]
    }
   ],
   "source": [
    "import os\n",
    "os.environ['TF_CPP_MIN_LOG_LEVEL'] = '3'  # or any {'0', '1', '2'}\n",
    "import tensorflow as tf\n",
    "from tensorflow.keras import layers, models\n",
    "import numpy as np\n",
    "import pandas as pd\n",
    "from sklearn.model_selection import train_test_split\n",
    "from sklearn.preprocessing import LabelEncoder\n",
    "from tensorflow.keras.callbacks import EarlyStopping\n",
    "from tqdm import tqdm\n",
    "from sklearn.model_selection import KFold\n",
    "import tflite_helper\n",
    "import matplotlib.pyplot as plt\n",
    "from sklearn.metrics import classification_report, confusion_matrix\n",
    "import seaborn as sns\n",
    "import shutil"
   ]
  },
  {
   "cell_type": "code",
   "execution_count": 2,
   "metadata": {},
   "outputs": [],
   "source": [
    "# Load data from CSV files\n",
    "def load_data(file_path, label):\n",
    "    df = pd.read_csv(file_path)\n",
    "    data = df.iloc[:, :].values  # Exclude header and assume data starts from the second column\n",
    "    labels = [label] * len(data)\n",
    "    return data, labels\n",
    "\n",
    "# Load the data for all classes\n",
    "data1, labels1 = load_data(\"data/rock2.csv\", \"rock\")\n",
    "data2, labels2 = load_data(\"data/paper2.csv\", \"paper\")\n",
    "data3, labels3 = load_data(\"data/scissors2.csv\", \"scissors\")\n",
    "\n",
    "# Combine the data and labels\n",
    "data = np.vstack([data1, data2, data3])\n",
    "labels = np.array(labels1 + labels2 + labels3)\n",
    "\n",
    "# Encode labels\n",
    "label_encoder = LabelEncoder()\n",
    "labels_encoded = label_encoder.fit_transform(labels)\n",
    "\n",
    "# Normalize data (assuming pixel values are integers)\n",
    "data = data / 400.0\n",
    "\n",
    "# Reshape data to 8x8 images\n",
    "data = data.reshape(-1, 8, 8, 1)  # Add channel dimension"
   ]
  },
  {
   "cell_type": "code",
   "execution_count": 6,
   "metadata": {},
   "outputs": [
    {
     "name": "stdout",
     "output_type": "stream",
     "text": [
      "rock:  352\n",
      "paper:  424\n",
      "scissors:  400\n"
     ]
    }
   ],
   "source": [
    "# Data augmentation\n",
    "data_augmented = []\n",
    "labels_augmented = []\n",
    "\n",
    "for image, label in zip(data, labels_encoded):\n",
    "    data_augmented.append(image)  # Original\n",
    "    labels_augmented.append(label)\n",
    "\n",
    "    # Flip horizontally\n",
    "    flipped_h = np.flip(image, axis=1)\n",
    "    data_augmented.append(flipped_h)\n",
    "    labels_augmented.append(label)\n",
    "\n",
    "    # Flip vertically\n",
    "    flipped_v = np.flip(image, axis=0)\n",
    "    data_augmented.append(flipped_v)\n",
    "    labels_augmented.append(label)\n",
    "\n",
    "    # Add random noise\n",
    "    noise = np.random.normal(0, 0.1, image.shape)\n",
    "    noisy_image = np.clip(image + noise, 0, 1)\n",
    "    data_augmented.append(noisy_image)\n",
    "    labels_augmented.append(label)\n",
    "\n",
    "    # Add random noise\n",
    "    noise = np.random.normal(-0.1, 0, image.shape)\n",
    "    noisy_image = np.clip(image + noise, 0, 1)\n",
    "    data_augmented.append(noisy_image)\n",
    "    labels_augmented.append(label)\n",
    "\n",
    "    # Rotate 90 degrees\n",
    "    rotated_90 = np.rot90(image, k=1)\n",
    "    data_augmented.append(rotated_90)\n",
    "    labels_augmented.append(label)\n",
    "\n",
    "    # Rotate 180 degrees\n",
    "    rotated_180 = np.rot90(image, k=2)\n",
    "    data_augmented.append(rotated_180)\n",
    "    labels_augmented.append(label)\n",
    "\n",
    "    # Rotate 270 degrees\n",
    "    rotated_270 = np.rot90(image, k=3)\n",
    "    data_augmented.append(rotated_270)\n",
    "    labels_augmented.append(label)\n",
    "\n",
    "# Convert augmented data to numpy arrays\n",
    "data_augmented = np.array(data_augmented)\n",
    "labels_augmented = np.array(labels_augmented)\n",
    "\n",
    "\n",
    "# Convert labels to one-hot encoding\n",
    "labels_augmented = tf.keras.utils.to_categorical(labels_augmented, num_classes=3)\n",
    "\n",
    "print(\"rock: \", len(labels_augmented[labels_augmented[:, 0] == 1]))\n",
    "print(\"paper: \", len(labels_augmented[labels_augmented[:, 1] == 1]))\n",
    "print(\"scissors: \", len(labels_augmented[labels_augmented[:, 2] == 1]))"
   ]
  },
  {
   "cell_type": "code",
   "execution_count": 7,
   "metadata": {},
   "outputs": [],
   "source": [
    "data_augmented = np.reshape(data_augmented, (data_augmented.shape[0], 64))"
   ]
  },
  {
   "cell_type": "code",
   "execution_count": 8,
   "metadata": {},
   "outputs": [
    {
     "name": "stderr",
     "output_type": "stream",
     "text": [
      "  0%|          | 0/10 [00:00<?, ?it/s]/home/paula/.local/lib/python3.10/site-packages/keras/src/layers/reshaping/reshape.py:39: UserWarning: Do not pass an `input_shape`/`input_dim` argument to a layer. When using Sequential models, prefer using an `Input(shape)` object as the first layer in the model instead.\n",
      "  super().__init__(**kwargs)\n",
      "/home/paula/.local/lib/python3.10/site-packages/keras/src/layers/convolutional/base_conv.py:107: UserWarning: Do not pass an `input_shape`/`input_dim` argument to a layer. When using Sequential models, prefer using an `Input(shape)` object as the first layer in the model instead.\n",
      "  super().__init__(activity_regularizer=activity_regularizer, **kwargs)\n"
     ]
    },
    {
     "name": "stdout",
     "output_type": "stream",
     "text": [
      "\u001b[1m4/4\u001b[0m \u001b[32m━━━━━━━━━━━━━━━━━━━━\u001b[0m\u001b[37m\u001b[0m \u001b[1m0s\u001b[0m 6ms/step - accuracy: 0.8661 - loss: 0.3432 - precision: 0.8882 - recall: 0.8489\n",
      "{'accuracy': 0.8474576473236084, 'loss': 0.36368805170059204, 'precision': 0.875, 'recall': 0.8305084705352783}\n",
      "INFO:tensorflow:Assets written to: /tmp/tmp2b9on17v/assets\n"
     ]
    },
    {
     "name": "stderr",
     "output_type": "stream",
     "text": [
      "INFO:tensorflow:Assets written to: /tmp/tmp2b9on17v/assets\n"
     ]
    },
    {
     "name": "stdout",
     "output_type": "stream",
     "text": [
      "Saved artifact at '/tmp/tmp2b9on17v'. The following endpoints are available:\n",
      "\n",
      "* Endpoint 'serve'\n",
      "  args_0 (POSITIONAL_ONLY): TensorSpec(shape=(None, 64), dtype=tf.float32, name='keras_tensor')\n",
      "Output Type:\n",
      "  TensorSpec(shape=(None, 3), dtype=tf.float32, name=None)\n",
      "Captures:\n",
      "  128105915600384: TensorSpec(shape=(), dtype=tf.resource, name=None)\n",
      "  128105915601792: TensorSpec(shape=(), dtype=tf.resource, name=None)\n",
      "  128105915611472: TensorSpec(shape=(), dtype=tf.resource, name=None)\n",
      "  128105915607600: TensorSpec(shape=(), dtype=tf.resource, name=None)\n",
      "  128105915611824: TensorSpec(shape=(), dtype=tf.resource, name=None)\n",
      "  128105915612704: TensorSpec(shape=(), dtype=tf.resource, name=None)\n",
      "  128105915610944: TensorSpec(shape=(), dtype=tf.resource, name=None)\n",
      "  128105915607952: TensorSpec(shape=(), dtype=tf.resource, name=None)\n"
     ]
    },
    {
     "name": "stderr",
     "output_type": "stream",
     "text": [
      "WARNING: All log messages before absl::InitializeLog() is called are written to STDERR\n",
      "W0000 00:00:1739128465.031570    7936 tf_tfl_flatbuffer_helpers.cc:365] Ignored output_format.\n",
      "W0000 00:00:1739128465.031588    7936 tf_tfl_flatbuffer_helpers.cc:368] Ignored drop_control_dependency.\n",
      "I0000 00:00:1739128465.035725    7936 mlir_graph_optimization_pass.cc:401] MLIR V1 optimization pass is not enabled\n",
      "INFO: Created TensorFlow Lite XNNPACK delegate for CPU.\n",
      " 10%|█         | 1/10 [00:10<01:38, 10.95s/it]/home/paula/.local/lib/python3.10/site-packages/keras/src/layers/reshaping/reshape.py:39: UserWarning: Do not pass an `input_shape`/`input_dim` argument to a layer. When using Sequential models, prefer using an `Input(shape)` object as the first layer in the model instead.\n",
      "  super().__init__(**kwargs)\n",
      "/home/paula/.local/lib/python3.10/site-packages/keras/src/layers/convolutional/base_conv.py:107: UserWarning: Do not pass an `input_shape`/`input_dim` argument to a layer. When using Sequential models, prefer using an `Input(shape)` object as the first layer in the model instead.\n",
      "  super().__init__(activity_regularizer=activity_regularizer, **kwargs)\n"
     ]
    },
    {
     "name": "stdout",
     "output_type": "stream",
     "text": [
      "TensorFlow Lite model:\n",
      "tflite: acc=0.847458, prec=0.856214, reca=0.841489\n",
      "\u001b[1m4/4\u001b[0m \u001b[32m━━━━━━━━━━━━━━━━━━━━\u001b[0m\u001b[37m\u001b[0m \u001b[1m0s\u001b[0m 6ms/step - accuracy: 0.8551 - loss: 0.3722 - precision: 0.8621 - recall: 0.8551\n",
      "{'accuracy': 0.7627118825912476, 'loss': 0.5087366700172424, 'precision': 0.7758620977401733, 'recall': 0.7627118825912476}\n",
      "INFO:tensorflow:Assets written to: /tmp/tmp2gzhk3zq/assets\n"
     ]
    },
    {
     "name": "stderr",
     "output_type": "stream",
     "text": [
      "INFO:tensorflow:Assets written to: /tmp/tmp2gzhk3zq/assets\n"
     ]
    },
    {
     "name": "stdout",
     "output_type": "stream",
     "text": [
      "Saved artifact at '/tmp/tmp2gzhk3zq'. The following endpoints are available:\n",
      "\n",
      "* Endpoint 'serve'\n",
      "  args_0 (POSITIONAL_ONLY): TensorSpec(shape=(None, 64), dtype=tf.float32, name='keras_tensor_8')\n",
      "Output Type:\n",
      "  TensorSpec(shape=(None, 3), dtype=tf.float32, name=None)\n",
      "Captures:\n",
      "  128105787135552: TensorSpec(shape=(), dtype=tf.resource, name=None)\n",
      "  128105787145936: TensorSpec(shape=(), dtype=tf.resource, name=None)\n",
      "  128105915061824: TensorSpec(shape=(), dtype=tf.resource, name=None)\n",
      "  128105787138544: TensorSpec(shape=(), dtype=tf.resource, name=None)\n",
      "  128105766835952: TensorSpec(shape=(), dtype=tf.resource, name=None)\n",
      "  128105766845280: TensorSpec(shape=(), dtype=tf.resource, name=None)\n",
      "  128105766836128: TensorSpec(shape=(), dtype=tf.resource, name=None)\n",
      "  128105766837536: TensorSpec(shape=(), dtype=tf.resource, name=None)\n"
     ]
    },
    {
     "name": "stderr",
     "output_type": "stream",
     "text": [
      "W0000 00:00:1739128470.481496    7936 tf_tfl_flatbuffer_helpers.cc:365] Ignored output_format.\n",
      "W0000 00:00:1739128470.481508    7936 tf_tfl_flatbuffer_helpers.cc:368] Ignored drop_control_dependency.\n",
      " 20%|██        | 2/10 [00:16<01:01,  7.68s/it]"
     ]
    },
    {
     "name": "stdout",
     "output_type": "stream",
     "text": [
      "TensorFlow Lite model:\n",
      "tflite: acc=0.762712, prec=0.837538, reca=0.796820\n"
     ]
    },
    {
     "name": "stderr",
     "output_type": "stream",
     "text": [
      "/home/paula/.local/lib/python3.10/site-packages/keras/src/layers/reshaping/reshape.py:39: UserWarning: Do not pass an `input_shape`/`input_dim` argument to a layer. When using Sequential models, prefer using an `Input(shape)` object as the first layer in the model instead.\n",
      "  super().__init__(**kwargs)\n",
      "/home/paula/.local/lib/python3.10/site-packages/keras/src/layers/convolutional/base_conv.py:107: UserWarning: Do not pass an `input_shape`/`input_dim` argument to a layer. When using Sequential models, prefer using an `Input(shape)` object as the first layer in the model instead.\n",
      "  super().__init__(activity_regularizer=activity_regularizer, **kwargs)\n"
     ]
    },
    {
     "name": "stdout",
     "output_type": "stream",
     "text": [
      "\u001b[1m4/4\u001b[0m \u001b[32m━━━━━━━━━━━━━━━━━━━━\u001b[0m\u001b[37m\u001b[0m \u001b[1m0s\u001b[0m 4ms/step - accuracy: 0.8530 - loss: 0.3440 - precision: 0.8613 - recall: 0.8233\n",
      "{'accuracy': 0.8305084705352783, 'loss': 0.3746284246444702, 'precision': 0.8421052694320679, 'recall': 0.8135592937469482}\n",
      "INFO:tensorflow:Assets written to: /tmp/tmpblhat5jx/assets\n"
     ]
    },
    {
     "name": "stderr",
     "output_type": "stream",
     "text": [
      "INFO:tensorflow:Assets written to: /tmp/tmpblhat5jx/assets\n"
     ]
    },
    {
     "name": "stdout",
     "output_type": "stream",
     "text": [
      "Saved artifact at '/tmp/tmpblhat5jx'. The following endpoints are available:\n",
      "\n",
      "* Endpoint 'serve'\n",
      "  args_0 (POSITIONAL_ONLY): TensorSpec(shape=(None, 64), dtype=tf.float32, name='keras_tensor_16')\n",
      "Output Type:\n",
      "  TensorSpec(shape=(None, 3), dtype=tf.float32, name=None)\n",
      "Captures:\n",
      "  128105554796688: TensorSpec(shape=(), dtype=tf.resource, name=None)\n",
      "  128105555419632: TensorSpec(shape=(), dtype=tf.resource, name=None)\n",
      "  128105555421392: TensorSpec(shape=(), dtype=tf.resource, name=None)\n",
      "  128105555417696: TensorSpec(shape=(), dtype=tf.resource, name=None)\n",
      "  128105555418928: TensorSpec(shape=(), dtype=tf.resource, name=None)\n",
      "  128105555419104: TensorSpec(shape=(), dtype=tf.resource, name=None)\n",
      "  128105555420336: TensorSpec(shape=(), dtype=tf.resource, name=None)\n",
      "  128105555422624: TensorSpec(shape=(), dtype=tf.resource, name=None)\n"
     ]
    },
    {
     "name": "stderr",
     "output_type": "stream",
     "text": [
      "W0000 00:00:1739128479.057776    7936 tf_tfl_flatbuffer_helpers.cc:365] Ignored output_format.\n",
      "W0000 00:00:1739128479.057793    7936 tf_tfl_flatbuffer_helpers.cc:368] Ignored drop_control_dependency.\n",
      " 30%|███       | 3/10 [00:24<00:56,  8.09s/it]/home/paula/.local/lib/python3.10/site-packages/keras/src/layers/reshaping/reshape.py:39: UserWarning: Do not pass an `input_shape`/`input_dim` argument to a layer. When using Sequential models, prefer using an `Input(shape)` object as the first layer in the model instead.\n",
      "  super().__init__(**kwargs)\n",
      "/home/paula/.local/lib/python3.10/site-packages/keras/src/layers/convolutional/base_conv.py:107: UserWarning: Do not pass an `input_shape`/`input_dim` argument to a layer. When using Sequential models, prefer using an `Input(shape)` object as the first layer in the model instead.\n",
      "  super().__init__(activity_regularizer=activity_regularizer, **kwargs)\n"
     ]
    },
    {
     "name": "stdout",
     "output_type": "stream",
     "text": [
      "TensorFlow Lite model:\n",
      "tflite: acc=0.830508, prec=0.842752, reca=0.847382\n",
      "\u001b[1m4/4\u001b[0m \u001b[32m━━━━━━━━━━━━━━━━━━━━\u001b[0m\u001b[37m\u001b[0m \u001b[1m0s\u001b[0m 5ms/step - accuracy: 0.8262 - loss: 0.4003 - precision: 0.8460 - recall: 0.8262\n",
      "{'accuracy': 0.8389830589294434, 'loss': 0.38147154450416565, 'precision': 0.8534482717514038, 'recall': 0.8389830589294434}\n",
      "INFO:tensorflow:Assets written to: /tmp/tmp5e2npqzs/assets\n"
     ]
    },
    {
     "name": "stderr",
     "output_type": "stream",
     "text": [
      "INFO:tensorflow:Assets written to: /tmp/tmp5e2npqzs/assets\n"
     ]
    },
    {
     "name": "stdout",
     "output_type": "stream",
     "text": [
      "Saved artifact at '/tmp/tmp5e2npqzs'. The following endpoints are available:\n",
      "\n",
      "* Endpoint 'serve'\n",
      "  args_0 (POSITIONAL_ONLY): TensorSpec(shape=(None, 64), dtype=tf.float32, name='keras_tensor_24')\n",
      "Output Type:\n",
      "  TensorSpec(shape=(None, 3), dtype=tf.float32, name=None)\n",
      "Captures:\n",
      "  128105522635952: TensorSpec(shape=(), dtype=tf.resource, name=None)\n",
      "  128105521125104: TensorSpec(shape=(), dtype=tf.resource, name=None)\n",
      "  128105521126864: TensorSpec(shape=(), dtype=tf.resource, name=None)\n",
      "  128105521122816: TensorSpec(shape=(), dtype=tf.resource, name=None)\n",
      "  128105521124400: TensorSpec(shape=(), dtype=tf.resource, name=None)\n",
      "  128105521125984: TensorSpec(shape=(), dtype=tf.resource, name=None)\n",
      "  128105521125808: TensorSpec(shape=(), dtype=tf.resource, name=None)\n",
      "  128105521128096: TensorSpec(shape=(), dtype=tf.resource, name=None)\n"
     ]
    },
    {
     "name": "stderr",
     "output_type": "stream",
     "text": [
      "W0000 00:00:1739128485.339630    7936 tf_tfl_flatbuffer_helpers.cc:365] Ignored output_format.\n",
      "W0000 00:00:1739128485.339659    7936 tf_tfl_flatbuffer_helpers.cc:368] Ignored drop_control_dependency.\n",
      " 40%|████      | 4/10 [00:31<00:44,  7.37s/it]/home/paula/.local/lib/python3.10/site-packages/keras/src/layers/reshaping/reshape.py:39: UserWarning: Do not pass an `input_shape`/`input_dim` argument to a layer. When using Sequential models, prefer using an `Input(shape)` object as the first layer in the model instead.\n",
      "  super().__init__(**kwargs)\n",
      "/home/paula/.local/lib/python3.10/site-packages/keras/src/layers/convolutional/base_conv.py:107: UserWarning: Do not pass an `input_shape`/`input_dim` argument to a layer. When using Sequential models, prefer using an `Input(shape)` object as the first layer in the model instead.\n",
      "  super().__init__(activity_regularizer=activity_regularizer, **kwargs)\n"
     ]
    },
    {
     "name": "stdout",
     "output_type": "stream",
     "text": [
      "TensorFlow Lite model:\n",
      "tflite: acc=0.838983, prec=0.842729, reca=0.854167\n",
      "\u001b[1m4/4\u001b[0m \u001b[32m━━━━━━━━━━━━━━━━━━━━\u001b[0m\u001b[37m\u001b[0m \u001b[1m0s\u001b[0m 5ms/step - accuracy: 0.8267 - loss: 0.3681 - precision: 0.8565 - recall: 0.8267\n",
      "{'accuracy': 0.8559321761131287, 'loss': 0.2963573634624481, 'precision': 0.8782608509063721, 'recall': 0.8559321761131287}\n",
      "INFO:tensorflow:Assets written to: /tmp/tmpdlfaf0k9/assets\n"
     ]
    },
    {
     "name": "stderr",
     "output_type": "stream",
     "text": [
      "INFO:tensorflow:Assets written to: /tmp/tmpdlfaf0k9/assets\n"
     ]
    },
    {
     "name": "stdout",
     "output_type": "stream",
     "text": [
      "Saved artifact at '/tmp/tmpdlfaf0k9'. The following endpoints are available:\n",
      "\n",
      "* Endpoint 'serve'\n",
      "  args_0 (POSITIONAL_ONLY): TensorSpec(shape=(None, 64), dtype=tf.float32, name='keras_tensor_32')\n",
      "Output Type:\n",
      "  TensorSpec(shape=(None, 3), dtype=tf.float32, name=None)\n",
      "Captures:\n",
      "  128105363935952: TensorSpec(shape=(), dtype=tf.resource, name=None)\n",
      "  128105363947040: TensorSpec(shape=(), dtype=tf.resource, name=None)\n",
      "  128105363946688: TensorSpec(shape=(), dtype=tf.resource, name=None)\n",
      "  128105364016288: TensorSpec(shape=(), dtype=tf.resource, name=None)\n",
      "  128105364016464: TensorSpec(shape=(), dtype=tf.resource, name=None)\n",
      "  128105364014000: TensorSpec(shape=(), dtype=tf.resource, name=None)\n",
      "  128105364015760: TensorSpec(shape=(), dtype=tf.resource, name=None)\n",
      "  128105364017520: TensorSpec(shape=(), dtype=tf.resource, name=None)\n"
     ]
    },
    {
     "name": "stderr",
     "output_type": "stream",
     "text": [
      "W0000 00:00:1739128492.558868    7936 tf_tfl_flatbuffer_helpers.cc:365] Ignored output_format.\n",
      "W0000 00:00:1739128492.558898    7936 tf_tfl_flatbuffer_helpers.cc:368] Ignored drop_control_dependency.\n",
      " 50%|█████     | 5/10 [00:38<00:36,  7.32s/it]/home/paula/.local/lib/python3.10/site-packages/keras/src/layers/reshaping/reshape.py:39: UserWarning: Do not pass an `input_shape`/`input_dim` argument to a layer. When using Sequential models, prefer using an `Input(shape)` object as the first layer in the model instead.\n",
      "  super().__init__(**kwargs)\n",
      "/home/paula/.local/lib/python3.10/site-packages/keras/src/layers/convolutional/base_conv.py:107: UserWarning: Do not pass an `input_shape`/`input_dim` argument to a layer. When using Sequential models, prefer using an `Input(shape)` object as the first layer in the model instead.\n",
      "  super().__init__(activity_regularizer=activity_regularizer, **kwargs)\n"
     ]
    },
    {
     "name": "stdout",
     "output_type": "stream",
     "text": [
      "TensorFlow Lite model:\n",
      "tflite: acc=0.855932, prec=0.854833, reca=0.858034\n",
      "\u001b[1m4/4\u001b[0m \u001b[32m━━━━━━━━━━━━━━━━━━━━\u001b[0m\u001b[37m\u001b[0m \u001b[1m0s\u001b[0m 3ms/step - accuracy: 0.8189 - loss: 0.4758 - precision: 0.8359 - recall: 0.7986\n",
      "{'accuracy': 0.7372881174087524, 'loss': 0.6644067168235779, 'precision': 0.7456140518188477, 'recall': 0.7203390002250671}\n",
      "INFO:tensorflow:Assets written to: /tmp/tmpjl89a9zt/assets\n"
     ]
    },
    {
     "name": "stderr",
     "output_type": "stream",
     "text": [
      "INFO:tensorflow:Assets written to: /tmp/tmpjl89a9zt/assets\n"
     ]
    },
    {
     "name": "stdout",
     "output_type": "stream",
     "text": [
      "Saved artifact at '/tmp/tmpjl89a9zt'. The following endpoints are available:\n",
      "\n",
      "* Endpoint 'serve'\n",
      "  args_0 (POSITIONAL_ONLY): TensorSpec(shape=(None, 64), dtype=tf.float32, name='keras_tensor_40')\n",
      "Output Type:\n",
      "  TensorSpec(shape=(None, 3), dtype=tf.float32, name=None)\n",
      "Captures:\n",
      "  128105364015936: TensorSpec(shape=(), dtype=tf.resource, name=None)\n",
      "  128105533971040: TensorSpec(shape=(), dtype=tf.resource, name=None)\n",
      "  128105533974736: TensorSpec(shape=(), dtype=tf.resource, name=None)\n",
      "  128105554799680: TensorSpec(shape=(), dtype=tf.resource, name=None)\n",
      "  128105554800384: TensorSpec(shape=(), dtype=tf.resource, name=None)\n",
      "  128105554802848: TensorSpec(shape=(), dtype=tf.resource, name=None)\n",
      "  128105554795632: TensorSpec(shape=(), dtype=tf.resource, name=None)\n",
      "  128105554793696: TensorSpec(shape=(), dtype=tf.resource, name=None)\n"
     ]
    },
    {
     "name": "stderr",
     "output_type": "stream",
     "text": [
      "W0000 00:00:1739128498.076518    7936 tf_tfl_flatbuffer_helpers.cc:365] Ignored output_format.\n",
      "W0000 00:00:1739128498.076534    7936 tf_tfl_flatbuffer_helpers.cc:368] Ignored drop_control_dependency.\n",
      " 60%|██████    | 6/10 [00:43<00:26,  6.71s/it]/home/paula/.local/lib/python3.10/site-packages/keras/src/layers/reshaping/reshape.py:39: UserWarning: Do not pass an `input_shape`/`input_dim` argument to a layer. When using Sequential models, prefer using an `Input(shape)` object as the first layer in the model instead.\n",
      "  super().__init__(**kwargs)\n",
      "/home/paula/.local/lib/python3.10/site-packages/keras/src/layers/convolutional/base_conv.py:107: UserWarning: Do not pass an `input_shape`/`input_dim` argument to a layer. When using Sequential models, prefer using an `Input(shape)` object as the first layer in the model instead.\n",
      "  super().__init__(activity_regularizer=activity_regularizer, **kwargs)\n"
     ]
    },
    {
     "name": "stdout",
     "output_type": "stream",
     "text": [
      "TensorFlow Lite model:\n",
      "tflite: acc=0.737288, prec=0.790779, reca=0.732381\n",
      "\u001b[1m4/4\u001b[0m \u001b[32m━━━━━━━━━━━━━━━━━━━━\u001b[0m\u001b[37m\u001b[0m \u001b[1m0s\u001b[0m 4ms/step - accuracy: 0.8351 - loss: 0.4600 - precision: 0.8418 - recall: 0.7857\n",
      "{'accuracy': 0.7777777910232544, 'loss': 0.5171962380409241, 'precision': 0.78899085521698, 'recall': 0.7350427508354187}\n",
      "INFO:tensorflow:Assets written to: /tmp/tmpb56wa4uq/assets\n"
     ]
    },
    {
     "name": "stderr",
     "output_type": "stream",
     "text": [
      "INFO:tensorflow:Assets written to: /tmp/tmpb56wa4uq/assets\n"
     ]
    },
    {
     "name": "stdout",
     "output_type": "stream",
     "text": [
      "Saved artifact at '/tmp/tmpb56wa4uq'. The following endpoints are available:\n",
      "\n",
      "* Endpoint 'serve'\n",
      "  args_0 (POSITIONAL_ONLY): TensorSpec(shape=(None, 64), dtype=tf.float32, name='keras_tensor_48')\n",
      "Output Type:\n",
      "  TensorSpec(shape=(None, 3), dtype=tf.float32, name=None)\n",
      "Captures:\n",
      "  128105342973936: TensorSpec(shape=(), dtype=tf.resource, name=None)\n",
      "  128105332532576: TensorSpec(shape=(), dtype=tf.resource, name=None)\n",
      "  128105332534336: TensorSpec(shape=(), dtype=tf.resource, name=None)\n",
      "  128105332531168: TensorSpec(shape=(), dtype=tf.resource, name=None)\n",
      "  128105332531872: TensorSpec(shape=(), dtype=tf.resource, name=None)\n",
      "  128105332533456: TensorSpec(shape=(), dtype=tf.resource, name=None)\n",
      "  128105332533280: TensorSpec(shape=(), dtype=tf.resource, name=None)\n",
      "  128105332535568: TensorSpec(shape=(), dtype=tf.resource, name=None)\n"
     ]
    },
    {
     "name": "stderr",
     "output_type": "stream",
     "text": [
      "W0000 00:00:1739128503.023452    7936 tf_tfl_flatbuffer_helpers.cc:365] Ignored output_format.\n",
      "W0000 00:00:1739128503.023477    7936 tf_tfl_flatbuffer_helpers.cc:368] Ignored drop_control_dependency.\n",
      " 70%|███████   | 7/10 [00:48<00:18,  6.13s/it]/home/paula/.local/lib/python3.10/site-packages/keras/src/layers/reshaping/reshape.py:39: UserWarning: Do not pass an `input_shape`/`input_dim` argument to a layer. When using Sequential models, prefer using an `Input(shape)` object as the first layer in the model instead.\n",
      "  super().__init__(**kwargs)\n",
      "/home/paula/.local/lib/python3.10/site-packages/keras/src/layers/convolutional/base_conv.py:107: UserWarning: Do not pass an `input_shape`/`input_dim` argument to a layer. When using Sequential models, prefer using an `Input(shape)` object as the first layer in the model instead.\n",
      "  super().__init__(activity_regularizer=activity_regularizer, **kwargs)\n"
     ]
    },
    {
     "name": "stdout",
     "output_type": "stream",
     "text": [
      "TensorFlow Lite model:\n",
      "tflite: acc=0.777778, prec=0.815263, reca=0.804530\n",
      "\u001b[1m4/4\u001b[0m \u001b[32m━━━━━━━━━━━━━━━━━━━━\u001b[0m\u001b[37m\u001b[0m \u001b[1m0s\u001b[0m 6ms/step - accuracy: 0.8589 - loss: 0.3690 - precision: 0.8930 - recall: 0.8440\n",
      "{'accuracy': 0.8034188151359558, 'loss': 0.4382689297199249, 'precision': 0.837837815284729, 'recall': 0.7948718070983887}\n",
      "INFO:tensorflow:Assets written to: /tmp/tmpzm862owr/assets\n"
     ]
    },
    {
     "name": "stderr",
     "output_type": "stream",
     "text": [
      "INFO:tensorflow:Assets written to: /tmp/tmpzm862owr/assets\n"
     ]
    },
    {
     "name": "stdout",
     "output_type": "stream",
     "text": [
      "Saved artifact at '/tmp/tmpzm862owr'. The following endpoints are available:\n",
      "\n",
      "* Endpoint 'serve'\n",
      "  args_0 (POSITIONAL_ONLY): TensorSpec(shape=(None, 64), dtype=tf.float32, name='keras_tensor_56')\n",
      "Output Type:\n",
      "  TensorSpec(shape=(None, 3), dtype=tf.float32, name=None)\n",
      "Captures:\n",
      "  128105318717344: TensorSpec(shape=(), dtype=tf.resource, name=None)\n",
      "  128105319409344: TensorSpec(shape=(), dtype=tf.resource, name=None)\n",
      "  128105319411104: TensorSpec(shape=(), dtype=tf.resource, name=None)\n",
      "  128105319407056: TensorSpec(shape=(), dtype=tf.resource, name=None)\n",
      "  128105319407760: TensorSpec(shape=(), dtype=tf.resource, name=None)\n",
      "  128105319408816: TensorSpec(shape=(), dtype=tf.resource, name=None)\n",
      "  128105319410048: TensorSpec(shape=(), dtype=tf.resource, name=None)\n",
      "  128105319412864: TensorSpec(shape=(), dtype=tf.resource, name=None)\n"
     ]
    },
    {
     "name": "stderr",
     "output_type": "stream",
     "text": [
      "W0000 00:00:1739128509.627262    7936 tf_tfl_flatbuffer_helpers.cc:365] Ignored output_format.\n",
      "W0000 00:00:1739128509.627277    7936 tf_tfl_flatbuffer_helpers.cc:368] Ignored drop_control_dependency.\n",
      " 80%|████████  | 8/10 [00:55<00:12,  6.28s/it]/home/paula/.local/lib/python3.10/site-packages/keras/src/layers/reshaping/reshape.py:39: UserWarning: Do not pass an `input_shape`/`input_dim` argument to a layer. When using Sequential models, prefer using an `Input(shape)` object as the first layer in the model instead.\n",
      "  super().__init__(**kwargs)\n",
      "/home/paula/.local/lib/python3.10/site-packages/keras/src/layers/convolutional/base_conv.py:107: UserWarning: Do not pass an `input_shape`/`input_dim` argument to a layer. When using Sequential models, prefer using an `Input(shape)` object as the first layer in the model instead.\n",
      "  super().__init__(activity_regularizer=activity_regularizer, **kwargs)\n"
     ]
    },
    {
     "name": "stdout",
     "output_type": "stream",
     "text": [
      "TensorFlow Lite model:\n",
      "tflite: acc=0.803419, prec=0.847977, reca=0.813625\n",
      "\u001b[1m4/4\u001b[0m \u001b[32m━━━━━━━━━━━━━━━━━━━━\u001b[0m\u001b[37m\u001b[0m \u001b[1m0s\u001b[0m 4ms/step - accuracy: 0.8251 - loss: 0.4207 - precision: 0.8515 - recall: 0.8165\n",
      "{'accuracy': 0.8205128312110901, 'loss': 0.4111049771308899, 'precision': 0.8482142686843872, 'recall': 0.811965823173523}\n",
      "INFO:tensorflow:Assets written to: /tmp/tmprugi7257/assets\n"
     ]
    },
    {
     "name": "stderr",
     "output_type": "stream",
     "text": [
      "INFO:tensorflow:Assets written to: /tmp/tmprugi7257/assets\n"
     ]
    },
    {
     "name": "stdout",
     "output_type": "stream",
     "text": [
      "Saved artifact at '/tmp/tmprugi7257'. The following endpoints are available:\n",
      "\n",
      "* Endpoint 'serve'\n",
      "  args_0 (POSITIONAL_ONLY): TensorSpec(shape=(None, 64), dtype=tf.float32, name='keras_tensor_64')\n",
      "Output Type:\n",
      "  TensorSpec(shape=(None, 3), dtype=tf.float32, name=None)\n",
      "Captures:\n",
      "  128105152454272: TensorSpec(shape=(), dtype=tf.resource, name=None)\n",
      "  128105141601552: TensorSpec(shape=(), dtype=tf.resource, name=None)\n",
      "  128105141610528: TensorSpec(shape=(), dtype=tf.resource, name=None)\n",
      "  128105141606128: TensorSpec(shape=(), dtype=tf.resource, name=None)\n",
      "  128105141606832: TensorSpec(shape=(), dtype=tf.resource, name=None)\n",
      "  128105141609648: TensorSpec(shape=(), dtype=tf.resource, name=None)\n",
      "  128105141609472: TensorSpec(shape=(), dtype=tf.resource, name=None)\n",
      "  128105141611760: TensorSpec(shape=(), dtype=tf.resource, name=None)\n"
     ]
    },
    {
     "name": "stderr",
     "output_type": "stream",
     "text": [
      "W0000 00:00:1739128513.824905    7936 tf_tfl_flatbuffer_helpers.cc:365] Ignored output_format.\n",
      "W0000 00:00:1739128513.824933    7936 tf_tfl_flatbuffer_helpers.cc:368] Ignored drop_control_dependency.\n",
      " 90%|█████████ | 9/10 [00:59<00:05,  5.63s/it]/home/paula/.local/lib/python3.10/site-packages/keras/src/layers/reshaping/reshape.py:39: UserWarning: Do not pass an `input_shape`/`input_dim` argument to a layer. When using Sequential models, prefer using an `Input(shape)` object as the first layer in the model instead.\n",
      "  super().__init__(**kwargs)\n",
      "/home/paula/.local/lib/python3.10/site-packages/keras/src/layers/convolutional/base_conv.py:107: UserWarning: Do not pass an `input_shape`/`input_dim` argument to a layer. When using Sequential models, prefer using an `Input(shape)` object as the first layer in the model instead.\n",
      "  super().__init__(activity_regularizer=activity_regularizer, **kwargs)\n"
     ]
    },
    {
     "name": "stdout",
     "output_type": "stream",
     "text": [
      "TensorFlow Lite model:\n",
      "tflite: acc=0.820513, prec=0.835714, reca=0.800000\n",
      "\u001b[1m4/4\u001b[0m \u001b[32m━━━━━━━━━━━━━━━━━━━━\u001b[0m\u001b[37m\u001b[0m \u001b[1m0s\u001b[0m 4ms/step - accuracy: 0.8215 - loss: 0.3813 - precision: 0.8486 - recall: 0.8066 \n",
      "{'accuracy': 0.8376068472862244, 'loss': 0.35290899872779846, 'precision': 0.8584070801734924, 'recall': 0.8290598392486572}\n",
      "INFO:tensorflow:Assets written to: /tmp/tmpz7389dt3/assets\n"
     ]
    },
    {
     "name": "stderr",
     "output_type": "stream",
     "text": [
      "INFO:tensorflow:Assets written to: /tmp/tmpz7389dt3/assets\n"
     ]
    },
    {
     "name": "stdout",
     "output_type": "stream",
     "text": [
      "Saved artifact at '/tmp/tmpz7389dt3'. The following endpoints are available:\n",
      "\n",
      "* Endpoint 'serve'\n",
      "  args_0 (POSITIONAL_ONLY): TensorSpec(shape=(None, 64), dtype=tf.float32, name='keras_tensor_72')\n",
      "Output Type:\n",
      "  TensorSpec(shape=(None, 3), dtype=tf.float32, name=None)\n",
      "Captures:\n",
      "  128105172920352: TensorSpec(shape=(), dtype=tf.resource, name=None)\n",
      "  128105319448096: TensorSpec(shape=(), dtype=tf.resource, name=None)\n",
      "  128105183568016: TensorSpec(shape=(), dtype=tf.resource, name=None)\n",
      "  128105319434720: TensorSpec(shape=(), dtype=tf.resource, name=None)\n",
      "  128105183566960: TensorSpec(shape=(), dtype=tf.resource, name=None)\n",
      "  128105319447920: TensorSpec(shape=(), dtype=tf.resource, name=None)\n",
      "  128105183945904: TensorSpec(shape=(), dtype=tf.resource, name=None)\n",
      "  128105183945024: TensorSpec(shape=(), dtype=tf.resource, name=None)\n"
     ]
    },
    {
     "name": "stderr",
     "output_type": "stream",
     "text": [
      "W0000 00:00:1739128521.100405    7936 tf_tfl_flatbuffer_helpers.cc:365] Ignored output_format.\n",
      "W0000 00:00:1739128521.100419    7936 tf_tfl_flatbuffer_helpers.cc:368] Ignored drop_control_dependency.\n",
      "100%|██████████| 10/10 [01:06<00:00,  6.70s/it]"
     ]
    },
    {
     "name": "stdout",
     "output_type": "stream",
     "text": [
      "TensorFlow Lite model:\n",
      "tflite: acc=0.837607, prec=0.826763, reca=0.825926\n"
     ]
    },
    {
     "name": "stderr",
     "output_type": "stream",
     "text": [
      "\n"
     ]
    }
   ],
   "source": [
    "def create_model():\n",
    "    # Build a larger CNN model\n",
    "    model = models.Sequential([\n",
    "        layers.Reshape((8,8,1), input_shape=(64,)),\n",
    "        layers.Conv2D(8, (3, 3), activation='relu', padding='same', input_shape=(8, 8, 1)),\n",
    "        layers.MaxPooling2D((2, 2), padding='same'),\n",
    "        layers.Conv2D(16, (3, 3), activation='relu', padding='same'),\n",
    "        layers.Flatten(),\n",
    "        layers.Dense(32, activation='relu'),\n",
    "        layers.Dense(3, activation='softmax')\n",
    "    ])\n",
    "\n",
    "    # Compile the model\n",
    "    model.compile(optimizer='adam',\n",
    "                loss='categorical_crossentropy',\n",
    "                metrics=['accuracy', \n",
    "\t\t\ttf.keras.metrics.Precision(name='precision'),\n",
    "\t\t\ttf.keras.metrics.Recall(name='recall')])\n",
    "    \n",
    "    return model\n",
    "\n",
    "# K-fold Cross Validation model evaluation\n",
    "kfold = KFold(n_splits=10, shuffle=True)\n",
    "results = []\n",
    "for train, test in tqdm(kfold.split(data_augmented, labels_augmented), total = 10):\n",
    "    # Define early stopping callback to monitor validation loss\n",
    "    early_stopping = EarlyStopping(monitor='val_loss', patience=4)\n",
    "\n",
    "    # Split the augmented data into training and testing sets\n",
    "    X_train, y_train, X_test, y_test = data_augmented[train], labels_augmented[train], data_augmented[test], labels_augmented[test]\n",
    "\n",
    "    model = create_model()\n",
    "\n",
    "    # Train the model\n",
    "    history = model.fit(X_train, y_train, epochs=35, batch_size=8, validation_split=0.1, callbacks=[early_stopping], verbose=0)\n",
    "\n",
    "    # Evaluate the model\n",
    "    metrics = model.evaluate(X_test, y_test, return_dict=True)\n",
    "    print(metrics)\n",
    "    \n",
    "    tflite_model = tflite_helper.convert_tflite_model(model)\n",
    "    \n",
    "    accuracy,precision,recall = tflite_helper.test_tflite(tflite_model, X_test, y_test)\n",
    "    print('tflite: acc={:f}, prec={:f}, reca={:f}'.format(accuracy,sum(precision)/len(precision),sum(recall)/len(recall)))\n",
    "\n",
    "    result = {\n",
    "        'metrics': metrics,\n",
    "        'tflite_metrics': {\n",
    "            'accuracy': accuracy,\n",
    "            'precision': precision,\n",
    "            'recall': recall\n",
    "        }\n",
    "    }\n",
    "    results.append(result)"
   ]
  },
  {
   "cell_type": "code",
   "execution_count": 9,
   "metadata": {},
   "outputs": [],
   "source": [
    "accuracies = np.array([d['metrics']['accuracy'] for d in results])\n",
    "precisions = np.array([d['metrics']['precision'] for d in results])\n",
    "recalls = np.array([d['metrics']['recall'] for d in results])\n",
    "losses = np.array([d['metrics']['loss'] for d in results])\n",
    "tflite_accuracies = np.array([d['tflite_metrics']['accuracy'] for d in results])\n",
    "tflite_precisions = np.array([d['tflite_metrics']['precision'] for d in results])\n",
    "tflite_recalls = np.array([d['tflite_metrics']['recall'] for d in results])\n",
    "\n",
    "# print final metrics and tflite metrics\n",
    "with open('./training/test_results.txt', 'w') as f:\n",
    "\tf.write('Average scores for tensorflow model:\\n')\n",
    "\tf.write(f'> Accuracy: {np.mean(accuracies)} (+- {np.std(accuracies)})\\n')\n",
    "\tf.write(f'> Precision: {np.mean(precisions)} (+- {np.std(precisions)})\\n')\n",
    "\tf.write(f'> Recall: {np.mean(recalls)} (+- {np.std(recalls)})\\n')\n",
    "\tf.write(f'> Loss: {np.mean(losses)} (+- {np.std(losses)})\\n')\n",
    "\tf.write('Average scores for tflite:\\n')\n",
    "\tf.write(f'> Accuracy: {np.mean(tflite_accuracies)} (+- {np.std(tflite_accuracies)})\\n')\n",
    "\tf.write(f'> Precision: {np.mean(tflite_precisions)} (+- {np.std(tflite_precisions)})\\n')\n",
    "\tf.write(f'> Recall: {np.mean(tflite_recalls)} (+- {np.std(tflite_recalls)})\\n')"
   ]
  },
  {
   "cell_type": "code",
   "execution_count": 10,
   "metadata": {},
   "outputs": [
    {
     "name": "stderr",
     "output_type": "stream",
     "text": [
      "/home/paula/.local/lib/python3.10/site-packages/keras/src/layers/reshaping/reshape.py:39: UserWarning: Do not pass an `input_shape`/`input_dim` argument to a layer. When using Sequential models, prefer using an `Input(shape)` object as the first layer in the model instead.\n",
      "  super().__init__(**kwargs)\n",
      "/home/paula/.local/lib/python3.10/site-packages/keras/src/layers/convolutional/base_conv.py:107: UserWarning: Do not pass an `input_shape`/`input_dim` argument to a layer. When using Sequential models, prefer using an `Input(shape)` object as the first layer in the model instead.\n",
      "  super().__init__(activity_regularizer=activity_regularizer, **kwargs)\n"
     ]
    },
    {
     "data": {
      "text/html": [
       "<pre style=\"white-space:pre;overflow-x:auto;line-height:normal;font-family:Menlo,'DejaVu Sans Mono',consolas,'Courier New',monospace\"><span style=\"font-weight: bold\">Model: \"sequential_10\"</span>\n",
       "</pre>\n"
      ],
      "text/plain": [
       "\u001b[1mModel: \"sequential_10\"\u001b[0m\n"
      ]
     },
     "metadata": {},
     "output_type": "display_data"
    },
    {
     "data": {
      "text/html": [
       "<pre style=\"white-space:pre;overflow-x:auto;line-height:normal;font-family:Menlo,'DejaVu Sans Mono',consolas,'Courier New',monospace\">┏━━━━━━━━━━━━━━━━━━━━━━━━━━━━━━━━━┳━━━━━━━━━━━━━━━━━━━━━━━━┳━━━━━━━━━━━━━━━┓\n",
       "┃<span style=\"font-weight: bold\"> Layer (type)                    </span>┃<span style=\"font-weight: bold\"> Output Shape           </span>┃<span style=\"font-weight: bold\">       Param # </span>┃\n",
       "┡━━━━━━━━━━━━━━━━━━━━━━━━━━━━━━━━━╇━━━━━━━━━━━━━━━━━━━━━━━━╇━━━━━━━━━━━━━━━┩\n",
       "│ reshape_10 (<span style=\"color: #0087ff; text-decoration-color: #0087ff\">Reshape</span>)            │ (<span style=\"color: #00d7ff; text-decoration-color: #00d7ff\">None</span>, <span style=\"color: #00af00; text-decoration-color: #00af00\">8</span>, <span style=\"color: #00af00; text-decoration-color: #00af00\">8</span>, <span style=\"color: #00af00; text-decoration-color: #00af00\">1</span>)        │             <span style=\"color: #00af00; text-decoration-color: #00af00\">0</span> │\n",
       "├─────────────────────────────────┼────────────────────────┼───────────────┤\n",
       "│ conv2d_20 (<span style=\"color: #0087ff; text-decoration-color: #0087ff\">Conv2D</span>)              │ (<span style=\"color: #00d7ff; text-decoration-color: #00d7ff\">None</span>, <span style=\"color: #00af00; text-decoration-color: #00af00\">8</span>, <span style=\"color: #00af00; text-decoration-color: #00af00\">8</span>, <span style=\"color: #00af00; text-decoration-color: #00af00\">8</span>)        │            <span style=\"color: #00af00; text-decoration-color: #00af00\">80</span> │\n",
       "├─────────────────────────────────┼────────────────────────┼───────────────┤\n",
       "│ max_pooling2d_10 (<span style=\"color: #0087ff; text-decoration-color: #0087ff\">MaxPooling2D</span>) │ (<span style=\"color: #00d7ff; text-decoration-color: #00d7ff\">None</span>, <span style=\"color: #00af00; text-decoration-color: #00af00\">4</span>, <span style=\"color: #00af00; text-decoration-color: #00af00\">4</span>, <span style=\"color: #00af00; text-decoration-color: #00af00\">8</span>)        │             <span style=\"color: #00af00; text-decoration-color: #00af00\">0</span> │\n",
       "├─────────────────────────────────┼────────────────────────┼───────────────┤\n",
       "│ conv2d_21 (<span style=\"color: #0087ff; text-decoration-color: #0087ff\">Conv2D</span>)              │ (<span style=\"color: #00d7ff; text-decoration-color: #00d7ff\">None</span>, <span style=\"color: #00af00; text-decoration-color: #00af00\">4</span>, <span style=\"color: #00af00; text-decoration-color: #00af00\">4</span>, <span style=\"color: #00af00; text-decoration-color: #00af00\">16</span>)       │         <span style=\"color: #00af00; text-decoration-color: #00af00\">1,168</span> │\n",
       "├─────────────────────────────────┼────────────────────────┼───────────────┤\n",
       "│ flatten_10 (<span style=\"color: #0087ff; text-decoration-color: #0087ff\">Flatten</span>)            │ (<span style=\"color: #00d7ff; text-decoration-color: #00d7ff\">None</span>, <span style=\"color: #00af00; text-decoration-color: #00af00\">256</span>)            │             <span style=\"color: #00af00; text-decoration-color: #00af00\">0</span> │\n",
       "├─────────────────────────────────┼────────────────────────┼───────────────┤\n",
       "│ dense_20 (<span style=\"color: #0087ff; text-decoration-color: #0087ff\">Dense</span>)                │ (<span style=\"color: #00d7ff; text-decoration-color: #00d7ff\">None</span>, <span style=\"color: #00af00; text-decoration-color: #00af00\">32</span>)             │         <span style=\"color: #00af00; text-decoration-color: #00af00\">8,224</span> │\n",
       "├─────────────────────────────────┼────────────────────────┼───────────────┤\n",
       "│ dense_21 (<span style=\"color: #0087ff; text-decoration-color: #0087ff\">Dense</span>)                │ (<span style=\"color: #00d7ff; text-decoration-color: #00d7ff\">None</span>, <span style=\"color: #00af00; text-decoration-color: #00af00\">3</span>)              │            <span style=\"color: #00af00; text-decoration-color: #00af00\">99</span> │\n",
       "└─────────────────────────────────┴────────────────────────┴───────────────┘\n",
       "</pre>\n"
      ],
      "text/plain": [
       "┏━━━━━━━━━━━━━━━━━━━━━━━━━━━━━━━━━┳━━━━━━━━━━━━━━━━━━━━━━━━┳━━━━━━━━━━━━━━━┓\n",
       "┃\u001b[1m \u001b[0m\u001b[1mLayer (type)                   \u001b[0m\u001b[1m \u001b[0m┃\u001b[1m \u001b[0m\u001b[1mOutput Shape          \u001b[0m\u001b[1m \u001b[0m┃\u001b[1m \u001b[0m\u001b[1m      Param #\u001b[0m\u001b[1m \u001b[0m┃\n",
       "┡━━━━━━━━━━━━━━━━━━━━━━━━━━━━━━━━━╇━━━━━━━━━━━━━━━━━━━━━━━━╇━━━━━━━━━━━━━━━┩\n",
       "│ reshape_10 (\u001b[38;5;33mReshape\u001b[0m)            │ (\u001b[38;5;45mNone\u001b[0m, \u001b[38;5;34m8\u001b[0m, \u001b[38;5;34m8\u001b[0m, \u001b[38;5;34m1\u001b[0m)        │             \u001b[38;5;34m0\u001b[0m │\n",
       "├─────────────────────────────────┼────────────────────────┼───────────────┤\n",
       "│ conv2d_20 (\u001b[38;5;33mConv2D\u001b[0m)              │ (\u001b[38;5;45mNone\u001b[0m, \u001b[38;5;34m8\u001b[0m, \u001b[38;5;34m8\u001b[0m, \u001b[38;5;34m8\u001b[0m)        │            \u001b[38;5;34m80\u001b[0m │\n",
       "├─────────────────────────────────┼────────────────────────┼───────────────┤\n",
       "│ max_pooling2d_10 (\u001b[38;5;33mMaxPooling2D\u001b[0m) │ (\u001b[38;5;45mNone\u001b[0m, \u001b[38;5;34m4\u001b[0m, \u001b[38;5;34m4\u001b[0m, \u001b[38;5;34m8\u001b[0m)        │             \u001b[38;5;34m0\u001b[0m │\n",
       "├─────────────────────────────────┼────────────────────────┼───────────────┤\n",
       "│ conv2d_21 (\u001b[38;5;33mConv2D\u001b[0m)              │ (\u001b[38;5;45mNone\u001b[0m, \u001b[38;5;34m4\u001b[0m, \u001b[38;5;34m4\u001b[0m, \u001b[38;5;34m16\u001b[0m)       │         \u001b[38;5;34m1,168\u001b[0m │\n",
       "├─────────────────────────────────┼────────────────────────┼───────────────┤\n",
       "│ flatten_10 (\u001b[38;5;33mFlatten\u001b[0m)            │ (\u001b[38;5;45mNone\u001b[0m, \u001b[38;5;34m256\u001b[0m)            │             \u001b[38;5;34m0\u001b[0m │\n",
       "├─────────────────────────────────┼────────────────────────┼───────────────┤\n",
       "│ dense_20 (\u001b[38;5;33mDense\u001b[0m)                │ (\u001b[38;5;45mNone\u001b[0m, \u001b[38;5;34m32\u001b[0m)             │         \u001b[38;5;34m8,224\u001b[0m │\n",
       "├─────────────────────────────────┼────────────────────────┼───────────────┤\n",
       "│ dense_21 (\u001b[38;5;33mDense\u001b[0m)                │ (\u001b[38;5;45mNone\u001b[0m, \u001b[38;5;34m3\u001b[0m)              │            \u001b[38;5;34m99\u001b[0m │\n",
       "└─────────────────────────────────┴────────────────────────┴───────────────┘\n"
      ]
     },
     "metadata": {},
     "output_type": "display_data"
    },
    {
     "data": {
      "text/html": [
       "<pre style=\"white-space:pre;overflow-x:auto;line-height:normal;font-family:Menlo,'DejaVu Sans Mono',consolas,'Courier New',monospace\"><span style=\"font-weight: bold\"> Total params: </span><span style=\"color: #00af00; text-decoration-color: #00af00\">28,715</span> (112.17 KB)\n",
       "</pre>\n"
      ],
      "text/plain": [
       "\u001b[1m Total params: \u001b[0m\u001b[38;5;34m28,715\u001b[0m (112.17 KB)\n"
      ]
     },
     "metadata": {},
     "output_type": "display_data"
    },
    {
     "data": {
      "text/html": [
       "<pre style=\"white-space:pre;overflow-x:auto;line-height:normal;font-family:Menlo,'DejaVu Sans Mono',consolas,'Courier New',monospace\"><span style=\"font-weight: bold\"> Trainable params: </span><span style=\"color: #00af00; text-decoration-color: #00af00\">9,571</span> (37.39 KB)\n",
       "</pre>\n"
      ],
      "text/plain": [
       "\u001b[1m Trainable params: \u001b[0m\u001b[38;5;34m9,571\u001b[0m (37.39 KB)\n"
      ]
     },
     "metadata": {},
     "output_type": "display_data"
    },
    {
     "data": {
      "text/html": [
       "<pre style=\"white-space:pre;overflow-x:auto;line-height:normal;font-family:Menlo,'DejaVu Sans Mono',consolas,'Courier New',monospace\"><span style=\"font-weight: bold\"> Non-trainable params: </span><span style=\"color: #00af00; text-decoration-color: #00af00\">0</span> (0.00 B)\n",
       "</pre>\n"
      ],
      "text/plain": [
       "\u001b[1m Non-trainable params: \u001b[0m\u001b[38;5;34m0\u001b[0m (0.00 B)\n"
      ]
     },
     "metadata": {},
     "output_type": "display_data"
    },
    {
     "data": {
      "text/html": [
       "<pre style=\"white-space:pre;overflow-x:auto;line-height:normal;font-family:Menlo,'DejaVu Sans Mono',consolas,'Courier New',monospace\"><span style=\"font-weight: bold\"> Optimizer params: </span><span style=\"color: #00af00; text-decoration-color: #00af00\">19,144</span> (74.79 KB)\n",
       "</pre>\n"
      ],
      "text/plain": [
       "\u001b[1m Optimizer params: \u001b[0m\u001b[38;5;34m19,144\u001b[0m (74.79 KB)\n"
      ]
     },
     "metadata": {},
     "output_type": "display_data"
    },
    {
     "data": {
      "image/png": "[encoded data removed]",
      "text/plain": [
       "<Figure size 640x480 with 1 Axes>"
      ]
     },
     "metadata": {},
     "output_type": "display_data"
    }
   ],
   "source": [
    "### Train the model on the full dataset ###\n",
    "X_train, X_val, y_train, y_val = train_test_split(data_augmented, labels_augmented, test_size=0.1, random_state=42)\n",
    "model = create_model()\n",
    "# Define early stopping callback to monitor validation loss\n",
    "early_stopping = EarlyStopping(monitor='val_loss', patience=7)\n",
    "# train model\n",
    "history = model.fit(X_train, y_train, epochs=200, batch_size=64, validation_data=(X_val, y_val), callbacks=[early_stopping], verbose=0)\n",
    "model.summary()\n",
    "\n",
    "# Model speichern\n",
    "model.save('training/model.keras')\n",
    "\n",
    "plt.plot(history.history['loss'], label='Training Loss')\n",
    "plt.plot(history.history['val_loss'], label='Validation Loss')\n",
    "plt.plot(history.history['accuracy'], label='Training Accuracy')\n",
    "plt.plot(history.history['val_accuracy'], label='Validation Accuracy')\n",
    "plt.xlabel('Epoch')\n",
    "plt.legend()\n",
    "plt.savefig('training/loss_accuracy_plot.png')\n",
    "plt.clf()\n",
    "plt.plot(history.history['precision'], label='Training precision')\n",
    "plt.plot(history.history['val_precision'], label='Validation precision')\n",
    "plt.plot(history.history['recall'], label='Training recall')\n",
    "plt.plot(history.history['val_recall'], label='Validation recall')\n",
    "plt.xlabel('Epoch')\n",
    "plt.legend()\n",
    "plt.savefig('training/precision_recall_plot.png')"
   ]
  },
  {
   "cell_type": "code",
   "execution_count": null,
   "metadata": {},
   "outputs": [
    {
     "name": "stdout",
     "output_type": "stream",
     "text": [
      "\u001b[1m37/37\u001b[0m \u001b[32m━━━━━━━━━━━━━━━━━━━━\u001b[0m\u001b[37m\u001b[0m \u001b[1m0s\u001b[0m 2ms/step\n",
      "\n",
      "Classification Report:\n",
      "               precision    recall  f1-score   support\n",
      "\n",
      "       paper       0.95      0.98      0.96       352\n",
      "        rock       0.88      0.93      0.91       424\n",
      "    scissors       0.94      0.85      0.89       400\n",
      "\n",
      "    accuracy                           0.92      1176\n",
      "   macro avg       0.92      0.92      0.92      1176\n",
      "weighted avg       0.92      0.92      0.92      1176\n",
      "\n"
     ]
    },
    {
     "data": {
      "image/png": "[encoded data removed]",
      "text/plain": [
       "<Figure size 800x600 with 2 Axes>"
      ]
     },
     "metadata": {},
     "output_type": "display_data"
    }
   ],
   "source": [
    "# Generate predictions\n",
    "labels_predicted = model.predict(data_augmented)\n",
    "labels_predicted_classes = np.argmax(labels_predicted, axis=1)\n",
    "labels_augmented_classes = np.argmax(labels_augmented, axis=1)\n",
    "\n",
    "# Classification report\n",
    "class_report = classification_report(labels_augmented_classes, labels_predicted_classes, target_names=label_encoder.classes_)\n",
    "print(\"\\nClassification Report:\\n\", class_report)\n",
    "\n",
    "# Confusion matrix\n",
    "conf_matrix = confusion_matrix(labels_augmented_classes, labels_predicted_classes)\n",
    "plt.figure(figsize=(8, 6))\n",
    "sns.heatmap(conf_matrix, annot=True, fmt='d', cmap='Blues', xticklabels=label_encoder.classes_, yticklabels=label_encoder.classes_)\n",
    "plt.xlabel('Predicted Labels')\n",
    "plt.ylabel('True Labels')\n",
    "plt.title('Confusion Matrix')\n",
    "plt.show()"
   ]
  },
  {
   "cell_type": "code",
   "execution_count": 10,
   "metadata": {},
   "outputs": [
    {
     "name": "stdout",
     "output_type": "stream",
     "text": [
      "INFO:tensorflow:Assets written to: /tmp/tmpa0_3vag1/assets\n"
     ]
    },
    {
     "name": "stderr",
     "output_type": "stream",
     "text": [
      "INFO:tensorflow:Assets written to: /tmp/tmpa0_3vag1/assets\n"
     ]
    },
    {
     "name": "stdout",
     "output_type": "stream",
     "text": [
      "Saved artifact at '/tmp/tmpa0_3vag1'. The following endpoints are available:\n",
      "\n",
      "* Endpoint 'serve'\n",
      "  args_0 (POSITIONAL_ONLY): TensorSpec(shape=(None, 64), dtype=tf.float32, name='keras_tensor_80')\n",
      "Output Type:\n",
      "  TensorSpec(shape=(None, 3), dtype=tf.float32, name=None)\n",
      "Captures:\n",
      "  127408324892224: TensorSpec(shape=(), dtype=tf.resource, name=None)\n",
      "  127408324902432: TensorSpec(shape=(), dtype=tf.resource, name=None)\n",
      "  127408324899616: TensorSpec(shape=(), dtype=tf.resource, name=None)\n",
      "  127408527729488: TensorSpec(shape=(), dtype=tf.resource, name=None)\n",
      "  127408784480864: TensorSpec(shape=(), dtype=tf.resource, name=None)\n",
      "  127409266844848: TensorSpec(shape=(), dtype=tf.resource, name=None)\n",
      "  127408527729136: TensorSpec(shape=(), dtype=tf.resource, name=None)\n",
      "  127408527730544: TensorSpec(shape=(), dtype=tf.resource, name=None)\n",
      "Tflite model saved to %s ./training\n",
      "\n",
      "TFLite model size: 41.40 KB\n"
     ]
    },
    {
     "name": "stderr",
     "output_type": "stream",
     "text": [
      "W0000 00:00:1737126433.939100  400746 tf_tfl_flatbuffer_helpers.cc:365] Ignored output_format.\n",
      "W0000 00:00:1737126433.939110  400746 tf_tfl_flatbuffer_helpers.cc:368] Ignored drop_control_dependency.\n"
     ]
    }
   ],
   "source": [
    "tflite_model = tflite_helper.convert_tflite_model(model)\n",
    "\n",
    "tflite_helper.save_tflite_model(tflite_model, './training', 'model.tflite')\n",
    "\n",
    "# print size of model\n",
    "tflite_model_size = os.path.getsize('./training/model.tflite') / 1024  # KB\n",
    "print(f\"\\nTFLite model size: {tflite_model_size:.2f} KB\")\n",
    "\n",
    "# funktion um das tflite modell in ein c array zu konvertieren(?)\n",
    "def convert_to_c_array(file_path, output_file):\n",
    "    with open(file_path, \"rb\") as f:\n",
    "        data = f.read()\n",
    "    \n",
    "    data_length = len(data)\n",
    "    \n",
    "    with open(output_file, \"w\") as f:\n",
    "        f.write(f\"unsigned char model_tflite[] = {{\\n\")\n",
    "        for i, byte in enumerate(data):\n",
    "            f.write(f\"0x{byte:02x}, \")\n",
    "            if (i + 1) % 12 == 0:\n",
    "                f.write(\"\\n\")\n",
    "        f.write(f\"\\n}};\\n\\n\")\n",
    "        f.write(f\"unsigned int model_tflite_len = {data_length};\\n\")\n",
    "\n",
    "# Convert the TFLite model to a C array\n",
    "convert_to_c_array('./training/model.tflite', './training/model.h')"
   ]
  },
  {
   "cell_type": "code",
   "execution_count": 11,
   "metadata": {},
   "outputs": [
    {
     "name": "stdout",
     "output_type": "stream",
     "text": [
      "\n",
      "TFLite Classification Report:\n",
      "               precision    recall  f1-score   support\n",
      "\n",
      "       paper       0.99      0.96      0.98       352\n",
      "        rock       0.90      0.98      0.94       424\n",
      "    scissors       0.96      0.90      0.93       400\n",
      "\n",
      "    accuracy                           0.94      1176\n",
      "   macro avg       0.95      0.94      0.95      1176\n",
      "weighted avg       0.95      0.94      0.94      1176\n",
      "\n"
     ]
    },
    {
     "data": {
      "image/png": "[encoded data removed]",
      "text/plain": [
       "<Figure size 800x600 with 2 Axes>"
      ]
     },
     "metadata": {},
     "output_type": "display_data"
    }
   ],
   "source": [
    "# Function to load the TFLite model and run inference\n",
    "def run_tflite_inference(tflite_model_path, X_test):\n",
    "    # Load the TFLite model\n",
    "    interpreter = tf.lite.Interpreter(model_path=tflite_model_path)\n",
    "    interpreter.allocate_tensors()\n",
    "\n",
    "    # Get input and output details\n",
    "    input_details = interpreter.get_input_details()\n",
    "    output_details = interpreter.get_output_details()\n",
    "\n",
    "    predictions = []\n",
    "    for sample in X_test:\n",
    "        # Prepare input tensor\n",
    "        sample = np.expand_dims(sample, axis=0).astype(np.float32)\n",
    "        interpreter.set_tensor(input_details[0]['index'], sample)\n",
    "\n",
    "        # Run inference\n",
    "        interpreter.invoke()\n",
    "\n",
    "        # Get output tensor\n",
    "        output_data = interpreter.get_tensor(output_details[0]['index'])\n",
    "        predictions.append(output_data[0])\n",
    "\n",
    "    return np.array(predictions)\n",
    "\n",
    "# Run inference with TFLite model\n",
    "tflite_model_path = './training/model.tflite'  # Path to your TFLite model\n",
    "tflite_predictions = run_tflite_inference(tflite_model_path, data_augmented)\n",
    "\n",
    "# Convert TFLite predictions to class indices\n",
    "tflite_pred_classes = np.argmax(tflite_predictions, axis=1)\n",
    "y_true_classes = np.argmax(labels_augmented, axis=1)\n",
    "\n",
    "# Generate classification report\n",
    "class_report = classification_report(y_true_classes, tflite_pred_classes, target_names=label_encoder.classes_)\n",
    "print(\"\\nTFLite Classification Report:\\n\", class_report)\n",
    "\n",
    "# Generate confusion matrix\n",
    "conf_matrix = confusion_matrix(y_true_classes, tflite_pred_classes)\n",
    "plt.figure(figsize=(8, 6))\n",
    "sns.heatmap(conf_matrix, annot=True, fmt='d', cmap='Blues', xticklabels=label_encoder.classes_, yticklabels=label_encoder.classes_)\n",
    "plt.xlabel('Predicted Labels')\n",
    "plt.ylabel('True Labels')\n",
    "plt.title('TFLite Confusion Matrix')\n",
    "plt.show()"
   ]
  },
  {
   "cell_type": "code",
   "execution_count": 12,
   "metadata": {},
   "outputs": [
    {
     "ename": "ValueError",
     "evalue": "Exception encountered when calling Sequential.call().\n\n\u001b[1mInvalid input shape for input Tensor(\"data:0\", shape=(32, 8, 8, 1), dtype=float32). Expected shape (None, 64), but input has incompatible shape (32, 8, 8, 1)\u001b[0m\n\nArguments received by Sequential.call():\n  • inputs=tf.Tensor(shape=(32, 8, 8, 1), dtype=float32)\n  • training=False\n  • mask=None",
     "output_type": "error",
     "traceback": [
      "\u001b[0;31m---------------------------------------------------------------------------\u001b[0m",
      "\u001b[0;31mValueError\u001b[0m                                Traceback (most recent call last)",
      "Cell \u001b[0;32mIn[12], line 1\u001b[0m\n\u001b[0;32m----> 1\u001b[0m predictions \u001b[38;5;241m=\u001b[39m \u001b[43mmodel\u001b[49m\u001b[38;5;241;43m.\u001b[39;49m\u001b[43mpredict\u001b[49m\u001b[43m(\u001b[49m\u001b[43mdata\u001b[49m\u001b[43m)\u001b[49m\n\u001b[1;32m      2\u001b[0m interpreter \u001b[38;5;241m=\u001b[39m tf\u001b[38;5;241m.\u001b[39mlite\u001b[38;5;241m.\u001b[39mInterpreter(model_content\u001b[38;5;241m=\u001b[39mtflite_model)\n\u001b[1;32m      3\u001b[0m interpreter\u001b[38;5;241m.\u001b[39mallocate_tensors()\n",
      "File \u001b[0;32m~/.local/lib/python3.10/site-packages/keras/src/utils/traceback_utils.py:122\u001b[0m, in \u001b[0;36mfilter_traceback.<locals>.error_handler\u001b[0;34m(*args, **kwargs)\u001b[0m\n\u001b[1;32m    119\u001b[0m     filtered_tb \u001b[38;5;241m=\u001b[39m _process_traceback_frames(e\u001b[38;5;241m.\u001b[39m__traceback__)\n\u001b[1;32m    120\u001b[0m     \u001b[38;5;66;03m# To get the full stack trace, call:\u001b[39;00m\n\u001b[1;32m    121\u001b[0m     \u001b[38;5;66;03m# `keras.config.disable_traceback_filtering()`\u001b[39;00m\n\u001b[0;32m--> 122\u001b[0m     \u001b[38;5;28;01mraise\u001b[39;00m e\u001b[38;5;241m.\u001b[39mwith_traceback(filtered_tb) \u001b[38;5;28;01mfrom\u001b[39;00m \u001b[38;5;28;01mNone\u001b[39;00m\n\u001b[1;32m    123\u001b[0m \u001b[38;5;28;01mfinally\u001b[39;00m:\n\u001b[1;32m    124\u001b[0m     \u001b[38;5;28;01mdel\u001b[39;00m filtered_tb\n",
      "File \u001b[0;32m~/.local/lib/python3.10/site-packages/keras/src/models/functional.py:264\u001b[0m, in \u001b[0;36mFunctional._adjust_input_rank\u001b[0;34m(self, flat_inputs)\u001b[0m\n\u001b[1;32m    262\u001b[0m             adjusted\u001b[38;5;241m.\u001b[39mappend(ops\u001b[38;5;241m.\u001b[39mexpand_dims(x, axis\u001b[38;5;241m=\u001b[39m\u001b[38;5;241m-\u001b[39m\u001b[38;5;241m1\u001b[39m))\n\u001b[1;32m    263\u001b[0m             \u001b[38;5;28;01mcontinue\u001b[39;00m\n\u001b[0;32m--> 264\u001b[0m     \u001b[38;5;28;01mraise\u001b[39;00m \u001b[38;5;167;01mValueError\u001b[39;00m(\n\u001b[1;32m    265\u001b[0m         \u001b[38;5;124mf\u001b[39m\u001b[38;5;124m\"\u001b[39m\u001b[38;5;124mInvalid input shape for input \u001b[39m\u001b[38;5;132;01m{\u001b[39;00mx\u001b[38;5;132;01m}\u001b[39;00m\u001b[38;5;124m. Expected shape \u001b[39m\u001b[38;5;124m\"\u001b[39m\n\u001b[1;32m    266\u001b[0m         \u001b[38;5;124mf\u001b[39m\u001b[38;5;124m\"\u001b[39m\u001b[38;5;132;01m{\u001b[39;00mref_shape\u001b[38;5;132;01m}\u001b[39;00m\u001b[38;5;124m, but input has incompatible shape \u001b[39m\u001b[38;5;132;01m{\u001b[39;00mx\u001b[38;5;241m.\u001b[39mshape\u001b[38;5;132;01m}\u001b[39;00m\u001b[38;5;124m\"\u001b[39m\n\u001b[1;32m    267\u001b[0m     )\n\u001b[1;32m    268\u001b[0m \u001b[38;5;66;03m# Add back metadata.\u001b[39;00m\n\u001b[1;32m    269\u001b[0m \u001b[38;5;28;01mfor\u001b[39;00m i \u001b[38;5;129;01min\u001b[39;00m \u001b[38;5;28mrange\u001b[39m(\u001b[38;5;28mlen\u001b[39m(flat_inputs)):\n",
      "\u001b[0;31mValueError\u001b[0m: Exception encountered when calling Sequential.call().\n\n\u001b[1mInvalid input shape for input Tensor(\"data:0\", shape=(32, 8, 8, 1), dtype=float32). Expected shape (None, 64), but input has incompatible shape (32, 8, 8, 1)\u001b[0m\n\nArguments received by Sequential.call():\n  • inputs=tf.Tensor(shape=(32, 8, 8, 1), dtype=float32)\n  • training=False\n  • mask=None"
     ]
    }
   ],
   "source": [
    "predictions = model.predict(data)\n",
    "interpreter = tf.lite.Interpreter(model_content=tflite_model)\n",
    "interpreter.allocate_tensors()\n",
    "input_tensor_index = interpreter.get_input_details()[0]['index']\n",
    "output_tensor_index = interpreter.get_output_details()[0]['index']\n",
    "\n",
    "output_dir = 'data/prediction_plots'\n",
    "if os.path.exists(output_dir):\n",
    "    shutil.rmtree(output_dir)\n",
    "os.makedirs(output_dir)\n",
    "\n",
    "pos = 0\n",
    "neg = 0\n",
    "for i in range(labels_encoded.shape[0]):\n",
    "    prediction = round(model.predict(np.reshape(data[i],(1,1197)))[0][0],6)\n",
    "    input_data = np.expand_dims(data[i], axis=0).astype(np.float32)\n",
    "    interpreter.set_tensor(input_tensor_index, input_data)\n",
    "    interpreter.invoke()\n",
    "    lite_prediction = round(interpreter.get_tensor(output_tensor_index)[0][0],6)\n",
    "    if predictions[0]>0.65:\n",
    "        pos += 1\n",
    "        print(predictions)\n",
    "    else:\n",
    "        neg += 1\n",
    "\n",
    "    name = str(int(labels_encoded[i])) + \"_\" + str(i)\n",
    "    plt.figure(figsize=(8, 6))\n",
    "    plt.plot(data[i],label=['x','y','z'],linestyle=\"\",marker=\"x\")\n",
    "    plt.ylim(-17, 27)\n",
    "    # plt.ylim(-1, 1) # for the normalized data\n",
    "    # plt.title(f'predicted: {prediction} -- lite-predicted: {lite_prediction} -- actual: {int(y1[i])}')\n",
    "    plt.title('predicted: '+str(prediction)+' -- lite-predicted: '+str(lite_prediction)+' -- actual: '+str(int(y1[i]))+'')\n",
    "    output_path = os.path.join(output_dir, f'{name}.png')\n",
    "    plt.savefig(output_path, dpi=300, bbox_inches='tight')\n",
    "    plt.close()  # Close the figure to free memory"
   ]
  },
  {
   "cell_type": "code",
   "execution_count": 23,
   "metadata": {},
   "outputs": [
    {
     "name": "stdout",
     "output_type": "stream",
     "text": [
      "Label Mapping: {np.int64(0): np.str_('paper'), np.int64(1): np.str_('rock'), np.int64(2): np.str_('scissors')}\n"
     ]
    }
   ],
   "source": [
    "\n",
    "# Decode labels\n",
    "label_map = dict(zip(label_encoder.transform(label_encoder.classes_), label_encoder.classes_))\n",
    "print(\"Label Mapping:\", label_map)"
   ]
  }
 ],
 "metadata": {
  "kernelspec": {
   "display_name": "Python 3",
   "language": "python",
   "name": "python3"
  },
  "language_info": {
   "codemirror_mode": {
    "name": "ipython",
    "version": 3
   },
   "file_extension": ".py",
   "mimetype": "text/x-python",
   "name": "python",
   "nbconvert_exporter": "python",
   "pygments_lexer": "ipython3",
   "version": "3.10.12"
  }
 },
 "nbformat": 4,
 "nbformat_minor": 2
}
