{
 "cells": [
  {
   "cell_type": "code",
   "execution_count": 72,
   "metadata": {},
   "outputs": [],
   "source": [
    "### importing libraries\n",
    "import importlib\n",
    "import os\n",
    "os.environ['TF_CPP_MIN_LOG_LEVEL'] = '3'  # or any {'0', '1', '2'}\n",
    "import tensorflow as tf\n",
    "from tensorflow.keras import layers, models\n",
    "import numpy as np\n",
    "import pandas as pd\n",
    "from sklearn.model_selection import train_test_split\n",
    "from sklearn.preprocessing import LabelEncoder\n",
    "from tensorflow.keras.callbacks import EarlyStopping\n",
    "from tqdm import tqdm\n",
    "from sklearn.model_selection import KFold\n",
    "import helper\n",
    "import matplotlib.pyplot as plt\n",
    "from sklearn.metrics import classification_report, confusion_matrix\n",
    "import seaborn as sns\n",
    "import shutil"
   ]
  },
  {
   "cell_type": "code",
   "execution_count": 73,
   "metadata": {},
   "outputs": [],
   "source": [
    "### Load data from CSV files\n",
    "importlib.reload(helper)\n",
    "\n",
    "def load_data(file_path, label):\n",
    "    df = pd.read_csv(file_path)\n",
    "    data = df.iloc[:, :].values  # Exclude header and assume data starts from the second column\n",
    "    labels = [label] * len(data)\n",
    "    return data, labels\n",
    "\n",
    "# Load the data for all classes\n",
    "data1, labels1 = load_data(\"data/rock.csv\", \"rock\")\n",
    "data2, labels2 = load_data(\"data/paper.csv\", \"paper\")\n",
    "data3, labels3 = load_data(\"data/scissors.csv\", \"scissors\")\n",
    "data4, labels4 = load_data(\"data/rock2.csv\", \"rock\")\n",
    "data5, labels5 = load_data(\"data/paper2.csv\", \"paper\")\n",
    "data6, labels6 = load_data(\"data/scissors2.csv\", \"scissors\")\n",
    "data7, labels7 = load_data(\"data/rock3.csv\", \"rock\")\n",
    "data8, labels8 = load_data(\"data/paper3.csv\", \"paper\")\n",
    "data9, labels9 = load_data(\"data/scissors3.csv\", \"scissors\")\n",
    "\n",
    "# Combine the data and labels\n",
    "data = np.vstack([data1, data2, data3, data4, data5, data6, data7, data8, data9])\n",
    "labels = np.array(labels1 + labels2 + labels3 + labels4 + labels5 + labels6 + labels7 + labels8 + labels9)\n",
    "\n",
    "# Encode labels\n",
    "label_encoder = LabelEncoder()\n",
    "labels_encoded = label_encoder.fit_transform(labels)\n",
    "\n",
    "# Normalize data (assuming pixel values are integers)\n",
    "data = data / 400.0\n",
    "\n",
    "# Reshape data to 8x8 images\n",
    "data = data.reshape(-1, 8, 8, 1)  # Add channel dimension"
   ]
  },
  {
   "cell_type": "code",
   "execution_count": 74,
   "metadata": {},
   "outputs": [
    {
     "name": "stdout",
     "output_type": "stream",
     "text": [
      "original class amount:\n",
      "rock:  246\n",
      "paper:  243\n",
      "scissors:  246\n",
      "\n",
      "augmented class amount:\n",
      "rock:  2460\n",
      "paper:  2430\n",
      "scissors:  2460\n",
      "\n",
      "Label Mapping: {np.int64(0): np.str_('paper'), np.int64(1): np.str_('rock'), np.int64(2): np.str_('scissors')}\n"
     ]
    }
   ],
   "source": [
    "### Data augmentation\n",
    "importlib.reload(helper)\n",
    "\n",
    "data_augmented = []\n",
    "labels_augmented = []\n",
    "\n",
    "for image, label in zip(data, labels_encoded):\n",
    "    data_augmented.append(image)  # Original\n",
    "    labels_augmented.append(label)\n",
    "\n",
    "    # Rotate 90 degrees\n",
    "    rotated_90 = np.rot90(image, k=1)\n",
    "    data_augmented.append(rotated_90)\n",
    "    labels_augmented.append(label)\n",
    "\n",
    "    # Rotate 180 degrees\n",
    "    rotated_180 = np.rot90(image, k=2)\n",
    "    data_augmented.append(rotated_180)\n",
    "    labels_augmented.append(label)\n",
    "\n",
    "    # Rotate 270 degrees\n",
    "    rotated_270 = np.rot90(image, k=3)\n",
    "    data_augmented.append(rotated_270)\n",
    "    labels_augmented.append(label)\n",
    "\n",
    "    # Flip horizontally\n",
    "    flipped = np.flip(image, axis=1)\n",
    "    data_augmented.append(flipped)\n",
    "    labels_augmented.append(label)\n",
    "\n",
    "    # Rotate 90 degrees\n",
    "    flipped_rotated_90 = np.rot90(flipped, k=1)\n",
    "    data_augmented.append(flipped_rotated_90)\n",
    "    labels_augmented.append(label)\n",
    "\n",
    "    # Rotate 180 degrees\n",
    "    flipped_rotated_180 = np.rot90(flipped, k=2)\n",
    "    data_augmented.append(flipped_rotated_180)\n",
    "    labels_augmented.append(label)\n",
    "\n",
    "    # Rotate 270 degrees\n",
    "    flipped_rotated_270 = np.rot90(flipped, k=3)\n",
    "    data_augmented.append(flipped_rotated_270)\n",
    "    labels_augmented.append(label)\n",
    "\n",
    "    # Add random positive noise\n",
    "    noise = np.random.normal(0.025, 0.01, image.shape)\n",
    "    noisy_image = np.clip(image + noise, 0, 1)\n",
    "    data_augmented.append(noisy_image)\n",
    "    labels_augmented.append(label)\n",
    "\n",
    "    # Add random negative noise\n",
    "    noise = np.random.normal(-0.025, 0.01, image.shape)\n",
    "    noisy_image = np.clip(image + noise, 0, 1)\n",
    "    data_augmented.append(noisy_image)\n",
    "    labels_augmented.append(label)\n",
    "\n",
    "# Convert augmented data to numpy arrays\n",
    "data_augmented = np.array(data_augmented)\n",
    "labels_augmented = np.array(labels_augmented)\n",
    "\n",
    "\n",
    "# Convert labels to one-hot encoding\n",
    "labels_encoded = tf.keras.utils.to_categorical(np.array(labels_encoded), num_classes=3)\n",
    "labels_augmented = tf.keras.utils.to_categorical(labels_augmented, num_classes=3)\n",
    "print(\"original class amount:\")\n",
    "print(\"rock: \", len(labels_encoded[labels_encoded[:, 0] == 1]))\n",
    "print(\"paper: \", len(labels_encoded[labels_encoded[:, 1] == 1]))\n",
    "print(\"scissors: \", len(labels_encoded[labels_encoded[:, 2] == 1]))\n",
    "print(\"\\naugmented class amount:\")\n",
    "print(\"rock: \", len(labels_augmented[labels_augmented[:, 0] == 1]))\n",
    "print(\"paper: \", len(labels_augmented[labels_augmented[:, 1] == 1]))\n",
    "print(\"scissors: \", len(labels_augmented[labels_augmented[:, 2] == 1]))\n",
    "\n",
    "# Decode labels\n",
    "label_map = dict(zip(label_encoder.transform(label_encoder.classes_), label_encoder.classes_))\n",
    "print(\"\\nLabel Mapping:\", label_map)\n",
    "\n",
    "data_augmented = np.reshape(data_augmented, (data_augmented.shape[0], 64))"
   ]
  },
  {
   "cell_type": "code",
   "execution_count": 75,
   "metadata": {},
   "outputs": [
    {
     "name": "stderr",
     "output_type": "stream",
     "text": [
      "/home/paula/.local/lib/python3.10/site-packages/keras/src/layers/reshaping/reshape.py:39: UserWarning: Do not pass an `input_shape`/`input_dim` argument to a layer. When using Sequential models, prefer using an `Input(shape)` object as the first layer in the model instead.\n",
      "  super().__init__(**kwargs)\n",
      "/home/paula/.local/lib/python3.10/site-packages/keras/src/layers/convolutional/base_conv.py:107: UserWarning: Do not pass an `input_shape`/`input_dim` argument to a layer. When using Sequential models, prefer using an `Input(shape)` object as the first layer in the model instead.\n",
      "  super().__init__(activity_regularizer=activity_regularizer, **kwargs)\n"
     ]
    },
    {
     "data": {
      "text/html": [
       "<pre style=\"white-space:pre;overflow-x:auto;line-height:normal;font-family:Menlo,'DejaVu Sans Mono',consolas,'Courier New',monospace\"><span style=\"font-weight: bold\">Model: \"sequential_84\"</span>\n",
       "</pre>\n"
      ],
      "text/plain": [
       "\u001b[1mModel: \"sequential_84\"\u001b[0m\n"
      ]
     },
     "metadata": {},
     "output_type": "display_data"
    },
    {
     "data": {
      "text/html": [
       "<pre style=\"white-space:pre;overflow-x:auto;line-height:normal;font-family:Menlo,'DejaVu Sans Mono',consolas,'Courier New',monospace\">┏━━━━━━━━━━━━━━━━━━━━━━━━━━━━━━━━━┳━━━━━━━━━━━━━━━━━━━━━━━━┳━━━━━━━━━━━━━━━┓\n",
       "┃<span style=\"font-weight: bold\"> Layer (type)                    </span>┃<span style=\"font-weight: bold\"> Output Shape           </span>┃<span style=\"font-weight: bold\">       Param # </span>┃\n",
       "┡━━━━━━━━━━━━━━━━━━━━━━━━━━━━━━━━━╇━━━━━━━━━━━━━━━━━━━━━━━━╇━━━━━━━━━━━━━━━┩\n",
       "│ reshape (<span style=\"color: #0087ff; text-decoration-color: #0087ff\">Reshape</span>)               │ (<span style=\"color: #00d7ff; text-decoration-color: #00d7ff\">None</span>, <span style=\"color: #00af00; text-decoration-color: #00af00\">8</span>, <span style=\"color: #00af00; text-decoration-color: #00af00\">8</span>, <span style=\"color: #00af00; text-decoration-color: #00af00\">1</span>)        │             <span style=\"color: #00af00; text-decoration-color: #00af00\">0</span> │\n",
       "├─────────────────────────────────┼────────────────────────┼───────────────┤\n",
       "│ conv2D_1 (<span style=\"color: #0087ff; text-decoration-color: #0087ff\">Conv2D</span>)               │ (<span style=\"color: #00d7ff; text-decoration-color: #00d7ff\">None</span>, <span style=\"color: #00af00; text-decoration-color: #00af00\">8</span>, <span style=\"color: #00af00; text-decoration-color: #00af00\">8</span>, <span style=\"color: #00af00; text-decoration-color: #00af00\">8</span>)        │            <span style=\"color: #00af00; text-decoration-color: #00af00\">80</span> │\n",
       "├─────────────────────────────────┼────────────────────────┼───────────────┤\n",
       "│ maxPooling2D (<span style=\"color: #0087ff; text-decoration-color: #0087ff\">MaxPooling2D</span>)     │ (<span style=\"color: #00d7ff; text-decoration-color: #00d7ff\">None</span>, <span style=\"color: #00af00; text-decoration-color: #00af00\">4</span>, <span style=\"color: #00af00; text-decoration-color: #00af00\">4</span>, <span style=\"color: #00af00; text-decoration-color: #00af00\">8</span>)        │             <span style=\"color: #00af00; text-decoration-color: #00af00\">0</span> │\n",
       "├─────────────────────────────────┼────────────────────────┼───────────────┤\n",
       "│ conv2D_2 (<span style=\"color: #0087ff; text-decoration-color: #0087ff\">Conv2D</span>)               │ (<span style=\"color: #00d7ff; text-decoration-color: #00d7ff\">None</span>, <span style=\"color: #00af00; text-decoration-color: #00af00\">4</span>, <span style=\"color: #00af00; text-decoration-color: #00af00\">4</span>, <span style=\"color: #00af00; text-decoration-color: #00af00\">16</span>)       │         <span style=\"color: #00af00; text-decoration-color: #00af00\">1,168</span> │\n",
       "├─────────────────────────────────┼────────────────────────┼───────────────┤\n",
       "│ flatten (<span style=\"color: #0087ff; text-decoration-color: #0087ff\">Flatten</span>)               │ (<span style=\"color: #00d7ff; text-decoration-color: #00d7ff\">None</span>, <span style=\"color: #00af00; text-decoration-color: #00af00\">256</span>)            │             <span style=\"color: #00af00; text-decoration-color: #00af00\">0</span> │\n",
       "├─────────────────────────────────┼────────────────────────┼───────────────┤\n",
       "│ dense_1 (<span style=\"color: #0087ff; text-decoration-color: #0087ff\">Dense</span>)                 │ (<span style=\"color: #00d7ff; text-decoration-color: #00d7ff\">None</span>, <span style=\"color: #00af00; text-decoration-color: #00af00\">32</span>)             │         <span style=\"color: #00af00; text-decoration-color: #00af00\">8,224</span> │\n",
       "├─────────────────────────────────┼────────────────────────┼───────────────┤\n",
       "│ dense_2 (<span style=\"color: #0087ff; text-decoration-color: #0087ff\">Dense</span>)                 │ (<span style=\"color: #00d7ff; text-decoration-color: #00d7ff\">None</span>, <span style=\"color: #00af00; text-decoration-color: #00af00\">3</span>)              │            <span style=\"color: #00af00; text-decoration-color: #00af00\">99</span> │\n",
       "└─────────────────────────────────┴────────────────────────┴───────────────┘\n",
       "</pre>\n"
      ],
      "text/plain": [
       "┏━━━━━━━━━━━━━━━━━━━━━━━━━━━━━━━━━┳━━━━━━━━━━━━━━━━━━━━━━━━┳━━━━━━━━━━━━━━━┓\n",
       "┃\u001b[1m \u001b[0m\u001b[1mLayer (type)                   \u001b[0m\u001b[1m \u001b[0m┃\u001b[1m \u001b[0m\u001b[1mOutput Shape          \u001b[0m\u001b[1m \u001b[0m┃\u001b[1m \u001b[0m\u001b[1m      Param #\u001b[0m\u001b[1m \u001b[0m┃\n",
       "┡━━━━━━━━━━━━━━━━━━━━━━━━━━━━━━━━━╇━━━━━━━━━━━━━━━━━━━━━━━━╇━━━━━━━━━━━━━━━┩\n",
       "│ reshape (\u001b[38;5;33mReshape\u001b[0m)               │ (\u001b[38;5;45mNone\u001b[0m, \u001b[38;5;34m8\u001b[0m, \u001b[38;5;34m8\u001b[0m, \u001b[38;5;34m1\u001b[0m)        │             \u001b[38;5;34m0\u001b[0m │\n",
       "├─────────────────────────────────┼────────────────────────┼───────────────┤\n",
       "│ conv2D_1 (\u001b[38;5;33mConv2D\u001b[0m)               │ (\u001b[38;5;45mNone\u001b[0m, \u001b[38;5;34m8\u001b[0m, \u001b[38;5;34m8\u001b[0m, \u001b[38;5;34m8\u001b[0m)        │            \u001b[38;5;34m80\u001b[0m │\n",
       "├─────────────────────────────────┼────────────────────────┼───────────────┤\n",
       "│ maxPooling2D (\u001b[38;5;33mMaxPooling2D\u001b[0m)     │ (\u001b[38;5;45mNone\u001b[0m, \u001b[38;5;34m4\u001b[0m, \u001b[38;5;34m4\u001b[0m, \u001b[38;5;34m8\u001b[0m)        │             \u001b[38;5;34m0\u001b[0m │\n",
       "├─────────────────────────────────┼────────────────────────┼───────────────┤\n",
       "│ conv2D_2 (\u001b[38;5;33mConv2D\u001b[0m)               │ (\u001b[38;5;45mNone\u001b[0m, \u001b[38;5;34m4\u001b[0m, \u001b[38;5;34m4\u001b[0m, \u001b[38;5;34m16\u001b[0m)       │         \u001b[38;5;34m1,168\u001b[0m │\n",
       "├─────────────────────────────────┼────────────────────────┼───────────────┤\n",
       "│ flatten (\u001b[38;5;33mFlatten\u001b[0m)               │ (\u001b[38;5;45mNone\u001b[0m, \u001b[38;5;34m256\u001b[0m)            │             \u001b[38;5;34m0\u001b[0m │\n",
       "├─────────────────────────────────┼────────────────────────┼───────────────┤\n",
       "│ dense_1 (\u001b[38;5;33mDense\u001b[0m)                 │ (\u001b[38;5;45mNone\u001b[0m, \u001b[38;5;34m32\u001b[0m)             │         \u001b[38;5;34m8,224\u001b[0m │\n",
       "├─────────────────────────────────┼────────────────────────┼───────────────┤\n",
       "│ dense_2 (\u001b[38;5;33mDense\u001b[0m)                 │ (\u001b[38;5;45mNone\u001b[0m, \u001b[38;5;34m3\u001b[0m)              │            \u001b[38;5;34m99\u001b[0m │\n",
       "└─────────────────────────────────┴────────────────────────┴───────────────┘\n"
      ]
     },
     "metadata": {},
     "output_type": "display_data"
    },
    {
     "data": {
      "text/html": [
       "<pre style=\"white-space:pre;overflow-x:auto;line-height:normal;font-family:Menlo,'DejaVu Sans Mono',consolas,'Courier New',monospace\"><span style=\"font-weight: bold\"> Total params: </span><span style=\"color: #00af00; text-decoration-color: #00af00\">9,571</span> (37.39 KB)\n",
       "</pre>\n"
      ],
      "text/plain": [
       "\u001b[1m Total params: \u001b[0m\u001b[38;5;34m9,571\u001b[0m (37.39 KB)\n"
      ]
     },
     "metadata": {},
     "output_type": "display_data"
    },
    {
     "data": {
      "text/html": [
       "<pre style=\"white-space:pre;overflow-x:auto;line-height:normal;font-family:Menlo,'DejaVu Sans Mono',consolas,'Courier New',monospace\"><span style=\"font-weight: bold\"> Trainable params: </span><span style=\"color: #00af00; text-decoration-color: #00af00\">9,571</span> (37.39 KB)\n",
       "</pre>\n"
      ],
      "text/plain": [
       "\u001b[1m Trainable params: \u001b[0m\u001b[38;5;34m9,571\u001b[0m (37.39 KB)\n"
      ]
     },
     "metadata": {},
     "output_type": "display_data"
    },
    {
     "data": {
      "text/html": [
       "<pre style=\"white-space:pre;overflow-x:auto;line-height:normal;font-family:Menlo,'DejaVu Sans Mono',consolas,'Courier New',monospace\"><span style=\"font-weight: bold\"> Non-trainable params: </span><span style=\"color: #00af00; text-decoration-color: #00af00\">0</span> (0.00 B)\n",
       "</pre>\n"
      ],
      "text/plain": [
       "\u001b[1m Non-trainable params: \u001b[0m\u001b[38;5;34m0\u001b[0m (0.00 B)\n"
      ]
     },
     "metadata": {},
     "output_type": "display_data"
    }
   ],
   "source": [
    "### visualize model architecture\n",
    "importlib.reload(helper)\n",
    "\n",
    "demo_model = helper.create_model()\n",
    "demo_model.summary()"
   ]
  },
  {
   "cell_type": "code",
   "execution_count": 76,
   "metadata": {},
   "outputs": [
    {
     "name": "stderr",
     "output_type": "stream",
     "text": [
      "  0%|          | 0/10 [00:00<?, ?it/s]"
     ]
    },
    {
     "name": "stdout",
     "output_type": "stream",
     "text": [
      "\u001b[1m23/23\u001b[0m \u001b[32m━━━━━━━━━━━━━━━━━━━━\u001b[0m\u001b[37m\u001b[0m \u001b[1m0s\u001b[0m 1ms/step - accuracy: 0.7768 - loss: 0.5569 - precision: 0.7925 - recall: 0.7461\n",
      "{'accuracy': 0.718367338180542, 'loss': 0.6961352229118347, 'precision': 0.740469217300415, 'recall': 0.6870748400688171}\n",
      "INFO:tensorflow:Assets written to: /tmp/tmp09f33q8w/assets\n"
     ]
    },
    {
     "name": "stderr",
     "output_type": "stream",
     "text": [
      "INFO:tensorflow:Assets written to: /tmp/tmp09f33q8w/assets\n"
     ]
    },
    {
     "name": "stdout",
     "output_type": "stream",
     "text": [
      "Saved artifact at '/tmp/tmp09f33q8w'. The following endpoints are available:\n",
      "\n",
      "* Endpoint 'serve'\n",
      "  args_0 (POSITIONAL_ONLY): TensorSpec(shape=(None, 64), dtype=tf.float32, name='keras_tensor_666')\n",
      "Output Type:\n",
      "  TensorSpec(shape=(None, 3), dtype=tf.float32, name=None)\n",
      "Captures:\n",
      "  129545621792448: TensorSpec(shape=(), dtype=tf.resource, name=None)\n",
      "  129545621797376: TensorSpec(shape=(), dtype=tf.resource, name=None)\n",
      "  129545621798432: TensorSpec(shape=(), dtype=tf.resource, name=None)\n",
      "  129545621797728: TensorSpec(shape=(), dtype=tf.resource, name=None)\n",
      "  129545622373648: TensorSpec(shape=(), dtype=tf.resource, name=None)\n",
      "  129545622373120: TensorSpec(shape=(), dtype=tf.resource, name=None)\n",
      "  129545622376288: TensorSpec(shape=(), dtype=tf.resource, name=None)\n",
      "  129545622374528: TensorSpec(shape=(), dtype=tf.resource, name=None)\n"
     ]
    },
    {
     "name": "stderr",
     "output_type": "stream",
     "text": [
      "W0000 00:00:1739896279.486858  417667 tf_tfl_flatbuffer_helpers.cc:365] Ignored output_format.\n",
      "W0000 00:00:1739896279.486869  417667 tf_tfl_flatbuffer_helpers.cc:368] Ignored drop_control_dependency.\n",
      " 10%|█         | 1/10 [00:08<01:14,  8.33s/it]/home/paula/.local/lib/python3.10/site-packages/keras/src/layers/reshaping/reshape.py:39: UserWarning: Do not pass an `input_shape`/`input_dim` argument to a layer. When using Sequential models, prefer using an `Input(shape)` object as the first layer in the model instead.\n",
      "  super().__init__(**kwargs)\n",
      "/home/paula/.local/lib/python3.10/site-packages/keras/src/layers/convolutional/base_conv.py:107: UserWarning: Do not pass an `input_shape`/`input_dim` argument to a layer. When using Sequential models, prefer using an `Input(shape)` object as the first layer in the model instead.\n",
      "  super().__init__(activity_regularizer=activity_regularizer, **kwargs)\n"
     ]
    },
    {
     "name": "stdout",
     "output_type": "stream",
     "text": [
      "TensorFlow Lite model:\n",
      "tflite: acc=0.718367, prec=0.738718, reca=0.718819\n",
      "\u001b[1m23/23\u001b[0m \u001b[32m━━━━━━━━━━━━━━━━━━━━\u001b[0m\u001b[37m\u001b[0m \u001b[1m0s\u001b[0m 953us/step - accuracy: 0.8372 - loss: 0.3884 - precision: 0.8477 - recall: 0.8258\n",
      "{'accuracy': 0.7836734652519226, 'loss': 0.5261311531066895, 'precision': 0.8066378235816956, 'recall': 0.7605442404747009}\n",
      "INFO:tensorflow:Assets written to: /tmp/tmp59aowau6/assets\n"
     ]
    },
    {
     "name": "stderr",
     "output_type": "stream",
     "text": [
      "INFO:tensorflow:Assets written to: /tmp/tmp59aowau6/assets\n"
     ]
    },
    {
     "name": "stdout",
     "output_type": "stream",
     "text": [
      "Saved artifact at '/tmp/tmp59aowau6'. The following endpoints are available:\n",
      "\n",
      "* Endpoint 'serve'\n",
      "  args_0 (POSITIONAL_ONLY): TensorSpec(shape=(None, 64), dtype=tf.float32, name='keras_tensor_674')\n",
      "Output Type:\n",
      "  TensorSpec(shape=(None, 3), dtype=tf.float32, name=None)\n",
      "Captures:\n",
      "  129545017911152: TensorSpec(shape=(), dtype=tf.resource, name=None)\n",
      "  129545445577600: TensorSpec(shape=(), dtype=tf.resource, name=None)\n",
      "  129545018283232: TensorSpec(shape=(), dtype=tf.resource, name=None)\n",
      "  129545018279536: TensorSpec(shape=(), dtype=tf.resource, name=None)\n",
      "  129545622387728: TensorSpec(shape=(), dtype=tf.resource, name=None)\n",
      "  129545018281296: TensorSpec(shape=(), dtype=tf.resource, name=None)\n",
      "  129545018282176: TensorSpec(shape=(), dtype=tf.resource, name=None)\n",
      "  129545018284464: TensorSpec(shape=(), dtype=tf.resource, name=None)\n"
     ]
    },
    {
     "name": "stderr",
     "output_type": "stream",
     "text": [
      "W0000 00:00:1739896295.901300  417667 tf_tfl_flatbuffer_helpers.cc:365] Ignored output_format.\n",
      "W0000 00:00:1739896295.901312  417667 tf_tfl_flatbuffer_helpers.cc:368] Ignored drop_control_dependency.\n",
      " 20%|██        | 2/10 [00:24<01:44, 13.07s/it]/home/paula/.local/lib/python3.10/site-packages/keras/src/layers/reshaping/reshape.py:39: UserWarning: Do not pass an `input_shape`/`input_dim` argument to a layer. When using Sequential models, prefer using an `Input(shape)` object as the first layer in the model instead.\n",
      "  super().__init__(**kwargs)\n",
      "/home/paula/.local/lib/python3.10/site-packages/keras/src/layers/convolutional/base_conv.py:107: UserWarning: Do not pass an `input_shape`/`input_dim` argument to a layer. When using Sequential models, prefer using an `Input(shape)` object as the first layer in the model instead.\n",
      "  super().__init__(activity_regularizer=activity_regularizer, **kwargs)\n"
     ]
    },
    {
     "name": "stdout",
     "output_type": "stream",
     "text": [
      "TensorFlow Lite model:\n",
      "tflite: acc=0.783673, prec=0.805720, reca=0.782755\n",
      "\u001b[1m23/23\u001b[0m \u001b[32m━━━━━━━━━━━━━━━━━━━━\u001b[0m\u001b[37m\u001b[0m \u001b[1m0s\u001b[0m 1ms/step - accuracy: 0.8512 - loss: 0.4302 - precision: 0.8711 - recall: 0.8253\n",
      "{'accuracy': 0.761904776096344, 'loss': 0.6286112070083618, 'precision': 0.7890855669975281, 'recall': 0.7278911471366882}\n",
      "INFO:tensorflow:Assets written to: /tmp/tmp8gazpmu7/assets\n"
     ]
    },
    {
     "name": "stderr",
     "output_type": "stream",
     "text": [
      "INFO:tensorflow:Assets written to: /tmp/tmp8gazpmu7/assets\n"
     ]
    },
    {
     "name": "stdout",
     "output_type": "stream",
     "text": [
      "Saved artifact at '/tmp/tmp8gazpmu7'. The following endpoints are available:\n",
      "\n",
      "* Endpoint 'serve'\n",
      "  args_0 (POSITIONAL_ONLY): TensorSpec(shape=(None, 64), dtype=tf.float32, name='keras_tensor_682')\n",
      "Output Type:\n",
      "  TensorSpec(shape=(None, 3), dtype=tf.float32, name=None)\n",
      "Captures:\n",
      "  129545011264352: TensorSpec(shape=(), dtype=tf.resource, name=None)\n",
      "  129545011265232: TensorSpec(shape=(), dtype=tf.resource, name=None)\n",
      "  129545011263296: TensorSpec(shape=(), dtype=tf.resource, name=None)\n",
      "  129545011319856: TensorSpec(shape=(), dtype=tf.resource, name=None)\n",
      "  129545011318448: TensorSpec(shape=(), dtype=tf.resource, name=None)\n",
      "  129545011316512: TensorSpec(shape=(), dtype=tf.resource, name=None)\n",
      "  129545011318976: TensorSpec(shape=(), dtype=tf.resource, name=None)\n",
      "  129545011319504: TensorSpec(shape=(), dtype=tf.resource, name=None)\n"
     ]
    },
    {
     "name": "stderr",
     "output_type": "stream",
     "text": [
      "W0000 00:00:1739896303.350581  417667 tf_tfl_flatbuffer_helpers.cc:365] Ignored output_format.\n",
      "W0000 00:00:1739896303.350593  417667 tf_tfl_flatbuffer_helpers.cc:368] Ignored drop_control_dependency.\n",
      " 30%|███       | 3/10 [00:32<01:13, 10.50s/it]/home/paula/.local/lib/python3.10/site-packages/keras/src/layers/reshaping/reshape.py:39: UserWarning: Do not pass an `input_shape`/`input_dim` argument to a layer. When using Sequential models, prefer using an `Input(shape)` object as the first layer in the model instead.\n",
      "  super().__init__(**kwargs)\n",
      "/home/paula/.local/lib/python3.10/site-packages/keras/src/layers/convolutional/base_conv.py:107: UserWarning: Do not pass an `input_shape`/`input_dim` argument to a layer. When using Sequential models, prefer using an `Input(shape)` object as the first layer in the model instead.\n",
      "  super().__init__(activity_regularizer=activity_regularizer, **kwargs)\n"
     ]
    },
    {
     "name": "stdout",
     "output_type": "stream",
     "text": [
      "TensorFlow Lite model:\n",
      "tflite: acc=0.761905, prec=0.785185, reca=0.761626\n",
      "\u001b[1m23/23\u001b[0m \u001b[32m━━━━━━━━━━━━━━━━━━━━\u001b[0m\u001b[37m\u001b[0m \u001b[1m0s\u001b[0m 916us/step - accuracy: 0.8833 - loss: 0.3362 - precision: 0.9041 - recall: 0.8669\n",
      "{'accuracy': 0.8176870942115784, 'loss': 0.4838019609451294, 'precision': 0.8356940746307373, 'recall': 0.8027210831642151}\n",
      "INFO:tensorflow:Assets written to: /tmp/tmpflcw9xj4/assets\n"
     ]
    },
    {
     "name": "stderr",
     "output_type": "stream",
     "text": [
      "INFO:tensorflow:Assets written to: /tmp/tmpflcw9xj4/assets\n"
     ]
    },
    {
     "name": "stdout",
     "output_type": "stream",
     "text": [
      "Saved artifact at '/tmp/tmpflcw9xj4'. The following endpoints are available:\n",
      "\n",
      "* Endpoint 'serve'\n",
      "  args_0 (POSITIONAL_ONLY): TensorSpec(shape=(None, 64), dtype=tf.float32, name='keras_tensor_690')\n",
      "Output Type:\n",
      "  TensorSpec(shape=(None, 3), dtype=tf.float32, name=None)\n",
      "Captures:\n",
      "  129545007364256: TensorSpec(shape=(), dtype=tf.resource, name=None)\n",
      "  129545007359152: TensorSpec(shape=(), dtype=tf.resource, name=None)\n",
      "  129545007363552: TensorSpec(shape=(), dtype=tf.resource, name=None)\n",
      "  129545007399152: TensorSpec(shape=(), dtype=tf.resource, name=None)\n",
      "  129545011323728: TensorSpec(shape=(), dtype=tf.resource, name=None)\n",
      "  129545007401088: TensorSpec(shape=(), dtype=tf.resource, name=None)\n",
      "  129545007403024: TensorSpec(shape=(), dtype=tf.resource, name=None)\n",
      "  129545007402144: TensorSpec(shape=(), dtype=tf.resource, name=None)\n"
     ]
    },
    {
     "name": "stderr",
     "output_type": "stream",
     "text": [
      "W0000 00:00:1739896316.169784  417667 tf_tfl_flatbuffer_helpers.cc:365] Ignored output_format.\n",
      "W0000 00:00:1739896316.169801  417667 tf_tfl_flatbuffer_helpers.cc:368] Ignored drop_control_dependency.\n",
      " 40%|████      | 4/10 [00:44<01:08, 11.42s/it]/home/paula/.local/lib/python3.10/site-packages/keras/src/layers/reshaping/reshape.py:39: UserWarning: Do not pass an `input_shape`/`input_dim` argument to a layer. When using Sequential models, prefer using an `Input(shape)` object as the first layer in the model instead.\n",
      "  super().__init__(**kwargs)\n",
      "/home/paula/.local/lib/python3.10/site-packages/keras/src/layers/convolutional/base_conv.py:107: UserWarning: Do not pass an `input_shape`/`input_dim` argument to a layer. When using Sequential models, prefer using an `Input(shape)` object as the first layer in the model instead.\n",
      "  super().__init__(activity_regularizer=activity_regularizer, **kwargs)\n"
     ]
    },
    {
     "name": "stdout",
     "output_type": "stream",
     "text": [
      "TensorFlow Lite model:\n",
      "tflite: acc=0.817687, prec=0.835252, reca=0.820774\n",
      "\u001b[1m23/23\u001b[0m \u001b[32m━━━━━━━━━━━━━━━━━━━━\u001b[0m\u001b[37m\u001b[0m \u001b[1m0s\u001b[0m 2ms/step - accuracy: 0.8011 - loss: 0.4511 - precision: 0.8242 - recall: 0.7831\n",
      "{'accuracy': 0.7605442404747009, 'loss': 0.5985733866691589, 'precision': 0.7874817848205566, 'recall': 0.7360544204711914}\n",
      "INFO:tensorflow:Assets written to: /tmp/tmpj6ztiitc/assets\n"
     ]
    },
    {
     "name": "stderr",
     "output_type": "stream",
     "text": [
      "INFO:tensorflow:Assets written to: /tmp/tmpj6ztiitc/assets\n"
     ]
    },
    {
     "name": "stdout",
     "output_type": "stream",
     "text": [
      "Saved artifact at '/tmp/tmpj6ztiitc'. The following endpoints are available:\n",
      "\n",
      "* Endpoint 'serve'\n",
      "  args_0 (POSITIONAL_ONLY): TensorSpec(shape=(None, 64), dtype=tf.float32, name='keras_tensor_698')\n",
      "Output Type:\n",
      "  TensorSpec(shape=(None, 3), dtype=tf.float32, name=None)\n",
      "Captures:\n",
      "  129544838475344: TensorSpec(shape=(), dtype=tf.resource, name=None)\n",
      "  129544828465600: TensorSpec(shape=(), dtype=tf.resource, name=None)\n",
      "  129544828464192: TensorSpec(shape=(), dtype=tf.resource, name=None)\n",
      "  129544828468064: TensorSpec(shape=(), dtype=tf.resource, name=None)\n",
      "  129544828454864: TensorSpec(shape=(), dtype=tf.resource, name=None)\n",
      "  129544828453984: TensorSpec(shape=(), dtype=tf.resource, name=None)\n",
      "  129544828535552: TensorSpec(shape=(), dtype=tf.resource, name=None)\n",
      "  129544828536608: TensorSpec(shape=(), dtype=tf.resource, name=None)\n"
     ]
    },
    {
     "name": "stderr",
     "output_type": "stream",
     "text": [
      "W0000 00:00:1739896330.145536  417667 tf_tfl_flatbuffer_helpers.cc:365] Ignored output_format.\n",
      "W0000 00:00:1739896330.145549  417667 tf_tfl_flatbuffer_helpers.cc:368] Ignored drop_control_dependency.\n",
      " 50%|█████     | 5/10 [00:58<01:01, 12.34s/it]/home/paula/.local/lib/python3.10/site-packages/keras/src/layers/reshaping/reshape.py:39: UserWarning: Do not pass an `input_shape`/`input_dim` argument to a layer. When using Sequential models, prefer using an `Input(shape)` object as the first layer in the model instead.\n",
      "  super().__init__(**kwargs)\n",
      "/home/paula/.local/lib/python3.10/site-packages/keras/src/layers/convolutional/base_conv.py:107: UserWarning: Do not pass an `input_shape`/`input_dim` argument to a layer. When using Sequential models, prefer using an `Input(shape)` object as the first layer in the model instead.\n",
      "  super().__init__(activity_regularizer=activity_regularizer, **kwargs)\n"
     ]
    },
    {
     "name": "stdout",
     "output_type": "stream",
     "text": [
      "TensorFlow Lite model:\n",
      "tflite: acc=0.760544, prec=0.766613, reca=0.751744\n",
      "\u001b[1m23/23\u001b[0m \u001b[32m━━━━━━━━━━━━━━━━━━━━\u001b[0m\u001b[37m\u001b[0m \u001b[1m0s\u001b[0m 1ms/step - accuracy: 0.8382 - loss: 0.4556 - precision: 0.8435 - recall: 0.8219\n",
      "{'accuracy': 0.7673469185829163, 'loss': 0.6437107920646667, 'precision': 0.7766714096069336, 'recall': 0.7428571581840515}\n",
      "INFO:tensorflow:Assets written to: /tmp/tmpmzbb7sbq/assets\n"
     ]
    },
    {
     "name": "stderr",
     "output_type": "stream",
     "text": [
      "INFO:tensorflow:Assets written to: /tmp/tmpmzbb7sbq/assets\n"
     ]
    },
    {
     "name": "stdout",
     "output_type": "stream",
     "text": [
      "Saved artifact at '/tmp/tmpmzbb7sbq'. The following endpoints are available:\n",
      "\n",
      "* Endpoint 'serve'\n",
      "  args_0 (POSITIONAL_ONLY): TensorSpec(shape=(None, 64), dtype=tf.float32, name='keras_tensor_706')\n",
      "Output Type:\n",
      "  TensorSpec(shape=(None, 3), dtype=tf.float32, name=None)\n",
      "Captures:\n",
      "  129544805033840: TensorSpec(shape=(), dtype=tf.resource, name=None)\n",
      "  129544803642080: TensorSpec(shape=(), dtype=tf.resource, name=None)\n",
      "  129544803645776: TensorSpec(shape=(), dtype=tf.resource, name=None)\n",
      "  129544803640848: TensorSpec(shape=(), dtype=tf.resource, name=None)\n",
      "  129544803644192: TensorSpec(shape=(), dtype=tf.resource, name=None)\n",
      "  129544803645952: TensorSpec(shape=(), dtype=tf.resource, name=None)\n",
      "  129544803644016: TensorSpec(shape=(), dtype=tf.resource, name=None)\n",
      "  129544803641904: TensorSpec(shape=(), dtype=tf.resource, name=None)\n"
     ]
    },
    {
     "name": "stderr",
     "output_type": "stream",
     "text": [
      "W0000 00:00:1739896339.435876  417667 tf_tfl_flatbuffer_helpers.cc:365] Ignored output_format.\n",
      "W0000 00:00:1739896339.435887  417667 tf_tfl_flatbuffer_helpers.cc:368] Ignored drop_control_dependency.\n",
      " 60%|██████    | 6/10 [01:08<00:45, 11.30s/it]/home/paula/.local/lib/python3.10/site-packages/keras/src/layers/reshaping/reshape.py:39: UserWarning: Do not pass an `input_shape`/`input_dim` argument to a layer. When using Sequential models, prefer using an `Input(shape)` object as the first layer in the model instead.\n",
      "  super().__init__(**kwargs)\n",
      "/home/paula/.local/lib/python3.10/site-packages/keras/src/layers/convolutional/base_conv.py:107: UserWarning: Do not pass an `input_shape`/`input_dim` argument to a layer. When using Sequential models, prefer using an `Input(shape)` object as the first layer in the model instead.\n",
      "  super().__init__(activity_regularizer=activity_regularizer, **kwargs)\n"
     ]
    },
    {
     "name": "stdout",
     "output_type": "stream",
     "text": [
      "TensorFlow Lite model:\n",
      "tflite: acc=0.767347, prec=0.809740, reca=0.770402\n",
      "\u001b[1m23/23\u001b[0m \u001b[32m━━━━━━━━━━━━━━━━━━━━\u001b[0m\u001b[37m\u001b[0m \u001b[1m0s\u001b[0m 1ms/step - accuracy: 0.8069 - loss: 0.4372 - precision: 0.8269 - recall: 0.7794\n",
      "{'accuracy': 0.7700680494308472, 'loss': 0.5528236627578735, 'precision': 0.7950219511985779, 'recall': 0.7387754917144775}\n",
      "INFO:tensorflow:Assets written to: /tmp/tmpxe1n8zx3/assets\n"
     ]
    },
    {
     "name": "stderr",
     "output_type": "stream",
     "text": [
      "INFO:tensorflow:Assets written to: /tmp/tmpxe1n8zx3/assets\n"
     ]
    },
    {
     "name": "stdout",
     "output_type": "stream",
     "text": [
      "Saved artifact at '/tmp/tmpxe1n8zx3'. The following endpoints are available:\n",
      "\n",
      "* Endpoint 'serve'\n",
      "  args_0 (POSITIONAL_ONLY): TensorSpec(shape=(None, 64), dtype=tf.float32, name='keras_tensor_714')\n",
      "Output Type:\n",
      "  TensorSpec(shape=(None, 3), dtype=tf.float32, name=None)\n",
      "Captures:\n",
      "  129544648141008: TensorSpec(shape=(), dtype=tf.resource, name=None)\n",
      "  129544637244240: TensorSpec(shape=(), dtype=tf.resource, name=None)\n",
      "  129544637248288: TensorSpec(shape=(), dtype=tf.resource, name=None)\n",
      "  129544637242832: TensorSpec(shape=(), dtype=tf.resource, name=None)\n",
      "  129544668643568: TensorSpec(shape=(), dtype=tf.resource, name=None)\n",
      "  129544637244768: TensorSpec(shape=(), dtype=tf.resource, name=None)\n",
      "  129544637249520: TensorSpec(shape=(), dtype=tf.resource, name=None)\n",
      "  129544637247584: TensorSpec(shape=(), dtype=tf.resource, name=None)\n"
     ]
    },
    {
     "name": "stderr",
     "output_type": "stream",
     "text": [
      "W0000 00:00:1739896353.549577  417667 tf_tfl_flatbuffer_helpers.cc:365] Ignored output_format.\n",
      "W0000 00:00:1739896353.549597  417667 tf_tfl_flatbuffer_helpers.cc:368] Ignored drop_control_dependency.\n",
      " 70%|███████   | 7/10 [01:22<00:36, 12.23s/it]/home/paula/.local/lib/python3.10/site-packages/keras/src/layers/reshaping/reshape.py:39: UserWarning: Do not pass an `input_shape`/`input_dim` argument to a layer. When using Sequential models, prefer using an `Input(shape)` object as the first layer in the model instead.\n",
      "  super().__init__(**kwargs)\n",
      "/home/paula/.local/lib/python3.10/site-packages/keras/src/layers/convolutional/base_conv.py:107: UserWarning: Do not pass an `input_shape`/`input_dim` argument to a layer. When using Sequential models, prefer using an `Input(shape)` object as the first layer in the model instead.\n",
      "  super().__init__(activity_regularizer=activity_regularizer, **kwargs)\n"
     ]
    },
    {
     "name": "stdout",
     "output_type": "stream",
     "text": [
      "TensorFlow Lite model:\n",
      "tflite: acc=0.770068, prec=0.772008, reca=0.771255\n",
      "\u001b[1m23/23\u001b[0m \u001b[32m━━━━━━━━━━━━━━━━━━━━\u001b[0m\u001b[37m\u001b[0m \u001b[1m0s\u001b[0m 1ms/step - accuracy: 0.8726 - loss: 0.3263 - precision: 0.8887 - recall: 0.8628\n",
      "{'accuracy': 0.8040816187858582, 'loss': 0.47241759300231934, 'precision': 0.8269503712654114, 'recall': 0.7931972742080688}\n",
      "INFO:tensorflow:Assets written to: /tmp/tmpqwpp_7m9/assets\n"
     ]
    },
    {
     "name": "stderr",
     "output_type": "stream",
     "text": [
      "INFO:tensorflow:Assets written to: /tmp/tmpqwpp_7m9/assets\n"
     ]
    },
    {
     "name": "stdout",
     "output_type": "stream",
     "text": [
      "Saved artifact at '/tmp/tmpqwpp_7m9'. The following endpoints are available:\n",
      "\n",
      "* Endpoint 'serve'\n",
      "  args_0 (POSITIONAL_ONLY): TensorSpec(shape=(None, 64), dtype=tf.float32, name='keras_tensor_722')\n",
      "Output Type:\n",
      "  TensorSpec(shape=(None, 3), dtype=tf.float32, name=None)\n",
      "Captures:\n",
      "  129544803654592: TensorSpec(shape=(), dtype=tf.resource, name=None)\n",
      "  129544806757504: TensorSpec(shape=(), dtype=tf.resource, name=None)\n",
      "  129544806746064: TensorSpec(shape=(), dtype=tf.resource, name=None)\n",
      "  129544828534848: TensorSpec(shape=(), dtype=tf.resource, name=None)\n",
      "  129544828548224: TensorSpec(shape=(), dtype=tf.resource, name=None)\n",
      "  129544828540832: TensorSpec(shape=(), dtype=tf.resource, name=None)\n",
      "  129544828549632: TensorSpec(shape=(), dtype=tf.resource, name=None)\n",
      "  129544828535200: TensorSpec(shape=(), dtype=tf.resource, name=None)\n"
     ]
    },
    {
     "name": "stderr",
     "output_type": "stream",
     "text": [
      "W0000 00:00:1739896372.196406  417667 tf_tfl_flatbuffer_helpers.cc:365] Ignored output_format.\n",
      "W0000 00:00:1739896372.196448  417667 tf_tfl_flatbuffer_helpers.cc:368] Ignored drop_control_dependency.\n",
      " 80%|████████  | 8/10 [01:41<00:28, 14.28s/it]/home/paula/.local/lib/python3.10/site-packages/keras/src/layers/reshaping/reshape.py:39: UserWarning: Do not pass an `input_shape`/`input_dim` argument to a layer. When using Sequential models, prefer using an `Input(shape)` object as the first layer in the model instead.\n",
      "  super().__init__(**kwargs)\n",
      "/home/paula/.local/lib/python3.10/site-packages/keras/src/layers/convolutional/base_conv.py:107: UserWarning: Do not pass an `input_shape`/`input_dim` argument to a layer. When using Sequential models, prefer using an `Input(shape)` object as the first layer in the model instead.\n",
      "  super().__init__(activity_regularizer=activity_regularizer, **kwargs)\n"
     ]
    },
    {
     "name": "stdout",
     "output_type": "stream",
     "text": [
      "TensorFlow Lite model:\n",
      "tflite: acc=0.804082, prec=0.823688, reca=0.801818\n",
      "\u001b[1m23/23\u001b[0m \u001b[32m━━━━━━━━━━━━━━━━━━━━\u001b[0m\u001b[37m\u001b[0m \u001b[1m0s\u001b[0m 1ms/step - accuracy: 0.8076 - loss: 0.4879 - precision: 0.8291 - recall: 0.7704\n",
      "{'accuracy': 0.7469387650489807, 'loss': 0.6352398991584778, 'precision': 0.7848485112190247, 'recall': 0.7047619223594666}\n",
      "INFO:tensorflow:Assets written to: /tmp/tmpij7yf8re/assets\n"
     ]
    },
    {
     "name": "stderr",
     "output_type": "stream",
     "text": [
      "INFO:tensorflow:Assets written to: /tmp/tmpij7yf8re/assets\n"
     ]
    },
    {
     "name": "stdout",
     "output_type": "stream",
     "text": [
      "Saved artifact at '/tmp/tmpij7yf8re'. The following endpoints are available:\n",
      "\n",
      "* Endpoint 'serve'\n",
      "  args_0 (POSITIONAL_ONLY): TensorSpec(shape=(None, 64), dtype=tf.float32, name='keras_tensor_730')\n",
      "Output Type:\n",
      "  TensorSpec(shape=(None, 3), dtype=tf.float32, name=None)\n",
      "Captures:\n",
      "  129545622047024: TensorSpec(shape=(), dtype=tf.resource, name=None)\n",
      "  129545454816592: TensorSpec(shape=(), dtype=tf.resource, name=None)\n",
      "  129545448685264: TensorSpec(shape=(), dtype=tf.resource, name=None)\n",
      "  129545454821696: TensorSpec(shape=(), dtype=tf.resource, name=None)\n",
      "  129545448681568: TensorSpec(shape=(), dtype=tf.resource, name=None)\n",
      "  129547579072480: TensorSpec(shape=(), dtype=tf.resource, name=None)\n",
      "  129547579077936: TensorSpec(shape=(), dtype=tf.resource, name=None)\n",
      "  129547579076000: TensorSpec(shape=(), dtype=tf.resource, name=None)\n"
     ]
    },
    {
     "name": "stderr",
     "output_type": "stream",
     "text": [
      "W0000 00:00:1739896381.308697  417667 tf_tfl_flatbuffer_helpers.cc:365] Ignored output_format.\n",
      "W0000 00:00:1739896381.308726  417667 tf_tfl_flatbuffer_helpers.cc:368] Ignored drop_control_dependency.\n",
      " 90%|█████████ | 9/10 [01:50<00:12, 12.66s/it]/home/paula/.local/lib/python3.10/site-packages/keras/src/layers/reshaping/reshape.py:39: UserWarning: Do not pass an `input_shape`/`input_dim` argument to a layer. When using Sequential models, prefer using an `Input(shape)` object as the first layer in the model instead.\n",
      "  super().__init__(**kwargs)\n",
      "/home/paula/.local/lib/python3.10/site-packages/keras/src/layers/convolutional/base_conv.py:107: UserWarning: Do not pass an `input_shape`/`input_dim` argument to a layer. When using Sequential models, prefer using an `Input(shape)` object as the first layer in the model instead.\n",
      "  super().__init__(activity_regularizer=activity_regularizer, **kwargs)\n"
     ]
    },
    {
     "name": "stdout",
     "output_type": "stream",
     "text": [
      "TensorFlow Lite model:\n",
      "tflite: acc=0.746939, prec=0.767913, reca=0.745927\n",
      "\u001b[1m23/23\u001b[0m \u001b[32m━━━━━━━━━━━━━━━━━━━━\u001b[0m\u001b[37m\u001b[0m \u001b[1m0s\u001b[0m 1ms/step - accuracy: 0.7902 - loss: 0.4917 - precision: 0.8164 - recall: 0.7596\n",
      "{'accuracy': 0.7455782294273376, 'loss': 0.6402537822723389, 'precision': 0.779104471206665, 'recall': 0.7102040648460388}\n",
      "INFO:tensorflow:Assets written to: /tmp/tmp6lz45uew/assets\n"
     ]
    },
    {
     "name": "stderr",
     "output_type": "stream",
     "text": [
      "INFO:tensorflow:Assets written to: /tmp/tmp6lz45uew/assets\n"
     ]
    },
    {
     "name": "stdout",
     "output_type": "stream",
     "text": [
      "Saved artifact at '/tmp/tmp6lz45uew'. The following endpoints are available:\n",
      "\n",
      "* Endpoint 'serve'\n",
      "  args_0 (POSITIONAL_ONLY): TensorSpec(shape=(None, 64), dtype=tf.float32, name='keras_tensor_738')\n",
      "Output Type:\n",
      "  TensorSpec(shape=(None, 3), dtype=tf.float32, name=None)\n",
      "Captures:\n",
      "  129545419574256: TensorSpec(shape=(), dtype=tf.resource, name=None)\n",
      "  129545416506032: TensorSpec(shape=(), dtype=tf.resource, name=None)\n",
      "  129545416506384: TensorSpec(shape=(), dtype=tf.resource, name=None)\n",
      "  129545419108448: TensorSpec(shape=(), dtype=tf.resource, name=None)\n",
      "  129545419111088: TensorSpec(shape=(), dtype=tf.resource, name=None)\n",
      "  129545419096304: TensorSpec(shape=(), dtype=tf.resource, name=None)\n",
      "  129545419099648: TensorSpec(shape=(), dtype=tf.resource, name=None)\n",
      "  129545419103168: TensorSpec(shape=(), dtype=tf.resource, name=None)\n"
     ]
    },
    {
     "name": "stderr",
     "output_type": "stream",
     "text": [
      "W0000 00:00:1739896389.114050  417667 tf_tfl_flatbuffer_helpers.cc:365] Ignored output_format.\n",
      "W0000 00:00:1739896389.114076  417667 tf_tfl_flatbuffer_helpers.cc:368] Ignored drop_control_dependency.\n",
      "100%|██████████| 10/10 [01:57<00:00, 11.80s/it]"
     ]
    },
    {
     "name": "stdout",
     "output_type": "stream",
     "text": [
      "TensorFlow Lite model:\n",
      "tflite: acc=0.745578, prec=0.756949, reca=0.751130\n"
     ]
    },
    {
     "name": "stderr",
     "output_type": "stream",
     "text": [
      "\n"
     ]
    }
   ],
   "source": [
    "### K-fold Cross Validation model evaluation\n",
    "kfold = KFold(n_splits=10, shuffle=True)\n",
    "results = []\n",
    "for train, test in tqdm(kfold.split(data_augmented, labels_augmented), total = 10):\n",
    "    # Define early stopping callback to monitor validation loss\n",
    "    early_stopping = EarlyStopping(monitor='val_loss', patience=4)\n",
    "\n",
    "    # Split the augmented data into training and testing sets\n",
    "    X_train, y_train, X_test, y_test = data_augmented[train], labels_augmented[train], data_augmented[test], labels_augmented[test]\n",
    "\n",
    "    model = helper.create_model()\n",
    "\n",
    "    # Train the model\n",
    "    history = model.fit(X_train, y_train, epochs=200, batch_size=8, validation_split=0.1, callbacks=[early_stopping], verbose=0)\n",
    "\n",
    "    # Evaluate the model\n",
    "    metrics = model.evaluate(X_test, y_test, return_dict=True)\n",
    "    print(metrics)\n",
    "    \n",
    "    tflite_model = helper.convert_tflite_model(model)\n",
    "    \n",
    "    accuracy,precision,recall = helper.test_tflite(tflite_model, X_test, y_test)\n",
    "    print('tflite: acc={:f}, prec={:f}, reca={:f}'.format(accuracy,sum(precision)/len(precision),sum(recall)/len(recall)))\n",
    "\n",
    "    result = {\n",
    "        'metrics': metrics,\n",
    "        'tflite_metrics': {\n",
    "            'accuracy': accuracy,\n",
    "            'precision': precision,\n",
    "            'recall': recall\n",
    "        }\n",
    "    }\n",
    "    results.append(result)\n",
    "\n",
    "accuracies = np.array([d['metrics']['accuracy'] for d in results])\n",
    "precisions = np.array([d['metrics']['precision'] for d in results])\n",
    "recalls = np.array([d['metrics']['recall'] for d in results])\n",
    "losses = np.array([d['metrics']['loss'] for d in results])\n",
    "tflite_accuracies = np.array([d['tflite_metrics']['accuracy'] for d in results])\n",
    "tflite_precisions = np.array([d['tflite_metrics']['precision'] for d in results])\n",
    "tflite_recalls = np.array([d['tflite_metrics']['recall'] for d in results])\n",
    "\n",
    "# print final metrics and tflite metrics\n",
    "with open('./training/test_results.txt', 'w') as f:\n",
    "\tf.write('Average scores for tensorflow model:\\n')\n",
    "\tf.write(f'> Accuracy: {np.round(np.mean(accuracies),3)} (+- {np.round(np.std(accuracies),3)})\\n')\n",
    "\tf.write(f'> Precision: {np.round(np.mean(precisions),3)} (+- {np.round(np.std(precisions),3)})\\n')\n",
    "\tf.write(f'> Recall: {np.round(np.mean(recalls),3)} (+- {np.round(np.std(recalls),3)})\\n')\n",
    "\tf.write(f'> Loss: {np.round(np.mean(losses),3)} (+- {np.round(np.std(losses),3)})\\n')\n",
    "\tf.write('Average scores for tflite:\\n')\n",
    "\tf.write(f'> Accuracy: {np.round(np.mean(tflite_accuracies),3)} (+- {np.round(np.std(tflite_accuracies),3)})\\n')\n",
    "\tf.write(f'> Precision: {np.round(np.mean(tflite_precisions),3)} (+- {np.round(np.std(tflite_precisions),3)})\\n')\n",
    "\tf.write(f'> Recall: {np.round(np.mean(tflite_recalls),3)} (+- {np.round(np.std(tflite_recalls),3)})\\n')"
   ]
  },
  {
   "cell_type": "code",
   "execution_count": 77,
   "metadata": {},
   "outputs": [
    {
     "name": "stderr",
     "output_type": "stream",
     "text": [
      "/home/paula/.local/lib/python3.10/site-packages/keras/src/layers/reshaping/reshape.py:39: UserWarning: Do not pass an `input_shape`/`input_dim` argument to a layer. When using Sequential models, prefer using an `Input(shape)` object as the first layer in the model instead.\n",
      "  super().__init__(**kwargs)\n",
      "/home/paula/.local/lib/python3.10/site-packages/keras/src/layers/convolutional/base_conv.py:107: UserWarning: Do not pass an `input_shape`/`input_dim` argument to a layer. When using Sequential models, prefer using an `Input(shape)` object as the first layer in the model instead.\n",
      "  super().__init__(activity_regularizer=activity_regularizer, **kwargs)\n"
     ]
    },
    {
     "data": {
      "image/png": "[encoded data removed]",
      "text/plain": [
       "<Figure size 640x480 with 1 Axes>"
      ]
     },
     "metadata": {},
     "output_type": "display_data"
    }
   ],
   "source": [
    "### Train the model on the full dataset\n",
    "X_train, X_val, y_train, y_val = train_test_split(data_augmented, labels_augmented, test_size=0.1, random_state=42)\n",
    "model = helper.create_model()\n",
    "# Define early stopping callback to monitor validation loss\n",
    "early_stopping = EarlyStopping(monitor='val_loss', patience=7)\n",
    "# train model\n",
    "history = model.fit(X_train, y_train, epochs=200, batch_size=8, validation_data=(X_val, y_val), callbacks=[early_stopping], verbose=0)\n",
    "\n",
    "# Model speichern\n",
    "model.save('training/model.keras')\n",
    "\n",
    "plt.plot(history.history['loss'], label='Training Loss')\n",
    "plt.plot(history.history['val_loss'], label='Validation Loss')\n",
    "plt.plot(history.history['accuracy'], label='Training Accuracy')\n",
    "plt.plot(history.history['val_accuracy'], label='Validation Accuracy')\n",
    "plt.xlabel('Epoch')\n",
    "plt.legend()\n",
    "plt.savefig('training/loss_accuracy_plot.png')\n",
    "plt.clf()\n",
    "plt.plot(history.history['precision'], label='Training precision')\n",
    "plt.plot(history.history['val_precision'], label='Validation precision')\n",
    "plt.plot(history.history['recall'], label='Training recall')\n",
    "plt.plot(history.history['val_recall'], label='Validation recall')\n",
    "plt.xlabel('Epoch')\n",
    "plt.legend()\n",
    "plt.savefig('training/precision_recall_plot.png')"
   ]
  },
  {
   "cell_type": "code",
   "execution_count": 79,
   "metadata": {},
   "outputs": [
    {
     "name": "stdout",
     "output_type": "stream",
     "text": [
      "INFO:tensorflow:Assets written to: /tmp/tmpmx9mn54i/assets\n"
     ]
    },
    {
     "name": "stderr",
     "output_type": "stream",
     "text": [
      "INFO:tensorflow:Assets written to: /tmp/tmpmx9mn54i/assets\n"
     ]
    },
    {
     "name": "stdout",
     "output_type": "stream",
     "text": [
      "Saved artifact at '/tmp/tmpmx9mn54i'. The following endpoints are available:\n",
      "\n",
      "* Endpoint 'serve'\n",
      "  args_0 (POSITIONAL_ONLY): TensorSpec(shape=(None, 64), dtype=tf.float32, name='keras_tensor_746')\n",
      "Output Type:\n",
      "  TensorSpec(shape=(None, 3), dtype=tf.float32, name=None)\n",
      "Captures:\n",
      "  129545612641200: TensorSpec(shape=(), dtype=tf.resource, name=None)\n",
      "  129545612521392: TensorSpec(shape=(), dtype=tf.resource, name=None)\n",
      "  129545612516640: TensorSpec(shape=(), dtype=tf.resource, name=None)\n",
      "  129545612516112: TensorSpec(shape=(), dtype=tf.resource, name=None)\n",
      "  129545612514352: TensorSpec(shape=(), dtype=tf.resource, name=None)\n",
      "  129545612523504: TensorSpec(shape=(), dtype=tf.resource, name=None)\n",
      "  129545612521040: TensorSpec(shape=(), dtype=tf.resource, name=None)\n",
      "  129545612516816: TensorSpec(shape=(), dtype=tf.resource, name=None)\n",
      "Tflite model saved to %s ./training\n",
      "\n",
      "TF model size: 148.95 KB\n",
      "TFLite model size: 41.36 KB\n",
      "\n"
     ]
    },
    {
     "name": "stderr",
     "output_type": "stream",
     "text": [
      "W0000 00:00:1739896473.791024  417667 tf_tfl_flatbuffer_helpers.cc:365] Ignored output_format.\n",
      "W0000 00:00:1739896473.791045  417667 tf_tfl_flatbuffer_helpers.cc:368] Ignored drop_control_dependency.\n"
     ]
    }
   ],
   "source": [
    "### convert model to tflite and C-array\n",
    "tflite_model = helper.convert_tflite_model(model)\n",
    "\n",
    "helper.save_tflite_model(tflite_model, './training', 'model.tflite')\n",
    "\n",
    "# print size of model\n",
    "tf_model_size = os.path.getsize('./training/model.keras') / 1024  # KB\n",
    "print(f\"\\nTF model size: {tf_model_size:.2f} KB\")\n",
    "tflite_model_size = os.path.getsize('./training/model.tflite') / 1024  # KB\n",
    "print(f\"TFLite model size: {tflite_model_size:.2f} KB\\n\")\n",
    "\n",
    "# Convert the TFLite model to a C array\n",
    "helper.convert_to_c_array('./training/model.tflite', './training/model.h')"
   ]
  },
  {
   "cell_type": "markdown",
   "metadata": {},
   "source": [
    "Here ends the design, training and conversion of the CNN. \n",
    "\n",
    "---\n",
    "Below this point I plotted the predictions of the final model plainly and as confusion matrices. It is for debugging purposes. \n",
    "The last code block is for converting the augmented data into a csv format importable by edge impulse."
   ]
  },
  {
   "cell_type": "code",
   "execution_count": 47,
   "metadata": {},
   "outputs": [
    {
     "name": "stdout",
     "output_type": "stream",
     "text": [
      "\u001b[1m230/230\u001b[0m \u001b[32m━━━━━━━━━━━━━━━━━━━━\u001b[0m\u001b[37m\u001b[0m \u001b[1m0s\u001b[0m 1ms/step\n",
      "\n",
      "Classification Report:\n",
      "               precision    recall  f1-score   support\n",
      "\n",
      "       paper       0.90      0.88      0.89      2460\n",
      "        rock       0.87      0.88      0.87      2430\n",
      "    scissors       0.92      0.92      0.92      2460\n",
      "\n",
      "    accuracy                           0.89      7350\n",
      "   macro avg       0.89      0.89      0.89      7350\n",
      "weighted avg       0.89      0.89      0.89      7350\n",
      "\n"
     ]
    },
    {
     "data": {
      "image/png": "[encoded data removed]",
      "text/plain": [
       "<Figure size 800x600 with 2 Axes>"
      ]
     },
     "metadata": {},
     "output_type": "display_data"
    }
   ],
   "source": [
    "### Confusion Matrix\n",
    "labels_predicted = model.predict(data_augmented)\n",
    "labels_predicted_classes = np.argmax(labels_predicted, axis=1)\n",
    "labels_augmented_classes = np.argmax(labels_augmented, axis=1)\n",
    "\n",
    "# Classification report\n",
    "class_report = classification_report(labels_augmented_classes, labels_predicted_classes, target_names=label_encoder.classes_)\n",
    "print(\"\\nClassification Report:\\n\", class_report)\n",
    "\n",
    "# Confusion matrix\n",
    "conf_matrix = confusion_matrix(labels_augmented_classes, labels_predicted_classes)\n",
    "plt.figure(figsize=(8, 6))\n",
    "sns.heatmap(conf_matrix, annot=True, fmt='d', cmap='Blues', xticklabels=label_encoder.classes_, yticklabels=label_encoder.classes_)\n",
    "plt.xlabel('Predicted Labels')\n",
    "plt.ylabel('True Labels')\n",
    "plt.title('Confusion Matrix')\n",
    "plt.show()"
   ]
  },
  {
   "cell_type": "code",
   "execution_count": 49,
   "metadata": {},
   "outputs": [
    {
     "name": "stdout",
     "output_type": "stream",
     "text": [
      "\n",
      "TFLite Classification Report:\n",
      "               precision    recall  f1-score   support\n",
      "\n",
      "       paper       0.90      0.88      0.89      2460\n",
      "        rock       0.87      0.88      0.87      2430\n",
      "    scissors       0.92      0.92      0.92      2460\n",
      "\n",
      "    accuracy                           0.89      7350\n",
      "   macro avg       0.89      0.89      0.89      7350\n",
      "weighted avg       0.89      0.89      0.89      7350\n",
      "\n"
     ]
    },
    {
     "data": {
      "image/png": "[encoded data removed]",
      "text/plain": [
       "<Figure size 800x600 with 2 Axes>"
      ]
     },
     "metadata": {},
     "output_type": "display_data"
    }
   ],
   "source": [
    "### TFLite Confusion Matrix\n",
    "tflite_model_path = './training/model.tflite'  # Path to your TFLite model\n",
    "tflite_predictions = helper.run_tflite_inference(tflite_model_path, data_augmented)\n",
    "\n",
    "# Convert TFLite predictions to class indices\n",
    "tflite_pred_classes = np.argmax(tflite_predictions, axis=1)\n",
    "y_true_classes = np.argmax(labels_augmented, axis=1)\n",
    "\n",
    "# Generate classification report\n",
    "class_report = classification_report(y_true_classes, tflite_pred_classes, target_names=label_encoder.classes_)\n",
    "print(\"\\nTFLite Classification Report:\\n\", class_report)\n",
    "\n",
    "# Generate confusion matrix\n",
    "conf_matrix = confusion_matrix(y_true_classes, tflite_pred_classes)\n",
    "plt.figure(figsize=(8, 6))\n",
    "sns.heatmap(conf_matrix, annot=True, fmt='d', cmap='Blues', xticklabels=label_encoder.classes_, yticklabels=label_encoder.classes_)\n",
    "plt.xlabel('Predicted Labels')\n",
    "plt.ylabel('True Labels')\n",
    "plt.title('TFLite Confusion Matrix')\n",
    "plt.show()"
   ]
  },
  {
   "cell_type": "code",
   "execution_count": null,
   "metadata": {},
   "outputs": [],
   "source": [
    "### Plot predictions\n",
    "output_dir = 'data/prediction_plots'\n",
    "if os.path.exists(output_dir):\n",
    "    shutil.rmtree(output_dir)\n",
    "os.makedirs(output_dir)\n",
    "\n",
    "predictions = helper.run_tflite_inference(tflite_model_path, data_augmented)\n",
    "\n",
    "for i in range(labels_augmented.shape[0]):\n",
    "    input_data = np.expand_dims(data_augmented[i], axis=0).astype(np.float32)\n",
    "    prediction = model.predict(input_data)\n",
    "    lite_prediction = predictions[i]\n",
    "\n",
    "    class_name = label_encoder.classes_[np.argmax(labels_augmented[i])]\n",
    "    name = class_name + \"_\" + str(i)\n",
    "    plt.figure(figsize=(8, 6))\n",
    "    plt.imshow(input_data.reshape(8, 8)*400, cmap='viridis', vmin=0, vmax=400)  # Adjust color scale to match value range\n",
    "    plt.colorbar(label='cmm')\n",
    "    plt.axis('off')\n",
    "    plt.title('predicted: '+str(prediction.round(2)) + ' (' + label_encoder.classes_[np.argmax(prediction)] + ')\\nlite-predicted: '+str(lite_prediction.round(2)) + ' (' + label_encoder.classes_[np.argmax(lite_prediction)] + ')\\nactual: ' + str(labels_augmented[i]) + ' (' + class_name+')')\n",
    "    output_path = os.path.join(output_dir, f'{name}.png')\n",
    "    plt.savefig(output_path, dpi=300, bbox_inches='tight')\n",
    "    plt.close()  # Close the figure to free memory"
   ]
  },
  {
   "cell_type": "code",
   "execution_count": null,
   "metadata": {},
   "outputs": [],
   "source": [
    "### export augmented data to edge impulse\n",
    "header = [\n",
    "    f\"f{j}\" for j in range(1, 65)\n",
    "]\n",
    "if os.path.exists(\"data/for_edge_impulse\"):\n",
    "    shutil.rmtree(\"data/for_edge_impulse\")\n",
    "os.makedirs(\"data/for_edge_impulse\", exist_ok=True)\n",
    "os.makedirs(\"data/for_edge_impulse/rock\", exist_ok=True)\n",
    "os.makedirs(\"data/for_edge_impulse/paper\", exist_ok=True)\n",
    "os.makedirs(\"data/for_edge_impulse/scissors\", exist_ok=True)\n",
    "\n",
    "# Process each CSV file in the input folder\n",
    "for index, label in enumerate(labels_augmented):\n",
    "    if label[0] == 1:\n",
    "        target_folder = \"data/for_edge_impulse/rock\"\n",
    "        output_file = os.path.join(target_folder, f\"row_rock_{index}.csv\")\n",
    "    elif label[1] == 1:\n",
    "        target_folder = \"data/for_edge_impulse/paper\"\n",
    "        output_file = os.path.join(target_folder, f\"row_paper_{index}.csv\")\n",
    "    elif label[2] == 1:\n",
    "        target_folder = \"data/for_edge_impulse/scissors\"\n",
    "        output_file = os.path.join(target_folder, f\"row_scissors_{index}.csv\")\n",
    "    \n",
    "    # Convert numpy array to pandas DataFrame and save to new CSV file with the specified header\n",
    "    pd.DataFrame(data_augmented[index].reshape(1, -1)).to_csv(output_file, index=False, header=header)"
   ]
  }
 ],
 "metadata": {
  "kernelspec": {
   "display_name": "Python 3",
   "language": "python",
   "name": "python3"
  },
  "language_info": {
   "codemirror_mode": {
    "name": "ipython",
    "version": 3
   },
   "file_extension": ".py",
   "mimetype": "text/x-python",
   "name": "python",
   "nbconvert_exporter": "python",
   "pygments_lexer": "ipython3",
   "version": "3.10.12"
  }
 },
 "nbformat": 4,
 "nbformat_minor": 2
}
