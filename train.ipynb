{
 "cells": [
  {
   "cell_type": "code",
   "execution_count": 7,
   "metadata": {},
   "outputs": [],
   "source": [
    "import os\n",
    "os.environ['TF_CPP_MIN_LOG_LEVEL'] = '3'  # or any {'0', '1', '2'}\n",
    "import tensorflow as tf\n",
    "from tensorflow.keras import layers, models\n",
    "import numpy as np\n",
    "import pandas as pd\n",
    "from sklearn.model_selection import train_test_split\n",
    "from sklearn.preprocessing import LabelEncoder\n",
    "from sklearn.utils.class_weight import compute_class_weight\n",
    "from tensorflow.keras.callbacks import EarlyStopping\n",
    "from tqdm import tqdm\n",
    "from sklearn.model_selection import KFold\n",
    "import tflite_helper\n",
    "import matplotlib.pyplot as plt\n",
    "from sklearn.metrics import classification_report, confusion_matrix\n",
    "import seaborn as sns\n",
    "import shutil"
   ]
  },
  {
   "cell_type": "code",
   "execution_count": 8,
   "metadata": {},
   "outputs": [],
   "source": [
    "# Load data from CSV files\n",
    "def load_data(file_path, label):\n",
    "    df = pd.read_csv(file_path)\n",
    "    data = df.iloc[:, :].values  # Exclude header and assume data starts from the second column\n",
    "    labels = [label] * len(data)\n",
    "    return data, labels\n",
    "\n",
    "# Load the data for all classes\n",
    "data1, labels1 = load_data(\"data/rock2.csv\", \"rock\")\n",
    "data2, labels2 = load_data(\"data/paper2.csv\", \"paper\")\n",
    "data3, labels3 = load_data(\"data/scissors2.csv\", \"scissors\")\n",
    "data4, labels4 = load_data(\"data/rock.csv\", \"rock\")\n",
    "data5, labels5 = load_data(\"data/paper.csv\", \"paper\")\n",
    "data6, labels6 = load_data(\"data/scissors.csv\", \"scissors\")\n",
    "data7, labels7 = load_data(\"data/rock3.csv\", \"rock\")\n",
    "data8, labels8 = load_data(\"data/paper3.csv\", \"paper\")\n",
    "data9, labels9 = load_data(\"data/scissors3.csv\", \"scissors\")\n",
    "\n",
    "# Combine the data and labels\n",
    "data = np.vstack([data1, data2, data3, data4, data5, data6, data7, data8, data9])\n",
    "labels = np.array(labels1 + labels2 + labels3 + labels4 + labels5 + labels6 + labels7 +labels8 + labels9)\n",
    "\n",
    "# Encode labels\n",
    "label_encoder = LabelEncoder()\n",
    "labels_encoded = label_encoder.fit_transform(labels)\n",
    "\n",
    "# Normalize data (assuming pixel values are integers)\n",
    "data = data / 400.0\n",
    "\n",
    "# Reshape data to 8x8 images\n",
    "data = data.reshape(-1, 8, 8, 1)  # Add channel dimension"
   ]
  },
  {
   "cell_type": "code",
   "execution_count": 9,
   "metadata": {},
   "outputs": [
    {
     "name": "stdout",
     "output_type": "stream",
     "text": [
      "paper:  1968\n",
      "rock:  1944\n",
      "scissors:  1960\n"
     ]
    }
   ],
   "source": [
    "# Data augmentation\n",
    "data_augmented = []\n",
    "labels_augmented = []\n",
    "\n",
    "for image, label in zip(data, labels_encoded):\n",
    "    data_augmented.append(image)  # Original\n",
    "    labels_augmented.append(label)\n",
    "\n",
    "    # Flip horizontally\n",
    "    flipped_h = np.flip(image, axis=1)\n",
    "    data_augmented.append(flipped_h)\n",
    "    labels_augmented.append(label)\n",
    "\n",
    "    # Flip vertically\n",
    "    flipped_v = np.flip(image, axis=0)\n",
    "    data_augmented.append(flipped_v)\n",
    "    labels_augmented.append(label)\n",
    "\n",
    "    # Add random noise\n",
    "    noise = np.random.normal(0, 0.1, image.shape)\n",
    "    noisy_image = np.clip(image + noise, 0, 1)\n",
    "    data_augmented.append(noisy_image)\n",
    "    labels_augmented.append(label)\n",
    "\n",
    "    # Add random noise\n",
    "    noise = np.random.normal(-0.1, 0, image.shape)\n",
    "    noisy_image = np.clip(image + noise, 0, 1)\n",
    "    data_augmented.append(noisy_image)\n",
    "    labels_augmented.append(label)\n",
    "\n",
    "    # Rotate 90 degrees\n",
    "    rotated_90 = np.rot90(image, k=1)\n",
    "    data_augmented.append(rotated_90)\n",
    "    labels_augmented.append(label)\n",
    "\n",
    "    # Rotate 180 degrees\n",
    "    rotated_180 = np.rot90(image, k=2)\n",
    "    data_augmented.append(rotated_180)\n",
    "    labels_augmented.append(label)\n",
    "\n",
    "    # Rotate 270 degrees\n",
    "    rotated_270 = np.rot90(image, k=3)\n",
    "    data_augmented.append(rotated_270)\n",
    "    labels_augmented.append(label)\n",
    "\n",
    "# Convert augmented data to numpy arrays\n",
    "data_augmented = np.array(data_augmented)\n",
    "labels_augmented = np.array(labels_augmented)\n",
    "\n",
    "\n",
    "# Convert labels to one-hot encoding\n",
    "labels_augmented = tf.keras.utils.to_categorical(labels_augmented, num_classes=3)\n",
    "\n",
    "print(\"paper: \", len(labels_augmented[labels_augmented[:, 0] == 1]))\n",
    "print(\"rock: \", len(labels_augmented[labels_augmented[:, 1] == 1]))\n",
    "print(\"scissors: \", len(labels_augmented[labels_augmented[:, 2] == 1]))"
   ]
  },
  {
   "cell_type": "code",
   "execution_count": 10,
   "metadata": {},
   "outputs": [],
   "source": [
    "data_augmented = np.reshape(data_augmented, (data_augmented.shape[0], 64))"
   ]
  },
  {
   "cell_type": "code",
   "execution_count": null,
   "metadata": {},
   "outputs": [
    {
     "name": "stderr",
     "output_type": "stream",
     "text": [
      "  0%|          | 0/10 [00:00<?, ?it/s]c:\\Users\\itsmi\\anaconda3\\envs\\vsc\\lib\\site-packages\\keras\\src\\layers\\reshaping\\reshape.py:39: UserWarning: Do not pass an `input_shape`/`input_dim` argument to a layer. When using Sequential models, prefer using an `Input(shape)` object as the first layer in the model instead.\n",
      "  super().__init__(**kwargs)\n",
      "c:\\Users\\itsmi\\anaconda3\\envs\\vsc\\lib\\site-packages\\keras\\src\\layers\\convolutional\\base_conv.py:107: UserWarning: Do not pass an `input_shape`/`input_dim` argument to a layer. When using Sequential models, prefer using an `Input(shape)` object as the first layer in the model instead.\n",
      "  super().__init__(activity_regularizer=activity_regularizer, **kwargs)\n"
     ]
    },
    {
     "name": "stdout",
     "output_type": "stream",
     "text": [
      "\u001b[1m19/19\u001b[0m \u001b[32m━━━━━━━━━━━━━━━━━━━━\u001b[0m\u001b[37m\u001b[0m \u001b[1m0s\u001b[0m 4ms/step - accuracy: 0.8250 - loss: 0.4409 - precision: 0.8522 - recall: 0.8036 \n",
      "{'accuracy': 0.7823129296302795, 'loss': 0.5427497029304504, 'precision': 0.807272732257843, 'recall': 0.7551020383834839}\n",
      "INFO:tensorflow:Assets written to: C:\\Users\\itsmi\\AppData\\Local\\Temp\\tmp7j7dyfri\\assets\n"
     ]
    },
    {
     "name": "stderr",
     "output_type": "stream",
     "text": [
      "INFO:tensorflow:Assets written to: C:\\Users\\itsmi\\AppData\\Local\\Temp\\tmp7j7dyfri\\assets\n"
     ]
    },
    {
     "name": "stdout",
     "output_type": "stream",
     "text": [
      "Saved artifact at 'C:\\Users\\itsmi\\AppData\\Local\\Temp\\tmp7j7dyfri'. The following endpoints are available:\n",
      "\n",
      "* Endpoint 'serve'\n",
      "  args_0 (POSITIONAL_ONLY): TensorSpec(shape=(None, 64), dtype=tf.float32, name='keras_tensor_16')\n",
      "Output Type:\n",
      "  TensorSpec(shape=(None, 3), dtype=tf.float32, name=None)\n",
      "Captures:\n",
      "  2074845706048: TensorSpec(shape=(), dtype=tf.resource, name=None)\n",
      "  2074845702528: TensorSpec(shape=(), dtype=tf.resource, name=None)\n",
      "  2074845697776: TensorSpec(shape=(), dtype=tf.resource, name=None)\n",
      "  2074845697600: TensorSpec(shape=(), dtype=tf.resource, name=None)\n",
      "  2074845692496: TensorSpec(shape=(), dtype=tf.resource, name=None)\n",
      "  2074845706224: TensorSpec(shape=(), dtype=tf.resource, name=None)\n",
      "  2074845703408: TensorSpec(shape=(), dtype=tf.resource, name=None)\n",
      "  2074845703936: TensorSpec(shape=(), dtype=tf.resource, name=None)\n"
     ]
    },
    {
     "name": "stderr",
     "output_type": "stream",
     "text": [
      " 10%|█         | 1/10 [00:23<03:34, 23.82s/it]c:\\Users\\itsmi\\anaconda3\\envs\\vsc\\lib\\site-packages\\keras\\src\\layers\\reshaping\\reshape.py:39: UserWarning: Do not pass an `input_shape`/`input_dim` argument to a layer. When using Sequential models, prefer using an `Input(shape)` object as the first layer in the model instead.\n",
      "  super().__init__(**kwargs)\n",
      "c:\\Users\\itsmi\\anaconda3\\envs\\vsc\\lib\\site-packages\\keras\\src\\layers\\convolutional\\base_conv.py:107: UserWarning: Do not pass an `input_shape`/`input_dim` argument to a layer. When using Sequential models, prefer using an `Input(shape)` object as the first layer in the model instead.\n",
      "  super().__init__(activity_regularizer=activity_regularizer, **kwargs)\n"
     ]
    },
    {
     "name": "stdout",
     "output_type": "stream",
     "text": [
      "TensorFlow Lite model:\n",
      "tflite: acc=0.782313, prec=0.795931, reca=0.778385\n",
      "\u001b[1m19/19\u001b[0m \u001b[32m━━━━━━━━━━━━━━━━━━━━\u001b[0m\u001b[37m\u001b[0m \u001b[1m0s\u001b[0m 4ms/step - accuracy: 0.7798 - loss: 0.5431 - precision: 0.8029 - recall: 0.7458\n",
      "{'accuracy': 0.7057822942733765, 'loss': 0.7255774736404419, 'precision': 0.7327103018760681, 'recall': 0.6666666865348816}\n",
      "INFO:tensorflow:Assets written to: C:\\Users\\itsmi\\AppData\\Local\\Temp\\tmpohuhbgek\\assets\n"
     ]
    },
    {
     "name": "stderr",
     "output_type": "stream",
     "text": [
      "INFO:tensorflow:Assets written to: C:\\Users\\itsmi\\AppData\\Local\\Temp\\tmpohuhbgek\\assets\n"
     ]
    },
    {
     "name": "stdout",
     "output_type": "stream",
     "text": [
      "Saved artifact at 'C:\\Users\\itsmi\\AppData\\Local\\Temp\\tmpohuhbgek'. The following endpoints are available:\n",
      "\n",
      "* Endpoint 'serve'\n",
      "  args_0 (POSITIONAL_ONLY): TensorSpec(shape=(None, 64), dtype=tf.float32, name='keras_tensor_24')\n",
      "Output Type:\n",
      "  TensorSpec(shape=(None, 3), dtype=tf.float32, name=None)\n",
      "Captures:\n",
      "  2074953647904: TensorSpec(shape=(), dtype=tf.resource, name=None)\n",
      "  2074953648960: TensorSpec(shape=(), dtype=tf.resource, name=None)\n",
      "  2074953647552: TensorSpec(shape=(), dtype=tf.resource, name=None)\n",
      "  2074953651072: TensorSpec(shape=(), dtype=tf.resource, name=None)\n",
      "  2074953654768: TensorSpec(shape=(), dtype=tf.resource, name=None)\n",
      "  2074953654592: TensorSpec(shape=(), dtype=tf.resource, name=None)\n",
      "  2074953658816: TensorSpec(shape=(), dtype=tf.resource, name=None)\n",
      "  2074953656704: TensorSpec(shape=(), dtype=tf.resource, name=None)\n"
     ]
    },
    {
     "name": "stderr",
     "output_type": "stream",
     "text": [
      " 20%|██        | 2/10 [00:35<02:11, 16.40s/it]"
     ]
    },
    {
     "name": "stdout",
     "output_type": "stream",
     "text": [
      "TensorFlow Lite model:\n",
      "tflite: acc=0.705782, prec=0.726199, reca=0.712188\n"
     ]
    },
    {
     "name": "stderr",
     "output_type": "stream",
     "text": [
      "c:\\Users\\itsmi\\anaconda3\\envs\\vsc\\lib\\site-packages\\keras\\src\\layers\\reshaping\\reshape.py:39: UserWarning: Do not pass an `input_shape`/`input_dim` argument to a layer. When using Sequential models, prefer using an `Input(shape)` object as the first layer in the model instead.\n",
      "  super().__init__(**kwargs)\n",
      "c:\\Users\\itsmi\\anaconda3\\envs\\vsc\\lib\\site-packages\\keras\\src\\layers\\convolutional\\base_conv.py:107: UserWarning: Do not pass an `input_shape`/`input_dim` argument to a layer. When using Sequential models, prefer using an `Input(shape)` object as the first layer in the model instead.\n",
      "  super().__init__(activity_regularizer=activity_regularizer, **kwargs)\n"
     ]
    },
    {
     "name": "stdout",
     "output_type": "stream",
     "text": [
      "\u001b[1m19/19\u001b[0m \u001b[32m━━━━━━━━━━━━━━━━━━━━\u001b[0m\u001b[37m\u001b[0m \u001b[1m0s\u001b[0m 4ms/step - accuracy: 0.7423 - loss: 0.5785 - precision: 0.7717 - recall: 0.7025\n",
      "{'accuracy': 0.6660988330841064, 'loss': 0.7468326091766357, 'precision': 0.7054263353347778, 'recall': 0.6201022267341614}\n",
      "INFO:tensorflow:Assets written to: C:\\Users\\itsmi\\AppData\\Local\\Temp\\tmpu39vmbtw\\assets\n"
     ]
    },
    {
     "name": "stderr",
     "output_type": "stream",
     "text": [
      "INFO:tensorflow:Assets written to: C:\\Users\\itsmi\\AppData\\Local\\Temp\\tmpu39vmbtw\\assets\n"
     ]
    },
    {
     "name": "stdout",
     "output_type": "stream",
     "text": [
      "Saved artifact at 'C:\\Users\\itsmi\\AppData\\Local\\Temp\\tmpu39vmbtw'. The following endpoints are available:\n",
      "\n",
      "* Endpoint 'serve'\n",
      "  args_0 (POSITIONAL_ONLY): TensorSpec(shape=(None, 64), dtype=tf.float32, name='keras_tensor_32')\n",
      "Output Type:\n",
      "  TensorSpec(shape=(None, 3), dtype=tf.float32, name=None)\n",
      "Captures:\n",
      "  2074974713312: TensorSpec(shape=(), dtype=tf.resource, name=None)\n",
      "  2074974702752: TensorSpec(shape=(), dtype=tf.resource, name=None)\n",
      "  2074974714544: TensorSpec(shape=(), dtype=tf.resource, name=None)\n",
      "  2074992516208: TensorSpec(shape=(), dtype=tf.resource, name=None)\n",
      "  2074992517088: TensorSpec(shape=(), dtype=tf.resource, name=None)\n",
      "  2074992515152: TensorSpec(shape=(), dtype=tf.resource, name=None)\n",
      "  2074992518848: TensorSpec(shape=(), dtype=tf.resource, name=None)\n",
      "  2074992515328: TensorSpec(shape=(), dtype=tf.resource, name=None)\n"
     ]
    },
    {
     "name": "stderr",
     "output_type": "stream",
     "text": [
      " 30%|███       | 3/10 [00:46<01:39, 14.27s/it]"
     ]
    },
    {
     "name": "stdout",
     "output_type": "stream",
     "text": [
      "TensorFlow Lite model:\n",
      "tflite: acc=0.666099, prec=0.705225, reca=0.666725\n"
     ]
    },
    {
     "name": "stderr",
     "output_type": "stream",
     "text": [
      "c:\\Users\\itsmi\\anaconda3\\envs\\vsc\\lib\\site-packages\\keras\\src\\layers\\reshaping\\reshape.py:39: UserWarning: Do not pass an `input_shape`/`input_dim` argument to a layer. When using Sequential models, prefer using an `Input(shape)` object as the first layer in the model instead.\n",
      "  super().__init__(**kwargs)\n",
      "c:\\Users\\itsmi\\anaconda3\\envs\\vsc\\lib\\site-packages\\keras\\src\\layers\\convolutional\\base_conv.py:107: UserWarning: Do not pass an `input_shape`/`input_dim` argument to a layer. When using Sequential models, prefer using an `Input(shape)` object as the first layer in the model instead.\n",
      "  super().__init__(activity_regularizer=activity_regularizer, **kwargs)\n"
     ]
    },
    {
     "name": "stdout",
     "output_type": "stream",
     "text": [
      "\u001b[1m19/19\u001b[0m \u001b[32m━━━━━━━━━━━━━━━━━━━━\u001b[0m\u001b[37m\u001b[0m \u001b[1m0s\u001b[0m 4ms/step - accuracy: 0.7539 - loss: 0.6216 - precision: 0.7992 - recall: 0.6653 \n",
      "{'accuracy': 0.6916524767875671, 'loss': 0.7184289693832397, 'precision': 0.75052410364151, 'recall': 0.6098807454109192}\n",
      "INFO:tensorflow:Assets written to: C:\\Users\\itsmi\\AppData\\Local\\Temp\\tmp_e0qybh_\\assets\n"
     ]
    },
    {
     "name": "stderr",
     "output_type": "stream",
     "text": [
      "INFO:tensorflow:Assets written to: C:\\Users\\itsmi\\AppData\\Local\\Temp\\tmp_e0qybh_\\assets\n"
     ]
    },
    {
     "name": "stdout",
     "output_type": "stream",
     "text": [
      "Saved artifact at 'C:\\Users\\itsmi\\AppData\\Local\\Temp\\tmp_e0qybh_'. The following endpoints are available:\n",
      "\n",
      "* Endpoint 'serve'\n",
      "  args_0 (POSITIONAL_ONLY): TensorSpec(shape=(None, 64), dtype=tf.float32, name='keras_tensor_40')\n",
      "Output Type:\n",
      "  TensorSpec(shape=(None, 3), dtype=tf.float32, name=None)\n",
      "Captures:\n",
      "  2074953662880: TensorSpec(shape=(), dtype=tf.resource, name=None)\n",
      "  2074953665344: TensorSpec(shape=(), dtype=tf.resource, name=None)\n",
      "  2074953673088: TensorSpec(shape=(), dtype=tf.resource, name=None)\n",
      "  2074902915280: TensorSpec(shape=(), dtype=tf.resource, name=None)\n",
      "  2074902919328: TensorSpec(shape=(), dtype=tf.resource, name=None)\n",
      "  2074902917920: TensorSpec(shape=(), dtype=tf.resource, name=None)\n",
      "  2074902908240: TensorSpec(shape=(), dtype=tf.resource, name=None)\n",
      "  2074902914928: TensorSpec(shape=(), dtype=tf.resource, name=None)\n"
     ]
    },
    {
     "name": "stderr",
     "output_type": "stream",
     "text": [
      " 40%|████      | 4/10 [00:58<01:18, 13.09s/it]"
     ]
    },
    {
     "name": "stdout",
     "output_type": "stream",
     "text": [
      "TensorFlow Lite model:\n",
      "tflite: acc=0.691652, prec=0.699197, reca=0.695176\n"
     ]
    },
    {
     "name": "stderr",
     "output_type": "stream",
     "text": [
      "c:\\Users\\itsmi\\anaconda3\\envs\\vsc\\lib\\site-packages\\keras\\src\\layers\\reshaping\\reshape.py:39: UserWarning: Do not pass an `input_shape`/`input_dim` argument to a layer. When using Sequential models, prefer using an `Input(shape)` object as the first layer in the model instead.\n",
      "  super().__init__(**kwargs)\n",
      "c:\\Users\\itsmi\\anaconda3\\envs\\vsc\\lib\\site-packages\\keras\\src\\layers\\convolutional\\base_conv.py:107: UserWarning: Do not pass an `input_shape`/`input_dim` argument to a layer. When using Sequential models, prefer using an `Input(shape)` object as the first layer in the model instead.\n",
      "  super().__init__(activity_regularizer=activity_regularizer, **kwargs)\n"
     ]
    },
    {
     "name": "stdout",
     "output_type": "stream",
     "text": [
      "\u001b[1m19/19\u001b[0m \u001b[32m━━━━━━━━━━━━━━━━━━━━\u001b[0m\u001b[37m\u001b[0m \u001b[1m0s\u001b[0m 4ms/step - accuracy: 0.8250 - loss: 0.4402 - precision: 0.8488 - recall: 0.7946\n",
      "{'accuracy': 0.7563884258270264, 'loss': 0.5995993614196777, 'precision': 0.7826887369155884, 'recall': 0.7240204215049744}\n",
      "INFO:tensorflow:Assets written to: C:\\Users\\itsmi\\AppData\\Local\\Temp\\tmpfustidin\\assets\n"
     ]
    },
    {
     "name": "stderr",
     "output_type": "stream",
     "text": [
      "INFO:tensorflow:Assets written to: C:\\Users\\itsmi\\AppData\\Local\\Temp\\tmpfustidin\\assets\n"
     ]
    },
    {
     "name": "stdout",
     "output_type": "stream",
     "text": [
      "Saved artifact at 'C:\\Users\\itsmi\\AppData\\Local\\Temp\\tmpfustidin'. The following endpoints are available:\n",
      "\n",
      "* Endpoint 'serve'\n",
      "  args_0 (POSITIONAL_ONLY): TensorSpec(shape=(None, 64), dtype=tf.float32, name='keras_tensor_48')\n",
      "Output Type:\n",
      "  TensorSpec(shape=(None, 3), dtype=tf.float32, name=None)\n",
      "Captures:\n",
      "  2074797583952: TensorSpec(shape=(), dtype=tf.resource, name=None)\n",
      "  2074993100928: TensorSpec(shape=(), dtype=tf.resource, name=None)\n",
      "  2074993107616: TensorSpec(shape=(), dtype=tf.resource, name=None)\n",
      "  2074993101632: TensorSpec(shape=(), dtype=tf.resource, name=None)\n",
      "  2074993106208: TensorSpec(shape=(), dtype=tf.resource, name=None)\n",
      "  2074993106560: TensorSpec(shape=(), dtype=tf.resource, name=None)\n",
      "  2074993110256: TensorSpec(shape=(), dtype=tf.resource, name=None)\n",
      "  2074993106736: TensorSpec(shape=(), dtype=tf.resource, name=None)\n"
     ]
    },
    {
     "name": "stderr",
     "output_type": "stream",
     "text": [
      " 50%|█████     | 5/10 [01:14<01:11, 14.25s/it]"
     ]
    },
    {
     "name": "stdout",
     "output_type": "stream",
     "text": [
      "TensorFlow Lite model:\n",
      "tflite: acc=0.756388, prec=0.769884, reca=0.757021\n"
     ]
    },
    {
     "name": "stderr",
     "output_type": "stream",
     "text": [
      "c:\\Users\\itsmi\\anaconda3\\envs\\vsc\\lib\\site-packages\\keras\\src\\layers\\reshaping\\reshape.py:39: UserWarning: Do not pass an `input_shape`/`input_dim` argument to a layer. When using Sequential models, prefer using an `Input(shape)` object as the first layer in the model instead.\n",
      "  super().__init__(**kwargs)\n",
      "c:\\Users\\itsmi\\anaconda3\\envs\\vsc\\lib\\site-packages\\keras\\src\\layers\\convolutional\\base_conv.py:107: UserWarning: Do not pass an `input_shape`/`input_dim` argument to a layer. When using Sequential models, prefer using an `Input(shape)` object as the first layer in the model instead.\n",
      "  super().__init__(activity_regularizer=activity_regularizer, **kwargs)\n"
     ]
    },
    {
     "name": "stdout",
     "output_type": "stream",
     "text": [
      "\u001b[1m19/19\u001b[0m \u001b[32m━━━━━━━━━━━━━━━━━━━━\u001b[0m\u001b[37m\u001b[0m \u001b[1m0s\u001b[0m 4ms/step - accuracy: 0.8017 - loss: 0.4745 - precision: 0.8456 - recall: 0.7561 \n",
      "{'accuracy': 0.72742760181427, 'loss': 0.6567193865776062, 'precision': 0.7609942555427551, 'recall': 0.6780238747596741}\n",
      "INFO:tensorflow:Assets written to: C:\\Users\\itsmi\\AppData\\Local\\Temp\\tmpl2kx16d6\\assets\n"
     ]
    },
    {
     "name": "stderr",
     "output_type": "stream",
     "text": [
      "INFO:tensorflow:Assets written to: C:\\Users\\itsmi\\AppData\\Local\\Temp\\tmpl2kx16d6\\assets\n"
     ]
    },
    {
     "name": "stdout",
     "output_type": "stream",
     "text": [
      "Saved artifact at 'C:\\Users\\itsmi\\AppData\\Local\\Temp\\tmpl2kx16d6'. The following endpoints are available:\n",
      "\n",
      "* Endpoint 'serve'\n",
      "  args_0 (POSITIONAL_ONLY): TensorSpec(shape=(None, 64), dtype=tf.float32, name='keras_tensor_56')\n",
      "Output Type:\n",
      "  TensorSpec(shape=(None, 3), dtype=tf.float32, name=None)\n",
      "Captures:\n",
      "  2075032738048: TensorSpec(shape=(), dtype=tf.resource, name=None)\n",
      "  2075032745440: TensorSpec(shape=(), dtype=tf.resource, name=None)\n",
      "  2075032736640: TensorSpec(shape=(), dtype=tf.resource, name=None)\n",
      "  2074896833824: TensorSpec(shape=(), dtype=tf.resource, name=None)\n",
      "  2074896834704: TensorSpec(shape=(), dtype=tf.resource, name=None)\n",
      "  2074896832768: TensorSpec(shape=(), dtype=tf.resource, name=None)\n",
      "  2074896836464: TensorSpec(shape=(), dtype=tf.resource, name=None)\n",
      "  2074896832944: TensorSpec(shape=(), dtype=tf.resource, name=None)\n"
     ]
    },
    {
     "name": "stderr",
     "output_type": "stream",
     "text": [
      " 60%|██████    | 6/10 [01:28<00:56, 14.13s/it]"
     ]
    },
    {
     "name": "stdout",
     "output_type": "stream",
     "text": [
      "TensorFlow Lite model:\n",
      "tflite: acc=0.727428, prec=0.752026, reca=0.731870\n"
     ]
    },
    {
     "name": "stderr",
     "output_type": "stream",
     "text": [
      "c:\\Users\\itsmi\\anaconda3\\envs\\vsc\\lib\\site-packages\\keras\\src\\layers\\reshaping\\reshape.py:39: UserWarning: Do not pass an `input_shape`/`input_dim` argument to a layer. When using Sequential models, prefer using an `Input(shape)` object as the first layer in the model instead.\n",
      "  super().__init__(**kwargs)\n",
      "c:\\Users\\itsmi\\anaconda3\\envs\\vsc\\lib\\site-packages\\keras\\src\\layers\\convolutional\\base_conv.py:107: UserWarning: Do not pass an `input_shape`/`input_dim` argument to a layer. When using Sequential models, prefer using an `Input(shape)` object as the first layer in the model instead.\n",
      "  super().__init__(activity_regularizer=activity_regularizer, **kwargs)\n"
     ]
    },
    {
     "name": "stdout",
     "output_type": "stream",
     "text": [
      "\u001b[1m19/19\u001b[0m \u001b[32m━━━━━━━━━━━━━━━━━━━━\u001b[0m\u001b[37m\u001b[0m \u001b[1m0s\u001b[0m 3ms/step - accuracy: 0.7758 - loss: 0.5551 - precision: 0.8000 - recall: 0.7399 \n",
      "{'accuracy': 0.7103918194770813, 'loss': 0.7357599139213562, 'precision': 0.7401869297027588, 'recall': 0.6746166944503784}\n",
      "INFO:tensorflow:Assets written to: C:\\Users\\itsmi\\AppData\\Local\\Temp\\tmpsgqx_yte\\assets\n"
     ]
    },
    {
     "name": "stderr",
     "output_type": "stream",
     "text": [
      "INFO:tensorflow:Assets written to: C:\\Users\\itsmi\\AppData\\Local\\Temp\\tmpsgqx_yte\\assets\n"
     ]
    },
    {
     "name": "stdout",
     "output_type": "stream",
     "text": [
      "Saved artifact at 'C:\\Users\\itsmi\\AppData\\Local\\Temp\\tmpsgqx_yte'. The following endpoints are available:\n",
      "\n",
      "* Endpoint 'serve'\n",
      "  args_0 (POSITIONAL_ONLY): TensorSpec(shape=(None, 64), dtype=tf.float32, name='keras_tensor_64')\n",
      "Output Type:\n",
      "  TensorSpec(shape=(None, 3), dtype=tf.float32, name=None)\n",
      "Captures:\n",
      "  2074971197280: TensorSpec(shape=(), dtype=tf.resource, name=None)\n",
      "  2074971206256: TensorSpec(shape=(), dtype=tf.resource, name=None)\n",
      "  2074971193936: TensorSpec(shape=(), dtype=tf.resource, name=None)\n",
      "  2074971208192: TensorSpec(shape=(), dtype=tf.resource, name=None)\n",
      "  2074971209248: TensorSpec(shape=(), dtype=tf.resource, name=None)\n",
      "  2074971194992: TensorSpec(shape=(), dtype=tf.resource, name=None)\n",
      "  2074971208720: TensorSpec(shape=(), dtype=tf.resource, name=None)\n",
      "  2074971277792: TensorSpec(shape=(), dtype=tf.resource, name=None)\n"
     ]
    },
    {
     "name": "stderr",
     "output_type": "stream",
     "text": [
      " 70%|███████   | 7/10 [01:45<00:45, 15.04s/it]"
     ]
    },
    {
     "name": "stdout",
     "output_type": "stream",
     "text": [
      "TensorFlow Lite model:\n",
      "tflite: acc=0.710392, prec=0.742614, reca=0.706853\n"
     ]
    },
    {
     "name": "stderr",
     "output_type": "stream",
     "text": [
      "c:\\Users\\itsmi\\anaconda3\\envs\\vsc\\lib\\site-packages\\keras\\src\\layers\\reshaping\\reshape.py:39: UserWarning: Do not pass an `input_shape`/`input_dim` argument to a layer. When using Sequential models, prefer using an `Input(shape)` object as the first layer in the model instead.\n",
      "  super().__init__(**kwargs)\n",
      "c:\\Users\\itsmi\\anaconda3\\envs\\vsc\\lib\\site-packages\\keras\\src\\layers\\convolutional\\base_conv.py:107: UserWarning: Do not pass an `input_shape`/`input_dim` argument to a layer. When using Sequential models, prefer using an `Input(shape)` object as the first layer in the model instead.\n",
      "  super().__init__(activity_regularizer=activity_regularizer, **kwargs)\n"
     ]
    },
    {
     "name": "stdout",
     "output_type": "stream",
     "text": [
      "\u001b[1m19/19\u001b[0m \u001b[32m━━━━━━━━━━━━━━━━━━━━\u001b[0m\u001b[37m\u001b[0m \u001b[1m0s\u001b[0m 3ms/step - accuracy: 0.7888 - loss: 0.4797 - precision: 0.8110 - recall: 0.7597 \n",
      "{'accuracy': 0.7478705048561096, 'loss': 0.5929529666900635, 'precision': 0.7697974443435669, 'recall': 0.7120953798294067}\n",
      "INFO:tensorflow:Assets written to: C:\\Users\\itsmi\\AppData\\Local\\Temp\\tmpqwh47_64\\assets\n"
     ]
    },
    {
     "name": "stderr",
     "output_type": "stream",
     "text": [
      "INFO:tensorflow:Assets written to: C:\\Users\\itsmi\\AppData\\Local\\Temp\\tmpqwh47_64\\assets\n"
     ]
    },
    {
     "name": "stdout",
     "output_type": "stream",
     "text": [
      "Saved artifact at 'C:\\Users\\itsmi\\AppData\\Local\\Temp\\tmpqwh47_64'. The following endpoints are available:\n",
      "\n",
      "* Endpoint 'serve'\n",
      "  args_0 (POSITIONAL_ONLY): TensorSpec(shape=(None, 64), dtype=tf.float32, name='keras_tensor_72')\n",
      "Output Type:\n",
      "  TensorSpec(shape=(None, 3), dtype=tf.float32, name=None)\n",
      "Captures:\n",
      "  2075033310608: TensorSpec(shape=(), dtype=tf.resource, name=None)\n",
      "  2075033319408: TensorSpec(shape=(), dtype=tf.resource, name=None)\n",
      "  2075033318528: TensorSpec(shape=(), dtype=tf.resource, name=None)\n",
      "  2075033358880: TensorSpec(shape=(), dtype=tf.resource, name=None)\n",
      "  2075033358704: TensorSpec(shape=(), dtype=tf.resource, name=None)\n",
      "  2075033357120: TensorSpec(shape=(), dtype=tf.resource, name=None)\n",
      "  2075033359760: TensorSpec(shape=(), dtype=tf.resource, name=None)\n",
      "  2075033356240: TensorSpec(shape=(), dtype=tf.resource, name=None)\n"
     ]
    },
    {
     "name": "stderr",
     "output_type": "stream",
     "text": [
      " 80%|████████  | 8/10 [02:04<00:32, 16.39s/it]"
     ]
    },
    {
     "name": "stdout",
     "output_type": "stream",
     "text": [
      "TensorFlow Lite model:\n",
      "tflite: acc=0.747871, prec=0.748622, reca=0.743371\n"
     ]
    },
    {
     "name": "stderr",
     "output_type": "stream",
     "text": [
      "c:\\Users\\itsmi\\anaconda3\\envs\\vsc\\lib\\site-packages\\keras\\src\\layers\\reshaping\\reshape.py:39: UserWarning: Do not pass an `input_shape`/`input_dim` argument to a layer. When using Sequential models, prefer using an `Input(shape)` object as the first layer in the model instead.\n",
      "  super().__init__(**kwargs)\n",
      "c:\\Users\\itsmi\\anaconda3\\envs\\vsc\\lib\\site-packages\\keras\\src\\layers\\convolutional\\base_conv.py:107: UserWarning: Do not pass an `input_shape`/`input_dim` argument to a layer. When using Sequential models, prefer using an `Input(shape)` object as the first layer in the model instead.\n",
      "  super().__init__(activity_regularizer=activity_regularizer, **kwargs)\n"
     ]
    },
    {
     "name": "stdout",
     "output_type": "stream",
     "text": [
      "\u001b[1m19/19\u001b[0m \u001b[32m━━━━━━━━━━━━━━━━━━━━\u001b[0m\u001b[37m\u001b[0m \u001b[1m0s\u001b[0m 4ms/step - accuracy: 0.6830 - loss: 0.6882 - precision: 0.7386 - recall: 0.6277 \n",
      "{'accuracy': 0.6678023934364319, 'loss': 0.756305456161499, 'precision': 0.7225548624992371, 'recall': 0.6166950464248657}\n",
      "INFO:tensorflow:Assets written to: C:\\Users\\itsmi\\AppData\\Local\\Temp\\tmp7j2psqy0\\assets\n"
     ]
    },
    {
     "name": "stderr",
     "output_type": "stream",
     "text": [
      "INFO:tensorflow:Assets written to: C:\\Users\\itsmi\\AppData\\Local\\Temp\\tmp7j2psqy0\\assets\n"
     ]
    },
    {
     "name": "stdout",
     "output_type": "stream",
     "text": [
      "Saved artifact at 'C:\\Users\\itsmi\\AppData\\Local\\Temp\\tmp7j2psqy0'. The following endpoints are available:\n",
      "\n",
      "* Endpoint 'serve'\n",
      "  args_0 (POSITIONAL_ONLY): TensorSpec(shape=(None, 64), dtype=tf.float32, name='keras_tensor_80')\n",
      "Output Type:\n",
      "  TensorSpec(shape=(None, 3), dtype=tf.float32, name=None)\n",
      "Captures:\n",
      "  2075072448640: TensorSpec(shape=(), dtype=tf.resource, name=None)\n",
      "  2075072548176: TensorSpec(shape=(), dtype=tf.resource, name=None)\n",
      "  2075072549936: TensorSpec(shape=(), dtype=tf.resource, name=None)\n",
      "  2075072545888: TensorSpec(shape=(), dtype=tf.resource, name=None)\n",
      "  2075111550896: TensorSpec(shape=(), dtype=tf.resource, name=None)\n",
      "  2075113298000: TensorSpec(shape=(), dtype=tf.resource, name=None)\n",
      "  2075113299936: TensorSpec(shape=(), dtype=tf.resource, name=None)\n",
      "  2075113302224: TensorSpec(shape=(), dtype=tf.resource, name=None)\n"
     ]
    },
    {
     "name": "stderr",
     "output_type": "stream",
     "text": [
      " 90%|█████████ | 9/10 [02:15<00:14, 14.78s/it]"
     ]
    },
    {
     "name": "stdout",
     "output_type": "stream",
     "text": [
      "TensorFlow Lite model:\n",
      "tflite: acc=0.667802, prec=0.689584, reca=0.675269\n"
     ]
    },
    {
     "name": "stderr",
     "output_type": "stream",
     "text": [
      "c:\\Users\\itsmi\\anaconda3\\envs\\vsc\\lib\\site-packages\\keras\\src\\layers\\reshaping\\reshape.py:39: UserWarning: Do not pass an `input_shape`/`input_dim` argument to a layer. When using Sequential models, prefer using an `Input(shape)` object as the first layer in the model instead.\n",
      "  super().__init__(**kwargs)\n",
      "c:\\Users\\itsmi\\anaconda3\\envs\\vsc\\lib\\site-packages\\keras\\src\\layers\\convolutional\\base_conv.py:107: UserWarning: Do not pass an `input_shape`/`input_dim` argument to a layer. When using Sequential models, prefer using an `Input(shape)` object as the first layer in the model instead.\n",
      "  super().__init__(activity_regularizer=activity_regularizer, **kwargs)\n"
     ]
    },
    {
     "name": "stdout",
     "output_type": "stream",
     "text": [
      "\u001b[1m19/19\u001b[0m \u001b[32m━━━━━━━━━━━━━━━━━━━━\u001b[0m\u001b[37m\u001b[0m \u001b[1m0s\u001b[0m 4ms/step - accuracy: 0.8426 - loss: 0.4331 - precision: 0.8774 - recall: 0.8064\n",
      "{'accuracy': 0.7785349488258362, 'loss': 0.5653408765792847, 'precision': 0.8159393072128296, 'recall': 0.7325383424758911}\n",
      "INFO:tensorflow:Assets written to: C:\\Users\\itsmi\\AppData\\Local\\Temp\\tmpa3zexc1b\\assets\n"
     ]
    },
    {
     "name": "stderr",
     "output_type": "stream",
     "text": [
      "INFO:tensorflow:Assets written to: C:\\Users\\itsmi\\AppData\\Local\\Temp\\tmpa3zexc1b\\assets\n"
     ]
    },
    {
     "name": "stdout",
     "output_type": "stream",
     "text": [
      "Saved artifact at 'C:\\Users\\itsmi\\AppData\\Local\\Temp\\tmpa3zexc1b'. The following endpoints are available:\n",
      "\n",
      "* Endpoint 'serve'\n",
      "  args_0 (POSITIONAL_ONLY): TensorSpec(shape=(None, 64), dtype=tf.float32, name='keras_tensor_88')\n",
      "Output Type:\n",
      "  TensorSpec(shape=(None, 3), dtype=tf.float32, name=None)\n",
      "Captures:\n",
      "  2075032738224: TensorSpec(shape=(), dtype=tf.resource, name=None)\n",
      "  2074993107264: TensorSpec(shape=(), dtype=tf.resource, name=None)\n",
      "  2074993105504: TensorSpec(shape=(), dtype=tf.resource, name=None)\n",
      "  2076286757600: TensorSpec(shape=(), dtype=tf.resource, name=None)\n",
      "  2074637650928: TensorSpec(shape=(), dtype=tf.resource, name=None)\n",
      "  2076286627232: TensorSpec(shape=(), dtype=tf.resource, name=None)\n",
      "  2076286630400: TensorSpec(shape=(), dtype=tf.resource, name=None)\n",
      "  2075032731712: TensorSpec(shape=(), dtype=tf.resource, name=None)\n"
     ]
    },
    {
     "name": "stderr",
     "output_type": "stream",
     "text": [
      "100%|██████████| 10/10 [02:33<00:00, 15.36s/it]"
     ]
    },
    {
     "name": "stdout",
     "output_type": "stream",
     "text": [
      "TensorFlow Lite model:\n",
      "tflite: acc=0.778535, prec=0.784415, reca=0.776927\n"
     ]
    },
    {
     "name": "stderr",
     "output_type": "stream",
     "text": [
      "\n"
     ]
    }
   ],
   "source": [
    "def create_model():\n",
    "    # Build a larger CNN model\n",
    "    model = models.Sequential([\n",
    "        layers.Reshape((8,8,1), input_shape=(64,)),\n",
    "        layers.Conv2D(8, (3, 3), activation='relu', padding='same', input_shape=(8, 8, 1)),\n",
    "        layers.MaxPooling2D((2, 2), padding='same'),\n",
    "        layers.Conv2D(16, (3, 3), activation='relu', padding='same'),\n",
    "        layers.Flatten(),\n",
    "        layers.Dense(32, activation='relu'),\n",
    "        layers.Dense(3, activation='softmax')\n",
    "    ])\n",
    "\n",
    "    # Compile the model\n",
    "    model.compile(optimizer='adam',\n",
    "                loss='categorical_crossentropy',\n",
    "                metrics=['accuracy', \n",
    "\t\t\ttf.keras.metrics.Precision(name='precision'),\n",
    "\t\t\ttf.keras.metrics.Recall(name='recall')])\n",
    "    \n",
    "    return model\n",
    "\n",
    "# K-fold Cross Validation model evaluation\n",
    "kfold = KFold(n_splits=10, shuffle=True)\n",
    "results = []\n",
    "for train, test in tqdm(kfold.split(data_augmented, labels_augmented), total = 10):\n",
    "    # Define early stopping callback to monitor validation loss\n",
    "    early_stopping = EarlyStopping(monitor='val_loss', patience=4)\n",
    "\n",
    "    # Split the augmented data into training and testing sets\n",
    "    X_train, y_train, X_test, y_test = data_augmented[train], labels_augmented[train], data_augmented[test], labels_augmented[test]\n",
    "\n",
    "    model = create_model()\n",
    "\n",
    "    # Train the model\n",
    "    history = model.fit(X_train, y_train, epochs=35, batch_size=8, validation_split=0.1, callbacks=[early_stopping], verbose=0)\n",
    "\n",
    "    # Evaluate the model\n",
    "    metrics = model.evaluate(X_test, y_test, return_dict=True)\n",
    "    print(metrics)\n",
    "    \n",
    "    \n",
    "    tflite_model = tflite_helper.convert_tflite_model(model)\n",
    "    \n",
    "    accuracy,precision,recall = tflite_helper.test_tflite(tflite_model, X_test, y_test)\n",
    "    print('tflite: acc={:f}, prec={:f}, reca={:f}'.format(accuracy,sum(precision)/len(precision),sum(recall)/len(recall)))\n",
    "\n",
    "    result = {\n",
    "        'metrics': metrics,\n",
    "        'tflite_metrics': {\n",
    "            'accuracy': accuracy,\n",
    "            'precision': precision,\n",
    "            'recall': recall\n",
    "        }\n",
    "    }\n",
    "    results.append(result)"
   ]
  },
  {
   "cell_type": "code",
   "execution_count": 12,
   "metadata": {},
   "outputs": [],
   "source": [
    "accuracies = np.array([d['metrics']['accuracy'] for d in results])\n",
    "precisions = np.array([d['metrics']['precision'] for d in results])\n",
    "recalls = np.array([d['metrics']['recall'] for d in results])\n",
    "losses = np.array([d['metrics']['loss'] for d in results])\n",
    "tflite_accuracies = np.array([d['tflite_metrics']['accuracy'] for d in results])\n",
    "tflite_precisions = np.array([d['tflite_metrics']['precision'] for d in results])\n",
    "tflite_recalls = np.array([d['tflite_metrics']['recall'] for d in results])\n",
    "\n",
    "# print final metrics and tflite metrics\n",
    "with open('.\\\\training\\\\test_results.txt', 'w') as f:\n",
    "\tf.write('Average scores for tensorflow model:\\n')\n",
    "\tf.write(f'> Accuracy: {np.mean(accuracies)} (+- {np.std(accuracies)})\\n')\n",
    "\tf.write(f'> Precision: {np.mean(precisions)} (+- {np.std(precisions)})\\n')\n",
    "\tf.write(f'> Recall: {np.mean(recalls)} (+- {np.std(recalls)})\\n')\n",
    "\tf.write(f'> Loss: {np.mean(losses)} (+- {np.std(losses)})\\n')\n",
    "\tf.write('Average scores for tflite:\\n')\n",
    "\tf.write(f'> Accuracy: {np.mean(tflite_accuracies)} (+- {np.std(tflite_accuracies)})\\n')\n",
    "\tf.write(f'> Precision: {np.mean(tflite_precisions)} (+- {np.std(tflite_precisions)})\\n')\n",
    "\tf.write(f'> Recall: {np.mean(tflite_recalls)} (+- {np.std(tflite_recalls)})\\n')"
   ]
  },
  {
   "cell_type": "code",
   "execution_count": null,
   "metadata": {},
   "outputs": [
    {
     "name": "stdout",
     "output_type": "stream",
     "text": [
      "[0.92037037 0.68175583 2.23873874]\n"
     ]
    }
   ],
   "source": [
    "# class_weights = compute_class_weight(class_weight=\"balanced\", classes=np.unique(labels), y=labels)\n",
    "# class_weight_dict = {i: class_weights[i] for i in range(len(class_weights))}\n",
    "# print(class_weights)"
   ]
  },
  {
   "cell_type": "code",
   "execution_count": 13,
   "metadata": {},
   "outputs": [
    {
     "name": "stderr",
     "output_type": "stream",
     "text": [
      "c:\\Users\\itsmi\\anaconda3\\envs\\vsc\\lib\\site-packages\\keras\\src\\layers\\reshaping\\reshape.py:39: UserWarning: Do not pass an `input_shape`/`input_dim` argument to a layer. When using Sequential models, prefer using an `Input(shape)` object as the first layer in the model instead.\n",
      "  super().__init__(**kwargs)\n",
      "c:\\Users\\itsmi\\anaconda3\\envs\\vsc\\lib\\site-packages\\keras\\src\\layers\\convolutional\\base_conv.py:107: UserWarning: Do not pass an `input_shape`/`input_dim` argument to a layer. When using Sequential models, prefer using an `Input(shape)` object as the first layer in the model instead.\n",
      "  super().__init__(activity_regularizer=activity_regularizer, **kwargs)\n"
     ]
    },
    {
     "data": {
      "text/html": [
       "<pre style=\"white-space:pre;overflow-x:auto;line-height:normal;font-family:Menlo,'DejaVu Sans Mono',consolas,'Courier New',monospace\"><span style=\"font-weight: bold\">Model: \"sequential_12\"</span>\n",
       "</pre>\n"
      ],
      "text/plain": [
       "\u001b[1mModel: \"sequential_12\"\u001b[0m\n"
      ]
     },
     "metadata": {},
     "output_type": "display_data"
    },
    {
     "data": {
      "text/html": [
       "<pre style=\"white-space:pre;overflow-x:auto;line-height:normal;font-family:Menlo,'DejaVu Sans Mono',consolas,'Courier New',monospace\">┏━━━━━━━━━━━━━━━━━━━━━━━━━━━━━━━━━┳━━━━━━━━━━━━━━━━━━━━━━━━┳━━━━━━━━━━━━━━━┓\n",
       "┃<span style=\"font-weight: bold\"> Layer (type)                    </span>┃<span style=\"font-weight: bold\"> Output Shape           </span>┃<span style=\"font-weight: bold\">       Param # </span>┃\n",
       "┡━━━━━━━━━━━━━━━━━━━━━━━━━━━━━━━━━╇━━━━━━━━━━━━━━━━━━━━━━━━╇━━━━━━━━━━━━━━━┩\n",
       "│ reshape_12 (<span style=\"color: #0087ff; text-decoration-color: #0087ff\">Reshape</span>)            │ (<span style=\"color: #00d7ff; text-decoration-color: #00d7ff\">None</span>, <span style=\"color: #00af00; text-decoration-color: #00af00\">8</span>, <span style=\"color: #00af00; text-decoration-color: #00af00\">8</span>, <span style=\"color: #00af00; text-decoration-color: #00af00\">1</span>)        │             <span style=\"color: #00af00; text-decoration-color: #00af00\">0</span> │\n",
       "├─────────────────────────────────┼────────────────────────┼───────────────┤\n",
       "│ conv2d_24 (<span style=\"color: #0087ff; text-decoration-color: #0087ff\">Conv2D</span>)              │ (<span style=\"color: #00d7ff; text-decoration-color: #00d7ff\">None</span>, <span style=\"color: #00af00; text-decoration-color: #00af00\">8</span>, <span style=\"color: #00af00; text-decoration-color: #00af00\">8</span>, <span style=\"color: #00af00; text-decoration-color: #00af00\">8</span>)        │            <span style=\"color: #00af00; text-decoration-color: #00af00\">80</span> │\n",
       "├─────────────────────────────────┼────────────────────────┼───────────────┤\n",
       "│ max_pooling2d_12 (<span style=\"color: #0087ff; text-decoration-color: #0087ff\">MaxPooling2D</span>) │ (<span style=\"color: #00d7ff; text-decoration-color: #00d7ff\">None</span>, <span style=\"color: #00af00; text-decoration-color: #00af00\">4</span>, <span style=\"color: #00af00; text-decoration-color: #00af00\">4</span>, <span style=\"color: #00af00; text-decoration-color: #00af00\">8</span>)        │             <span style=\"color: #00af00; text-decoration-color: #00af00\">0</span> │\n",
       "├─────────────────────────────────┼────────────────────────┼───────────────┤\n",
       "│ conv2d_25 (<span style=\"color: #0087ff; text-decoration-color: #0087ff\">Conv2D</span>)              │ (<span style=\"color: #00d7ff; text-decoration-color: #00d7ff\">None</span>, <span style=\"color: #00af00; text-decoration-color: #00af00\">4</span>, <span style=\"color: #00af00; text-decoration-color: #00af00\">4</span>, <span style=\"color: #00af00; text-decoration-color: #00af00\">16</span>)       │         <span style=\"color: #00af00; text-decoration-color: #00af00\">1,168</span> │\n",
       "├─────────────────────────────────┼────────────────────────┼───────────────┤\n",
       "│ flatten_12 (<span style=\"color: #0087ff; text-decoration-color: #0087ff\">Flatten</span>)            │ (<span style=\"color: #00d7ff; text-decoration-color: #00d7ff\">None</span>, <span style=\"color: #00af00; text-decoration-color: #00af00\">256</span>)            │             <span style=\"color: #00af00; text-decoration-color: #00af00\">0</span> │\n",
       "├─────────────────────────────────┼────────────────────────┼───────────────┤\n",
       "│ dense_24 (<span style=\"color: #0087ff; text-decoration-color: #0087ff\">Dense</span>)                │ (<span style=\"color: #00d7ff; text-decoration-color: #00d7ff\">None</span>, <span style=\"color: #00af00; text-decoration-color: #00af00\">32</span>)             │         <span style=\"color: #00af00; text-decoration-color: #00af00\">8,224</span> │\n",
       "├─────────────────────────────────┼────────────────────────┼───────────────┤\n",
       "│ dense_25 (<span style=\"color: #0087ff; text-decoration-color: #0087ff\">Dense</span>)                │ (<span style=\"color: #00d7ff; text-decoration-color: #00d7ff\">None</span>, <span style=\"color: #00af00; text-decoration-color: #00af00\">3</span>)              │            <span style=\"color: #00af00; text-decoration-color: #00af00\">99</span> │\n",
       "└─────────────────────────────────┴────────────────────────┴───────────────┘\n",
       "</pre>\n"
      ],
      "text/plain": [
       "┏━━━━━━━━━━━━━━━━━━━━━━━━━━━━━━━━━┳━━━━━━━━━━━━━━━━━━━━━━━━┳━━━━━━━━━━━━━━━┓\n",
       "┃\u001b[1m \u001b[0m\u001b[1mLayer (type)                   \u001b[0m\u001b[1m \u001b[0m┃\u001b[1m \u001b[0m\u001b[1mOutput Shape          \u001b[0m\u001b[1m \u001b[0m┃\u001b[1m \u001b[0m\u001b[1m      Param #\u001b[0m\u001b[1m \u001b[0m┃\n",
       "┡━━━━━━━━━━━━━━━━━━━━━━━━━━━━━━━━━╇━━━━━━━━━━━━━━━━━━━━━━━━╇━━━━━━━━━━━━━━━┩\n",
       "│ reshape_12 (\u001b[38;5;33mReshape\u001b[0m)            │ (\u001b[38;5;45mNone\u001b[0m, \u001b[38;5;34m8\u001b[0m, \u001b[38;5;34m8\u001b[0m, \u001b[38;5;34m1\u001b[0m)        │             \u001b[38;5;34m0\u001b[0m │\n",
       "├─────────────────────────────────┼────────────────────────┼───────────────┤\n",
       "│ conv2d_24 (\u001b[38;5;33mConv2D\u001b[0m)              │ (\u001b[38;5;45mNone\u001b[0m, \u001b[38;5;34m8\u001b[0m, \u001b[38;5;34m8\u001b[0m, \u001b[38;5;34m8\u001b[0m)        │            \u001b[38;5;34m80\u001b[0m │\n",
       "├─────────────────────────────────┼────────────────────────┼───────────────┤\n",
       "│ max_pooling2d_12 (\u001b[38;5;33mMaxPooling2D\u001b[0m) │ (\u001b[38;5;45mNone\u001b[0m, \u001b[38;5;34m4\u001b[0m, \u001b[38;5;34m4\u001b[0m, \u001b[38;5;34m8\u001b[0m)        │             \u001b[38;5;34m0\u001b[0m │\n",
       "├─────────────────────────────────┼────────────────────────┼───────────────┤\n",
       "│ conv2d_25 (\u001b[38;5;33mConv2D\u001b[0m)              │ (\u001b[38;5;45mNone\u001b[0m, \u001b[38;5;34m4\u001b[0m, \u001b[38;5;34m4\u001b[0m, \u001b[38;5;34m16\u001b[0m)       │         \u001b[38;5;34m1,168\u001b[0m │\n",
       "├─────────────────────────────────┼────────────────────────┼───────────────┤\n",
       "│ flatten_12 (\u001b[38;5;33mFlatten\u001b[0m)            │ (\u001b[38;5;45mNone\u001b[0m, \u001b[38;5;34m256\u001b[0m)            │             \u001b[38;5;34m0\u001b[0m │\n",
       "├─────────────────────────────────┼────────────────────────┼───────────────┤\n",
       "│ dense_24 (\u001b[38;5;33mDense\u001b[0m)                │ (\u001b[38;5;45mNone\u001b[0m, \u001b[38;5;34m32\u001b[0m)             │         \u001b[38;5;34m8,224\u001b[0m │\n",
       "├─────────────────────────────────┼────────────────────────┼───────────────┤\n",
       "│ dense_25 (\u001b[38;5;33mDense\u001b[0m)                │ (\u001b[38;5;45mNone\u001b[0m, \u001b[38;5;34m3\u001b[0m)              │            \u001b[38;5;34m99\u001b[0m │\n",
       "└─────────────────────────────────┴────────────────────────┴───────────────┘\n"
      ]
     },
     "metadata": {},
     "output_type": "display_data"
    },
    {
     "data": {
      "text/html": [
       "<pre style=\"white-space:pre;overflow-x:auto;line-height:normal;font-family:Menlo,'DejaVu Sans Mono',consolas,'Courier New',monospace\"><span style=\"font-weight: bold\"> Total params: </span><span style=\"color: #00af00; text-decoration-color: #00af00\">28,715</span> (112.17 KB)\n",
       "</pre>\n"
      ],
      "text/plain": [
       "\u001b[1m Total params: \u001b[0m\u001b[38;5;34m28,715\u001b[0m (112.17 KB)\n"
      ]
     },
     "metadata": {},
     "output_type": "display_data"
    },
    {
     "data": {
      "text/html": [
       "<pre style=\"white-space:pre;overflow-x:auto;line-height:normal;font-family:Menlo,'DejaVu Sans Mono',consolas,'Courier New',monospace\"><span style=\"font-weight: bold\"> Trainable params: </span><span style=\"color: #00af00; text-decoration-color: #00af00\">9,571</span> (37.39 KB)\n",
       "</pre>\n"
      ],
      "text/plain": [
       "\u001b[1m Trainable params: \u001b[0m\u001b[38;5;34m9,571\u001b[0m (37.39 KB)\n"
      ]
     },
     "metadata": {},
     "output_type": "display_data"
    },
    {
     "data": {
      "text/html": [
       "<pre style=\"white-space:pre;overflow-x:auto;line-height:normal;font-family:Menlo,'DejaVu Sans Mono',consolas,'Courier New',monospace\"><span style=\"font-weight: bold\"> Non-trainable params: </span><span style=\"color: #00af00; text-decoration-color: #00af00\">0</span> (0.00 B)\n",
       "</pre>\n"
      ],
      "text/plain": [
       "\u001b[1m Non-trainable params: \u001b[0m\u001b[38;5;34m0\u001b[0m (0.00 B)\n"
      ]
     },
     "metadata": {},
     "output_type": "display_data"
    },
    {
     "data": {
      "text/html": [
       "<pre style=\"white-space:pre;overflow-x:auto;line-height:normal;font-family:Menlo,'DejaVu Sans Mono',consolas,'Courier New',monospace\"><span style=\"font-weight: bold\"> Optimizer params: </span><span style=\"color: #00af00; text-decoration-color: #00af00\">19,144</span> (74.79 KB)\n",
       "</pre>\n"
      ],
      "text/plain": [
       "\u001b[1m Optimizer params: \u001b[0m\u001b[38;5;34m19,144\u001b[0m (74.79 KB)\n"
      ]
     },
     "metadata": {},
     "output_type": "display_data"
    },
    {
     "data": {
      "image/png": "[encoded data removed]",
      "text/plain": [
       "<Figure size 640x480 with 1 Axes>"
      ]
     },
     "metadata": {},
     "output_type": "display_data"
    }
   ],
   "source": [
    "### Train the model on the full dataset ###\n",
    "X_train, X_val, y_train, y_val = train_test_split(data_augmented, labels_augmented, test_size=0.1, random_state=42)\n",
    "model = create_model()\n",
    "# Define early stopping callback to monitor validation loss\n",
    "early_stopping = EarlyStopping(monitor='val_loss', patience=7)\n",
    "# train model\n",
    "history = model.fit(X_train, y_train, epochs=200, batch_size=64, validation_data=(X_val, y_val), callbacks=[early_stopping], verbose=0, \n",
    "                    #class_weight=class_weight_dict \n",
    "                    )\n",
    "model.summary()\n",
    "\n",
    "# Model speichern\n",
    "model.save('training/model.keras')\n",
    "\n",
    "plt.plot(history.history['loss'], label='Training Loss')\n",
    "plt.plot(history.history['val_loss'], label='Validation Loss')\n",
    "plt.plot(history.history['accuracy'], label='Training Accuracy')\n",
    "plt.plot(history.history['val_accuracy'], label='Validation Accuracy')\n",
    "plt.xlabel('Epoch')\n",
    "plt.legend()\n",
    "plt.savefig('training/loss_accuracy_plot.png')\n",
    "plt.clf()\n",
    "plt.plot(history.history['precision'], label='Training precision')\n",
    "plt.plot(history.history['val_precision'], label='Validation precision')\n",
    "plt.plot(history.history['recall'], label='Training recall')\n",
    "plt.plot(history.history['val_recall'], label='Validation recall')\n",
    "plt.xlabel('Epoch')\n",
    "plt.legend()\n",
    "plt.savefig('training/precision_recall_plot.png')"
   ]
  },
  {
   "cell_type": "code",
   "execution_count": 14,
   "metadata": {},
   "outputs": [
    {
     "name": "stdout",
     "output_type": "stream",
     "text": [
      "\u001b[1m184/184\u001b[0m \u001b[32m━━━━━━━━━━━━━━━━━━━━\u001b[0m\u001b[37m\u001b[0m \u001b[1m0s\u001b[0m 2ms/step\n",
      "\n",
      "Classification Report:\n",
      "               precision    recall  f1-score   support\n",
      "\n",
      "       paper       0.77      0.90      0.83      1968\n",
      "        rock       0.83      0.77      0.80      1944\n",
      "    scissors       0.90      0.81      0.85      1960\n",
      "\n",
      "    accuracy                           0.83      5872\n",
      "   macro avg       0.83      0.83      0.83      5872\n",
      "weighted avg       0.83      0.83      0.83      5872\n",
      "\n"
     ]
    },
    {
     "data": {
      "image/png": "[encoded data removed]",
      "text/plain": [
       "<Figure size 800x600 with 2 Axes>"
      ]
     },
     "metadata": {},
     "output_type": "display_data"
    }
   ],
   "source": [
    "# Generate predictions\n",
    "labels_predicted = model.predict(data_augmented)\n",
    "labels_predicted_classes = np.argmax(labels_predicted, axis=1)\n",
    "labels_augmented_classes = np.argmax(labels_augmented, axis=1)\n",
    "\n",
    "# Classification report\n",
    "class_report = classification_report(labels_augmented_classes, labels_predicted_classes, target_names=label_encoder.classes_)\n",
    "print(\"\\nClassification Report:\\n\", class_report)\n",
    "\n",
    "# Confusion matrix\n",
    "conf_matrix = confusion_matrix(labels_augmented_classes, labels_predicted_classes)\n",
    "plt.figure(figsize=(8, 6))\n",
    "sns.heatmap(conf_matrix, annot=True, fmt='d', cmap='Blues', xticklabels=label_encoder.classes_, yticklabels=label_encoder.classes_)\n",
    "plt.xlabel('Predicted Labels')\n",
    "plt.ylabel('True Labels')\n",
    "plt.title('Confusion Matrix')\n",
    "plt.show()"
   ]
  },
  {
   "cell_type": "code",
   "execution_count": 15,
   "metadata": {},
   "outputs": [
    {
     "name": "stdout",
     "output_type": "stream",
     "text": [
      "INFO:tensorflow:Assets written to: C:\\Users\\itsmi\\AppData\\Local\\Temp\\tmprnezee0i\\assets\n"
     ]
    },
    {
     "name": "stderr",
     "output_type": "stream",
     "text": [
      "INFO:tensorflow:Assets written to: C:\\Users\\itsmi\\AppData\\Local\\Temp\\tmprnezee0i\\assets\n"
     ]
    },
    {
     "name": "stdout",
     "output_type": "stream",
     "text": [
      "Saved artifact at 'C:\\Users\\itsmi\\AppData\\Local\\Temp\\tmprnezee0i'. The following endpoints are available:\n",
      "\n",
      "* Endpoint 'serve'\n",
      "  args_0 (POSITIONAL_ONLY): TensorSpec(shape=(None, 64), dtype=tf.float32, name='keras_tensor_96')\n",
      "Output Type:\n",
      "  TensorSpec(shape=(None, 3), dtype=tf.float32, name=None)\n",
      "Captures:\n",
      "  2075074655888: TensorSpec(shape=(), dtype=tf.resource, name=None)\n",
      "  2075035141744: TensorSpec(shape=(), dtype=tf.resource, name=None)\n",
      "  2075035145792: TensorSpec(shape=(), dtype=tf.resource, name=None)\n",
      "  2075032741744: TensorSpec(shape=(), dtype=tf.resource, name=None)\n",
      "  2075032734880: TensorSpec(shape=(), dtype=tf.resource, name=None)\n",
      "  2075032733824: TensorSpec(shape=(), dtype=tf.resource, name=None)\n",
      "  2075032739456: TensorSpec(shape=(), dtype=tf.resource, name=None)\n",
      "  2075032735584: TensorSpec(shape=(), dtype=tf.resource, name=None)\n",
      "Tflite model saved to %s ./training\n",
      "\n",
      "TFLite model size: 41.41 KB\n"
     ]
    }
   ],
   "source": [
    "tflite_model = tflite_helper.convert_tflite_model(model)\n",
    "\n",
    "tflite_helper.save_tflite_model(tflite_model, './training', 'model.tflite')\n",
    "\n",
    "# print size of model\n",
    "tflite_model_size = os.path.getsize('./training/model.tflite') / 1024  # KB\n",
    "print(f\"\\nTFLite model size: {tflite_model_size:.2f} KB\")\n",
    "\n",
    "# funktion um das tflite modell in ein c array zu konvertieren(?)\n",
    "def convert_to_c_array(file_path, output_file):\n",
    "    with open(file_path, \"rb\") as f:\n",
    "        data = f.read()\n",
    "    \n",
    "    data_length = len(data)\n",
    "    \n",
    "    with open(output_file, \"w\") as f:\n",
    "        f.write(f\"unsigned char model_tflite[] = {{\\n\")\n",
    "        for i, byte in enumerate(data):\n",
    "            f.write(f\"0x{byte:02x}, \")\n",
    "            if (i + 1) % 12 == 0:\n",
    "                f.write(\"\\n\")\n",
    "        f.write(f\"\\n}};\\n\\n\")\n",
    "        f.write(f\"unsigned int model_tflite_len = {data_length};\\n\")\n",
    "\n",
    "# Convert the TFLite model to a C array\n",
    "convert_to_c_array('./training/model.tflite', './training/model.h')"
   ]
  },
  {
   "cell_type": "code",
   "execution_count": 16,
   "metadata": {},
   "outputs": [
    {
     "name": "stdout",
     "output_type": "stream",
     "text": [
      "\n",
      "TFLite Classification Report:\n",
      "               precision    recall  f1-score   support\n",
      "\n",
      "       paper       0.77      0.90      0.83      1968\n",
      "        rock       0.83      0.77      0.80      1944\n",
      "    scissors       0.90      0.81      0.85      1960\n",
      "\n",
      "    accuracy                           0.83      5872\n",
      "   macro avg       0.83      0.83      0.83      5872\n",
      "weighted avg       0.83      0.83      0.83      5872\n",
      "\n"
     ]
    },
    {
     "data": {
      "image/png": "[encoded data removed]",
      "text/plain": [
       "<Figure size 800x600 with 2 Axes>"
      ]
     },
     "metadata": {},
     "output_type": "display_data"
    }
   ],
   "source": [
    "# Function to load the TFLite model and run inference\n",
    "def run_tflite_inference(tflite_model_path, X_test):\n",
    "    # Load the TFLite model\n",
    "    interpreter = tf.lite.Interpreter(model_path=tflite_model_path)\n",
    "    interpreter.allocate_tensors()\n",
    "\n",
    "    # Get input and output details\n",
    "    input_details = interpreter.get_input_details()\n",
    "    output_details = interpreter.get_output_details()\n",
    "\n",
    "    predictions = []\n",
    "    for sample in X_test:\n",
    "        # Prepare input tensor\n",
    "        sample = np.expand_dims(sample, axis=0).astype(np.float32)\n",
    "        interpreter.set_tensor(input_details[0]['index'], sample)\n",
    "\n",
    "        # Run inference\n",
    "        interpreter.invoke()\n",
    "\n",
    "        # Get output tensor\n",
    "        output_data = interpreter.get_tensor(output_details[0]['index'])\n",
    "        predictions.append(output_data[0])\n",
    "\n",
    "    return np.array(predictions)\n",
    "\n",
    "# Run inference with TFLite model\n",
    "tflite_model_path = './training/model.tflite'  # Path to your TFLite model\n",
    "tflite_predictions = run_tflite_inference(tflite_model_path, data_augmented)\n",
    "\n",
    "# Convert TFLite predictions to class indices\n",
    "tflite_pred_classes = np.argmax(tflite_predictions, axis=1)\n",
    "y_true_classes = np.argmax(labels_augmented, axis=1)\n",
    "\n",
    "# Generate classification report\n",
    "class_report = classification_report(y_true_classes, tflite_pred_classes, target_names=label_encoder.classes_)\n",
    "print(\"\\nTFLite Classification Report:\\n\", class_report)\n",
    "\n",
    "# Generate confusion matrix\n",
    "conf_matrix = confusion_matrix(y_true_classes, tflite_pred_classes)\n",
    "plt.figure(figsize=(8, 6))\n",
    "sns.heatmap(conf_matrix, annot=True, fmt='d', cmap='Blues', xticklabels=label_encoder.classes_, yticklabels=label_encoder.classes_)\n",
    "plt.xlabel('Predicted Labels')\n",
    "plt.ylabel('True Labels')\n",
    "plt.title('TFLite Confusion Matrix')\n",
    "plt.show()"
   ]
  },
  {
   "cell_type": "code",
   "execution_count": 17,
   "metadata": {},
   "outputs": [
    {
     "name": "stdout",
     "output_type": "stream",
     "text": [
      "\u001b[1m1/1\u001b[0m \u001b[32m━━━━━━━━━━━━━━━━━━━━\u001b[0m\u001b[37m\u001b[0m \u001b[1m0s\u001b[0m 85ms/step\n",
      "Vorhersage (TensorFlow)\n",
      " Paper: 0.00015093466208782047\n",
      " Rock: 0.00013173646584618837\n",
      " Scissors: 0.9997174143791199\n",
      "\n",
      "\n",
      "Vorhersage (TensorFlow Lite) \n",
      " Paper: 0.0001509345165686682\n",
      " Rock: 0.00013173659681342542\n",
      " Scissors: 0.9997174143791199\n"
     ]
    }
   ],
   "source": [
    "def load_csv(csv_path):\n",
    "    df = pd.read_csv(csv_path, header=None)\n",
    "    data = df.values.flatten()\n",
    "    return data[:64]\n",
    "\n",
    "csv_file = './data/tof_capture.csv'\n",
    "\n",
    "data = np.array([load_csv(csv_file)]).astype(np.float32)\n",
    "# print(data)\n",
    "\n",
    "data = np.reshape(data, (1, 64))\n",
    "\n",
    "model = tf.keras.models.load_model('./training/model.keras')\n",
    "\n",
    "np.set_printoptions(suppress=True)\n",
    "\n",
    "# Vorhersage mit TensorFlow-Modell\n",
    "prediction = model.predict(data)\n",
    "print(\"Vorhersage (TensorFlow)\\n\", f'Paper: {prediction[0][0]}\\n Rock: {prediction[0][1]}\\n Scissors: {prediction[0][2]}\\n\\n')\n",
    "\n",
    "tflite_model_path = './training/model.tflite'\n",
    "\n",
    "# TensorFlow Lite Interpreter vorbereiten\n",
    "interpreter = tf.lite.Interpreter(model_path=tflite_model_path)\n",
    "interpreter.allocate_tensors()\n",
    "\n",
    "input_tensor_index = interpreter.get_input_details()[0]['index']\n",
    "output_tensor_index = interpreter.get_output_details()[0]['index']\n",
    "\n",
    "interpreter.set_tensor(input_tensor_index, data)\n",
    "interpreter.invoke()\n",
    "\n",
    "lite_prediction = interpreter.get_tensor(output_tensor_index)\n",
    "print(\"Vorhersage (TensorFlow Lite) \\n\", f'Paper: {lite_prediction[0][0]}\\n Rock: {lite_prediction[0][1]}\\n Scissors: {lite_prediction[0][2]}')\n"
   ]
  },
  {
   "cell_type": "code",
   "execution_count": 18,
   "metadata": {},
   "outputs": [
    {
     "name": "stdout",
     "output_type": "stream",
     "text": [
      "Label Mapping: {np.int64(0): np.str_('paper'), np.int64(1): np.str_('rock'), np.int64(2): np.str_('scissors')}\n"
     ]
    }
   ],
   "source": [
    "\n",
    "# Decode labels\n",
    "label_map = dict(zip(label_encoder.transform(label_encoder.classes_), label_encoder.classes_))\n",
    "print(\"Label Mapping:\", label_map)"
   ]
  }
 ],
 "metadata": {
  "kernelspec": {
   "display_name": "vsc",
   "language": "python",
   "name": "python3"
  },
  "language_info": {
   "codemirror_mode": {
    "name": "ipython",
    "version": 3
   },
   "file_extension": ".py",
   "mimetype": "text/x-python",
   "name": "python",
   "nbconvert_exporter": "python",
   "pygments_lexer": "ipython3",
   "version": "3.10.15"
  }
 },
 "nbformat": 4,
 "nbformat_minor": 2
}
