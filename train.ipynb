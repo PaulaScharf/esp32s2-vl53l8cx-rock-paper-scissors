{
 "cells": [
  {
   "cell_type": "code",
   "execution_count": 24,
   "metadata": {},
   "outputs": [],
   "source": [
    "### importing libraries\n",
    "import importlib\n",
    "import os\n",
    "os.environ['TF_CPP_MIN_LOG_LEVEL'] = '3'  # or any {'0', '1', '2'}\n",
    "import tensorflow as tf\n",
    "from tensorflow.keras import layers, models\n",
    "import numpy as np\n",
    "import pandas as pd\n",
    "from sklearn.model_selection import train_test_split\n",
    "from sklearn.preprocessing import LabelEncoder\n",
    "from tensorflow.keras.callbacks import EarlyStopping\n",
    "from tqdm import tqdm\n",
    "from sklearn.model_selection import KFold\n",
    "import helper\n",
    "import matplotlib.pyplot as plt\n",
    "from sklearn.metrics import classification_report, confusion_matrix\n",
    "import seaborn as sns\n",
    "import shutil"
   ]
  },
  {
   "cell_type": "code",
   "execution_count": 50,
   "metadata": {},
   "outputs": [],
   "source": [
    "### Load data from CSV files\n",
    "importlib.reload(helper)\n",
    "\n",
    "def load_data(file_path, label):\n",
    "    df = pd.read_csv(file_path)\n",
    "    data = df.iloc[:, :].values  # Exclude header and assume data starts from the second column\n",
    "    labels = [label] * len(data)\n",
    "    return data, labels\n",
    "\n",
    "# Load the data for all classes\n",
    "data1, labels1 = load_data(\"data/rock.csv\", \"rock\")\n",
    "data2, labels2 = load_data(\"data/paper.csv\", \"paper\")\n",
    "data3, labels3 = load_data(\"data/scissors.csv\", \"scissors\")\n",
    "data4, labels4 = load_data(\"data/rock2.csv\", \"rock\")\n",
    "data5, labels5 = load_data(\"data/paper2.csv\", \"paper\")\n",
    "data6, labels6 = load_data(\"data/scissors2.csv\", \"scissors\")\n",
    "data7, labels7 = load_data(\"data/rock3.csv\", \"rock\")\n",
    "data8, labels8 = load_data(\"data/paper3.csv\", \"paper\")\n",
    "data9, labels9 = load_data(\"data/scissors3.csv\", \"scissors\")\n",
    "\n",
    "# Combine the data and labels\n",
    "data = np.vstack([data1, data2, data3, data4, data5, data6, data7, data8, data9])\n",
    "labels = np.array(labels1 + labels2 + labels3 + labels4 + labels5 + labels6 + labels7 + labels8 + labels9)\n",
    "\n",
    "# Encode labels\n",
    "label_encoder = LabelEncoder()\n",
    "labels_encoded = label_encoder.fit_transform(labels)\n",
    "\n",
    "# Normalize data (assuming pixel values are integers)\n",
    "data = data / 400.0\n",
    "\n",
    "# Reshape data to 8x8 images\n",
    "data = data.reshape(-1, 8, 8, 1)  # Add channel dimension"
   ]
  },
  {
   "cell_type": "code",
   "execution_count": 51,
   "metadata": {},
   "outputs": [
    {
     "name": "stdout",
     "output_type": "stream",
     "text": [
      "original class amount:\n",
      "rock:  246\n",
      "paper:  243\n",
      "scissors:  246\n",
      "\n",
      "augmented class amount:\n",
      "rock:  2460\n",
      "paper:  2430\n",
      "scissors:  2460\n",
      "\n",
      "Label Mapping: {np.int64(0): np.str_('paper'), np.int64(1): np.str_('rock'), np.int64(2): np.str_('scissors')}\n"
     ]
    }
   ],
   "source": [
    "### Data augmentation\n",
    "importlib.reload(helper)\n",
    "\n",
    "data_augmented = []\n",
    "labels_augmented = []\n",
    "\n",
    "for image, label in zip(data, labels_encoded):\n",
    "    data_augmented.append(image)  # Original\n",
    "    labels_augmented.append(label)\n",
    "\n",
    "    # Rotate 90 degrees\n",
    "    rotated_90 = np.rot90(image, k=1)\n",
    "    data_augmented.append(rotated_90)\n",
    "    labels_augmented.append(label)\n",
    "\n",
    "    # Rotate 180 degrees\n",
    "    rotated_180 = np.rot90(image, k=2)\n",
    "    data_augmented.append(rotated_180)\n",
    "    labels_augmented.append(label)\n",
    "\n",
    "    # Rotate 270 degrees\n",
    "    rotated_270 = np.rot90(image, k=3)\n",
    "    data_augmented.append(rotated_270)\n",
    "    labels_augmented.append(label)\n",
    "\n",
    "    # Flip horizontally\n",
    "    flipped = np.flip(image, axis=1)\n",
    "    data_augmented.append(flipped)\n",
    "    labels_augmented.append(label)\n",
    "\n",
    "    # Rotate 90 degrees\n",
    "    flipped_rotated_90 = np.rot90(flipped, k=1)\n",
    "    data_augmented.append(flipped_rotated_90)\n",
    "    labels_augmented.append(label)\n",
    "\n",
    "    # Rotate 180 degrees\n",
    "    flipped_rotated_180 = np.rot90(flipped, k=2)\n",
    "    data_augmented.append(flipped_rotated_180)\n",
    "    labels_augmented.append(label)\n",
    "\n",
    "    # Rotate 270 degrees\n",
    "    flipped_rotated_270 = np.rot90(flipped, k=3)\n",
    "    data_augmented.append(flipped_rotated_270)\n",
    "    labels_augmented.append(label)\n",
    "\n",
    "    # Add random positive noise\n",
    "    noise = np.random.normal(0.025, 0.01, image.shape)\n",
    "    noisy_image = np.clip(image + noise, 0, 1)\n",
    "    data_augmented.append(noisy_image)\n",
    "    labels_augmented.append(label)\n",
    "\n",
    "    # Add random negative noise\n",
    "    noise = np.random.normal(-0.025, 0.01, image.shape)\n",
    "    noisy_image = np.clip(image + noise, 0, 1)\n",
    "    data_augmented.append(noisy_image)\n",
    "    labels_augmented.append(label)\n",
    "\n",
    "# Convert augmented data to numpy arrays\n",
    "data_augmented = np.array(data_augmented)\n",
    "labels_augmented = np.array(labels_augmented)\n",
    "\n",
    "\n",
    "# Convert labels to one-hot encoding\n",
    "labels_org = tf.keras.utils.to_categorical(np.array(labels_encoded), num_classes=3)\n",
    "labels_augmented = tf.keras.utils.to_categorical(labels_augmented, num_classes=3)\n",
    "print(\"original class amount:\")\n",
    "print(\"rock: \", len(labels_org[labels_org[:, 0] == 1]))\n",
    "print(\"paper: \", len(labels_org[labels_org[:, 1] == 1]))\n",
    "print(\"scissors: \", len(labels_org[labels_org[:, 2] == 1]))\n",
    "print(\"\\naugmented class amount:\")\n",
    "print(\"rock: \", len(labels_augmented[labels_augmented[:, 0] == 1]))\n",
    "print(\"paper: \", len(labels_augmented[labels_augmented[:, 1] == 1]))\n",
    "print(\"scissors: \", len(labels_augmented[labels_augmented[:, 2] == 1]))\n",
    "\n",
    "# Decode labels\n",
    "label_map = dict(zip(label_encoder.transform(label_encoder.classes_), label_encoder.classes_))\n",
    "print(\"\\nLabel Mapping:\", label_map)\n",
    "\n",
    "data_augmented = np.reshape(data_augmented, (data_augmented.shape[0], 64))"
   ]
  },
  {
   "cell_type": "code",
   "execution_count": 52,
   "metadata": {},
   "outputs": [
    {
     "name": "stderr",
     "output_type": "stream",
     "text": [
      "/home/paula/.local/lib/python3.10/site-packages/keras/src/layers/reshaping/reshape.py:39: UserWarning: Do not pass an `input_shape`/`input_dim` argument to a layer. When using Sequential models, prefer using an `Input(shape)` object as the first layer in the model instead.\n",
      "  super().__init__(**kwargs)\n",
      "/home/paula/.local/lib/python3.10/site-packages/keras/src/layers/convolutional/base_conv.py:107: UserWarning: Do not pass an `input_shape`/`input_dim` argument to a layer. When using Sequential models, prefer using an `Input(shape)` object as the first layer in the model instead.\n",
      "  super().__init__(activity_regularizer=activity_regularizer, **kwargs)\n"
     ]
    },
    {
     "data": {
      "text/html": [
       "<pre style=\"white-space:pre;overflow-x:auto;line-height:normal;font-family:Menlo,'DejaVu Sans Mono',consolas,'Courier New',monospace\"><span style=\"font-weight: bold\">Model: \"sequential_107\"</span>\n",
       "</pre>\n"
      ],
      "text/plain": [
       "\u001b[1mModel: \"sequential_107\"\u001b[0m\n"
      ]
     },
     "metadata": {},
     "output_type": "display_data"
    },
    {
     "data": {
      "text/html": [
       "<pre style=\"white-space:pre;overflow-x:auto;line-height:normal;font-family:Menlo,'DejaVu Sans Mono',consolas,'Courier New',monospace\">┏━━━━━━━━━━━━━━━━━━━━━━━━━━━━━━━━━┳━━━━━━━━━━━━━━━━━━━━━━━━┳━━━━━━━━━━━━━━━┓\n",
       "┃<span style=\"font-weight: bold\"> Layer (type)                    </span>┃<span style=\"font-weight: bold\"> Output Shape           </span>┃<span style=\"font-weight: bold\">       Param # </span>┃\n",
       "┡━━━━━━━━━━━━━━━━━━━━━━━━━━━━━━━━━╇━━━━━━━━━━━━━━━━━━━━━━━━╇━━━━━━━━━━━━━━━┩\n",
       "│ reshape (<span style=\"color: #0087ff; text-decoration-color: #0087ff\">Reshape</span>)               │ (<span style=\"color: #00d7ff; text-decoration-color: #00d7ff\">None</span>, <span style=\"color: #00af00; text-decoration-color: #00af00\">8</span>, <span style=\"color: #00af00; text-decoration-color: #00af00\">8</span>, <span style=\"color: #00af00; text-decoration-color: #00af00\">1</span>)        │             <span style=\"color: #00af00; text-decoration-color: #00af00\">0</span> │\n",
       "├─────────────────────────────────┼────────────────────────┼───────────────┤\n",
       "│ conv2D_1 (<span style=\"color: #0087ff; text-decoration-color: #0087ff\">Conv2D</span>)               │ (<span style=\"color: #00d7ff; text-decoration-color: #00d7ff\">None</span>, <span style=\"color: #00af00; text-decoration-color: #00af00\">8</span>, <span style=\"color: #00af00; text-decoration-color: #00af00\">8</span>, <span style=\"color: #00af00; text-decoration-color: #00af00\">8</span>)        │            <span style=\"color: #00af00; text-decoration-color: #00af00\">80</span> │\n",
       "├─────────────────────────────────┼────────────────────────┼───────────────┤\n",
       "│ conv2D_2 (<span style=\"color: #0087ff; text-decoration-color: #0087ff\">Conv2D</span>)               │ (<span style=\"color: #00d7ff; text-decoration-color: #00d7ff\">None</span>, <span style=\"color: #00af00; text-decoration-color: #00af00\">8</span>, <span style=\"color: #00af00; text-decoration-color: #00af00\">8</span>, <span style=\"color: #00af00; text-decoration-color: #00af00\">16</span>)       │         <span style=\"color: #00af00; text-decoration-color: #00af00\">1,168</span> │\n",
       "├─────────────────────────────────┼────────────────────────┼───────────────┤\n",
       "│ maxPooling2D (<span style=\"color: #0087ff; text-decoration-color: #0087ff\">MaxPooling2D</span>)     │ (<span style=\"color: #00d7ff; text-decoration-color: #00d7ff\">None</span>, <span style=\"color: #00af00; text-decoration-color: #00af00\">4</span>, <span style=\"color: #00af00; text-decoration-color: #00af00\">4</span>, <span style=\"color: #00af00; text-decoration-color: #00af00\">16</span>)       │             <span style=\"color: #00af00; text-decoration-color: #00af00\">0</span> │\n",
       "├─────────────────────────────────┼────────────────────────┼───────────────┤\n",
       "│ flatten (<span style=\"color: #0087ff; text-decoration-color: #0087ff\">Flatten</span>)               │ (<span style=\"color: #00d7ff; text-decoration-color: #00d7ff\">None</span>, <span style=\"color: #00af00; text-decoration-color: #00af00\">256</span>)            │             <span style=\"color: #00af00; text-decoration-color: #00af00\">0</span> │\n",
       "├─────────────────────────────────┼────────────────────────┼───────────────┤\n",
       "│ dense_1 (<span style=\"color: #0087ff; text-decoration-color: #0087ff\">Dense</span>)                 │ (<span style=\"color: #00d7ff; text-decoration-color: #00d7ff\">None</span>, <span style=\"color: #00af00; text-decoration-color: #00af00\">32</span>)             │         <span style=\"color: #00af00; text-decoration-color: #00af00\">8,224</span> │\n",
       "├─────────────────────────────────┼────────────────────────┼───────────────┤\n",
       "│ dense_2 (<span style=\"color: #0087ff; text-decoration-color: #0087ff\">Dense</span>)                 │ (<span style=\"color: #00d7ff; text-decoration-color: #00d7ff\">None</span>, <span style=\"color: #00af00; text-decoration-color: #00af00\">3</span>)              │            <span style=\"color: #00af00; text-decoration-color: #00af00\">99</span> │\n",
       "└─────────────────────────────────┴────────────────────────┴───────────────┘\n",
       "</pre>\n"
      ],
      "text/plain": [
       "┏━━━━━━━━━━━━━━━━━━━━━━━━━━━━━━━━━┳━━━━━━━━━━━━━━━━━━━━━━━━┳━━━━━━━━━━━━━━━┓\n",
       "┃\u001b[1m \u001b[0m\u001b[1mLayer (type)                   \u001b[0m\u001b[1m \u001b[0m┃\u001b[1m \u001b[0m\u001b[1mOutput Shape          \u001b[0m\u001b[1m \u001b[0m┃\u001b[1m \u001b[0m\u001b[1m      Param #\u001b[0m\u001b[1m \u001b[0m┃\n",
       "┡━━━━━━━━━━━━━━━━━━━━━━━━━━━━━━━━━╇━━━━━━━━━━━━━━━━━━━━━━━━╇━━━━━━━━━━━━━━━┩\n",
       "│ reshape (\u001b[38;5;33mReshape\u001b[0m)               │ (\u001b[38;5;45mNone\u001b[0m, \u001b[38;5;34m8\u001b[0m, \u001b[38;5;34m8\u001b[0m, \u001b[38;5;34m1\u001b[0m)        │             \u001b[38;5;34m0\u001b[0m │\n",
       "├─────────────────────────────────┼────────────────────────┼───────────────┤\n",
       "│ conv2D_1 (\u001b[38;5;33mConv2D\u001b[0m)               │ (\u001b[38;5;45mNone\u001b[0m, \u001b[38;5;34m8\u001b[0m, \u001b[38;5;34m8\u001b[0m, \u001b[38;5;34m8\u001b[0m)        │            \u001b[38;5;34m80\u001b[0m │\n",
       "├─────────────────────────────────┼────────────────────────┼───────────────┤\n",
       "│ conv2D_2 (\u001b[38;5;33mConv2D\u001b[0m)               │ (\u001b[38;5;45mNone\u001b[0m, \u001b[38;5;34m8\u001b[0m, \u001b[38;5;34m8\u001b[0m, \u001b[38;5;34m16\u001b[0m)       │         \u001b[38;5;34m1,168\u001b[0m │\n",
       "├─────────────────────────────────┼────────────────────────┼───────────────┤\n",
       "│ maxPooling2D (\u001b[38;5;33mMaxPooling2D\u001b[0m)     │ (\u001b[38;5;45mNone\u001b[0m, \u001b[38;5;34m4\u001b[0m, \u001b[38;5;34m4\u001b[0m, \u001b[38;5;34m16\u001b[0m)       │             \u001b[38;5;34m0\u001b[0m │\n",
       "├─────────────────────────────────┼────────────────────────┼───────────────┤\n",
       "│ flatten (\u001b[38;5;33mFlatten\u001b[0m)               │ (\u001b[38;5;45mNone\u001b[0m, \u001b[38;5;34m256\u001b[0m)            │             \u001b[38;5;34m0\u001b[0m │\n",
       "├─────────────────────────────────┼────────────────────────┼───────────────┤\n",
       "│ dense_1 (\u001b[38;5;33mDense\u001b[0m)                 │ (\u001b[38;5;45mNone\u001b[0m, \u001b[38;5;34m32\u001b[0m)             │         \u001b[38;5;34m8,224\u001b[0m │\n",
       "├─────────────────────────────────┼────────────────────────┼───────────────┤\n",
       "│ dense_2 (\u001b[38;5;33mDense\u001b[0m)                 │ (\u001b[38;5;45mNone\u001b[0m, \u001b[38;5;34m3\u001b[0m)              │            \u001b[38;5;34m99\u001b[0m │\n",
       "└─────────────────────────────────┴────────────────────────┴───────────────┘\n"
      ]
     },
     "metadata": {},
     "output_type": "display_data"
    },
    {
     "data": {
      "text/html": [
       "<pre style=\"white-space:pre;overflow-x:auto;line-height:normal;font-family:Menlo,'DejaVu Sans Mono',consolas,'Courier New',monospace\"><span style=\"font-weight: bold\"> Total params: </span><span style=\"color: #00af00; text-decoration-color: #00af00\">9,571</span> (37.39 KB)\n",
       "</pre>\n"
      ],
      "text/plain": [
       "\u001b[1m Total params: \u001b[0m\u001b[38;5;34m9,571\u001b[0m (37.39 KB)\n"
      ]
     },
     "metadata": {},
     "output_type": "display_data"
    },
    {
     "data": {
      "text/html": [
       "<pre style=\"white-space:pre;overflow-x:auto;line-height:normal;font-family:Menlo,'DejaVu Sans Mono',consolas,'Courier New',monospace\"><span style=\"font-weight: bold\"> Trainable params: </span><span style=\"color: #00af00; text-decoration-color: #00af00\">9,571</span> (37.39 KB)\n",
       "</pre>\n"
      ],
      "text/plain": [
       "\u001b[1m Trainable params: \u001b[0m\u001b[38;5;34m9,571\u001b[0m (37.39 KB)\n"
      ]
     },
     "metadata": {},
     "output_type": "display_data"
    },
    {
     "data": {
      "text/html": [
       "<pre style=\"white-space:pre;overflow-x:auto;line-height:normal;font-family:Menlo,'DejaVu Sans Mono',consolas,'Courier New',monospace\"><span style=\"font-weight: bold\"> Non-trainable params: </span><span style=\"color: #00af00; text-decoration-color: #00af00\">0</span> (0.00 B)\n",
       "</pre>\n"
      ],
      "text/plain": [
       "\u001b[1m Non-trainable params: \u001b[0m\u001b[38;5;34m0\u001b[0m (0.00 B)\n"
      ]
     },
     "metadata": {},
     "output_type": "display_data"
    }
   ],
   "source": [
    "### visualize model architecture\n",
    "importlib.reload(helper)\n",
    "\n",
    "demo_model = helper.create_model()\n",
    "demo_model.summary()"
   ]
  },
  {
   "cell_type": "code",
   "execution_count": 35,
   "metadata": {},
   "outputs": [
    {
     "name": "stderr",
     "output_type": "stream",
     "text": [
      "  0%|          | 0/10 [00:00<?, ?it/s]"
     ]
    },
    {
     "name": "stdout",
     "output_type": "stream",
     "text": [
      "\u001b[1m23/23\u001b[0m \u001b[32m━━━━━━━━━━━━━━━━━━━━\u001b[0m\u001b[37m\u001b[0m \u001b[1m0s\u001b[0m 1ms/step - accuracy: 0.8586 - loss: 0.3976 - precision: 0.8737 - recall: 0.8218 \n",
      "{'accuracy': 0.8217687010765076, 'loss': 0.5414674878120422, 'precision': 0.8445748090744019, 'recall': 0.7836734652519226}\n",
      "INFO:tensorflow:Assets written to: /tmp/tmp3w1b4l3h/assets\n"
     ]
    },
    {
     "name": "stderr",
     "output_type": "stream",
     "text": [
      "INFO:tensorflow:Assets written to: /tmp/tmp3w1b4l3h/assets\n"
     ]
    },
    {
     "name": "stdout",
     "output_type": "stream",
     "text": [
      "Saved artifact at '/tmp/tmp3w1b4l3h'. The following endpoints are available:\n",
      "\n",
      "* Endpoint 'serve'\n",
      "  args_0 (POSITIONAL_ONLY): TensorSpec(shape=(None, 64), dtype=tf.float32, name='keras_tensor_744')\n",
      "Output Type:\n",
      "  TensorSpec(shape=(None, 3), dtype=tf.float32, name=None)\n",
      "Captures:\n",
      "  136950990226176: TensorSpec(shape=(), dtype=tf.resource, name=None)\n",
      "  136950990241136: TensorSpec(shape=(), dtype=tf.resource, name=None)\n",
      "  136950990234096: TensorSpec(shape=(), dtype=tf.resource, name=None)\n",
      "  136949378107696: TensorSpec(shape=(), dtype=tf.resource, name=None)\n",
      "  136949378108752: TensorSpec(shape=(), dtype=tf.resource, name=None)\n",
      "  136949378106464: TensorSpec(shape=(), dtype=tf.resource, name=None)\n",
      "  136949378117200: TensorSpec(shape=(), dtype=tf.resource, name=None)\n",
      "  136947779371952: TensorSpec(shape=(), dtype=tf.resource, name=None)\n"
     ]
    },
    {
     "name": "stderr",
     "output_type": "stream",
     "text": [
      "W0000 00:00:1739975932.505031   92754 tf_tfl_flatbuffer_helpers.cc:365] Ignored output_format.\n",
      "W0000 00:00:1739975932.505041   92754 tf_tfl_flatbuffer_helpers.cc:368] Ignored drop_control_dependency.\n",
      " 10%|█         | 1/10 [00:07<01:11,  7.96s/it]/home/paula/.local/lib/python3.10/site-packages/keras/src/layers/reshaping/reshape.py:39: UserWarning: Do not pass an `input_shape`/`input_dim` argument to a layer. When using Sequential models, prefer using an `Input(shape)` object as the first layer in the model instead.\n",
      "  super().__init__(**kwargs)\n",
      "/home/paula/.local/lib/python3.10/site-packages/keras/src/layers/convolutional/base_conv.py:107: UserWarning: Do not pass an `input_shape`/`input_dim` argument to a layer. When using Sequential models, prefer using an `Input(shape)` object as the first layer in the model instead.\n",
      "  super().__init__(activity_regularizer=activity_regularizer, **kwargs)\n"
     ]
    },
    {
     "name": "stdout",
     "output_type": "stream",
     "text": [
      "TensorFlow Lite model:\n",
      "tflite: acc=0.821769, prec=0.824399, reca=0.821896\n",
      "\u001b[1m23/23\u001b[0m \u001b[32m━━━━━━━━━━━━━━━━━━━━\u001b[0m\u001b[37m\u001b[0m \u001b[1m0s\u001b[0m 905us/step - accuracy: 0.8631 - loss: 0.3652 - precision: 0.8800 - recall: 0.8502\n",
      "{'accuracy': 0.8299319744110107, 'loss': 0.4656965732574463, 'precision': 0.8530670404434204, 'recall': 0.8136054277420044}\n",
      "INFO:tensorflow:Assets written to: /tmp/tmpxcdm1rd6/assets\n"
     ]
    },
    {
     "name": "stderr",
     "output_type": "stream",
     "text": [
      "INFO:tensorflow:Assets written to: /tmp/tmpxcdm1rd6/assets\n"
     ]
    },
    {
     "name": "stdout",
     "output_type": "stream",
     "text": [
      "Saved artifact at '/tmp/tmpxcdm1rd6'. The following endpoints are available:\n",
      "\n",
      "* Endpoint 'serve'\n",
      "  args_0 (POSITIONAL_ONLY): TensorSpec(shape=(None, 64), dtype=tf.float32, name='keras_tensor_752')\n",
      "Output Type:\n",
      "  TensorSpec(shape=(None, 3), dtype=tf.float32, name=None)\n",
      "Captures:\n",
      "  136947753796000: TensorSpec(shape=(), dtype=tf.resource, name=None)\n",
      "  136947751830800: TensorSpec(shape=(), dtype=tf.resource, name=None)\n",
      "  136947751836080: TensorSpec(shape=(), dtype=tf.resource, name=None)\n",
      "  136947751490080: TensorSpec(shape=(), dtype=tf.resource, name=None)\n",
      "  136947751488672: TensorSpec(shape=(), dtype=tf.resource, name=None)\n",
      "  136947751485856: TensorSpec(shape=(), dtype=tf.resource, name=None)\n",
      "  136947751487968: TensorSpec(shape=(), dtype=tf.resource, name=None)\n",
      "  136947751489728: TensorSpec(shape=(), dtype=tf.resource, name=None)\n"
     ]
    },
    {
     "name": "stderr",
     "output_type": "stream",
     "text": [
      "W0000 00:00:1739975941.412387   92754 tf_tfl_flatbuffer_helpers.cc:365] Ignored output_format.\n",
      "W0000 00:00:1739975941.412400   92754 tf_tfl_flatbuffer_helpers.cc:368] Ignored drop_control_dependency.\n",
      " 20%|██        | 2/10 [00:16<01:08,  8.51s/it]/home/paula/.local/lib/python3.10/site-packages/keras/src/layers/reshaping/reshape.py:39: UserWarning: Do not pass an `input_shape`/`input_dim` argument to a layer. When using Sequential models, prefer using an `Input(shape)` object as the first layer in the model instead.\n",
      "  super().__init__(**kwargs)\n",
      "/home/paula/.local/lib/python3.10/site-packages/keras/src/layers/convolutional/base_conv.py:107: UserWarning: Do not pass an `input_shape`/`input_dim` argument to a layer. When using Sequential models, prefer using an `Input(shape)` object as the first layer in the model instead.\n",
      "  super().__init__(activity_regularizer=activity_regularizer, **kwargs)\n"
     ]
    },
    {
     "name": "stdout",
     "output_type": "stream",
     "text": [
      "TensorFlow Lite model:\n",
      "tflite: acc=0.829932, prec=0.830626, reca=0.828495\n",
      "\u001b[1m23/23\u001b[0m \u001b[32m━━━━━━━━━━━━━━━━━━━━\u001b[0m\u001b[37m\u001b[0m \u001b[1m0s\u001b[0m 957us/step - accuracy: 0.7820 - loss: 0.5155 - precision: 0.7839 - recall: 0.7589\n",
      "{'accuracy': 0.7482993006706238, 'loss': 0.6585133075714111, 'precision': 0.7528409361839294, 'recall': 0.7210884094238281}\n",
      "INFO:tensorflow:Assets written to: /tmp/tmpkrifxsh1/assets\n"
     ]
    },
    {
     "name": "stderr",
     "output_type": "stream",
     "text": [
      "INFO:tensorflow:Assets written to: /tmp/tmpkrifxsh1/assets\n"
     ]
    },
    {
     "name": "stdout",
     "output_type": "stream",
     "text": [
      "Saved artifact at '/tmp/tmpkrifxsh1'. The following endpoints are available:\n",
      "\n",
      "* Endpoint 'serve'\n",
      "  args_0 (POSITIONAL_ONLY): TensorSpec(shape=(None, 64), dtype=tf.float32, name='keras_tensor_760')\n",
      "Output Type:\n",
      "  TensorSpec(shape=(None, 3), dtype=tf.float32, name=None)\n",
      "Captures:\n",
      "  136947716826992: TensorSpec(shape=(), dtype=tf.resource, name=None)\n",
      "  136947523268880: TensorSpec(shape=(), dtype=tf.resource, name=None)\n",
      "  136947523267472: TensorSpec(shape=(), dtype=tf.resource, name=None)\n",
      "  136947523271344: TensorSpec(shape=(), dtype=tf.resource, name=None)\n",
      "  136947749591296: TensorSpec(shape=(), dtype=tf.resource, name=None)\n",
      "  136947523270816: TensorSpec(shape=(), dtype=tf.resource, name=None)\n",
      "  136947523044624: TensorSpec(shape=(), dtype=tf.resource, name=None)\n",
      "  136947523044096: TensorSpec(shape=(), dtype=tf.resource, name=None)\n"
     ]
    },
    {
     "name": "stderr",
     "output_type": "stream",
     "text": [
      "W0000 00:00:1739975952.341915   92754 tf_tfl_flatbuffer_helpers.cc:365] Ignored output_format.\n",
      "W0000 00:00:1739975952.341926   92754 tf_tfl_flatbuffer_helpers.cc:368] Ignored drop_control_dependency.\n",
      " 30%|███       | 3/10 [00:27<01:07,  9.61s/it]/home/paula/.local/lib/python3.10/site-packages/keras/src/layers/reshaping/reshape.py:39: UserWarning: Do not pass an `input_shape`/`input_dim` argument to a layer. When using Sequential models, prefer using an `Input(shape)` object as the first layer in the model instead.\n",
      "  super().__init__(**kwargs)\n",
      "/home/paula/.local/lib/python3.10/site-packages/keras/src/layers/convolutional/base_conv.py:107: UserWarning: Do not pass an `input_shape`/`input_dim` argument to a layer. When using Sequential models, prefer using an `Input(shape)` object as the first layer in the model instead.\n",
      "  super().__init__(activity_regularizer=activity_regularizer, **kwargs)\n"
     ]
    },
    {
     "name": "stdout",
     "output_type": "stream",
     "text": [
      "TensorFlow Lite model:\n",
      "tflite: acc=0.748299, prec=0.782890, reca=0.748288\n",
      "\u001b[1m23/23\u001b[0m \u001b[32m━━━━━━━━━━━━━━━━━━━━\u001b[0m\u001b[37m\u001b[0m \u001b[1m0s\u001b[0m 1ms/step - accuracy: 0.8518 - loss: 0.3922 - precision: 0.8638 - recall: 0.8301\n",
      "{'accuracy': 0.7986394762992859, 'loss': 0.5642513036727905, 'precision': 0.8170028924942017, 'recall': 0.7714285850524902}\n",
      "INFO:tensorflow:Assets written to: /tmp/tmp98sy79z4/assets\n"
     ]
    },
    {
     "name": "stderr",
     "output_type": "stream",
     "text": [
      "INFO:tensorflow:Assets written to: /tmp/tmp98sy79z4/assets\n"
     ]
    },
    {
     "name": "stdout",
     "output_type": "stream",
     "text": [
      "Saved artifact at '/tmp/tmp98sy79z4'. The following endpoints are available:\n",
      "\n",
      "* Endpoint 'serve'\n",
      "  args_0 (POSITIONAL_ONLY): TensorSpec(shape=(None, 64), dtype=tf.float32, name='keras_tensor_768')\n",
      "Output Type:\n",
      "  TensorSpec(shape=(None, 3), dtype=tf.float32, name=None)\n",
      "Captures:\n",
      "  136949562761888: TensorSpec(shape=(), dtype=tf.resource, name=None)\n",
      "  136949562206064: TensorSpec(shape=(), dtype=tf.resource, name=None)\n",
      "  136949562209760: TensorSpec(shape=(), dtype=tf.resource, name=None)\n",
      "  136949562204656: TensorSpec(shape=(), dtype=tf.resource, name=None)\n",
      "  136949562206592: TensorSpec(shape=(), dtype=tf.resource, name=None)\n",
      "  136949562208880: TensorSpec(shape=(), dtype=tf.resource, name=None)\n",
      "  136949562210816: TensorSpec(shape=(), dtype=tf.resource, name=None)\n",
      "  136949562212048: TensorSpec(shape=(), dtype=tf.resource, name=None)\n"
     ]
    },
    {
     "name": "stderr",
     "output_type": "stream",
     "text": [
      "W0000 00:00:1739975959.095321   92754 tf_tfl_flatbuffer_helpers.cc:365] Ignored output_format.\n",
      "W0000 00:00:1739975959.095331   92754 tf_tfl_flatbuffer_helpers.cc:368] Ignored drop_control_dependency.\n",
      " 40%|████      | 4/10 [00:34<00:50,  8.49s/it]/home/paula/.local/lib/python3.10/site-packages/keras/src/layers/reshaping/reshape.py:39: UserWarning: Do not pass an `input_shape`/`input_dim` argument to a layer. When using Sequential models, prefer using an `Input(shape)` object as the first layer in the model instead.\n",
      "  super().__init__(**kwargs)\n",
      "/home/paula/.local/lib/python3.10/site-packages/keras/src/layers/convolutional/base_conv.py:107: UserWarning: Do not pass an `input_shape`/`input_dim` argument to a layer. When using Sequential models, prefer using an `Input(shape)` object as the first layer in the model instead.\n",
      "  super().__init__(activity_regularizer=activity_regularizer, **kwargs)\n"
     ]
    },
    {
     "name": "stdout",
     "output_type": "stream",
     "text": [
      "TensorFlow Lite model:\n",
      "tflite: acc=0.798639, prec=0.807948, reca=0.799055\n",
      "\u001b[1m23/23\u001b[0m \u001b[32m━━━━━━━━━━━━━━━━━━━━\u001b[0m\u001b[37m\u001b[0m \u001b[1m0s\u001b[0m 994us/step - accuracy: 0.8519 - loss: 0.3918 - precision: 0.8697 - recall: 0.8389\n",
      "{'accuracy': 0.795918345451355, 'loss': 0.5576870441436768, 'precision': 0.8171428442001343, 'recall': 0.7782312631607056}\n",
      "INFO:tensorflow:Assets written to: /tmp/tmph97220qi/assets\n"
     ]
    },
    {
     "name": "stderr",
     "output_type": "stream",
     "text": [
      "INFO:tensorflow:Assets written to: /tmp/tmph97220qi/assets\n"
     ]
    },
    {
     "name": "stdout",
     "output_type": "stream",
     "text": [
      "Saved artifact at '/tmp/tmph97220qi'. The following endpoints are available:\n",
      "\n",
      "* Endpoint 'serve'\n",
      "  args_0 (POSITIONAL_ONLY): TensorSpec(shape=(None, 64), dtype=tf.float32, name='keras_tensor_776')\n",
      "Output Type:\n",
      "  TensorSpec(shape=(None, 3), dtype=tf.float32, name=None)\n",
      "Captures:\n",
      "  136948000906352: TensorSpec(shape=(), dtype=tf.resource, name=None)\n",
      "  136948001397168: TensorSpec(shape=(), dtype=tf.resource, name=None)\n",
      "  136948001401216: TensorSpec(shape=(), dtype=tf.resource, name=None)\n",
      "  136948001395760: TensorSpec(shape=(), dtype=tf.resource, name=None)\n",
      "  136948001397696: TensorSpec(shape=(), dtype=tf.resource, name=None)\n",
      "  136948001399456: TensorSpec(shape=(), dtype=tf.resource, name=None)\n",
      "  136948001400160: TensorSpec(shape=(), dtype=tf.resource, name=None)\n",
      "  136948001402448: TensorSpec(shape=(), dtype=tf.resource, name=None)\n"
     ]
    },
    {
     "name": "stderr",
     "output_type": "stream",
     "text": [
      "W0000 00:00:1739975966.389731   92754 tf_tfl_flatbuffer_helpers.cc:365] Ignored output_format.\n",
      "W0000 00:00:1739975966.389742   92754 tf_tfl_flatbuffer_helpers.cc:368] Ignored drop_control_dependency.\n",
      " 50%|█████     | 5/10 [00:41<00:40,  8.06s/it]/home/paula/.local/lib/python3.10/site-packages/keras/src/layers/reshaping/reshape.py:39: UserWarning: Do not pass an `input_shape`/`input_dim` argument to a layer. When using Sequential models, prefer using an `Input(shape)` object as the first layer in the model instead.\n",
      "  super().__init__(**kwargs)\n",
      "/home/paula/.local/lib/python3.10/site-packages/keras/src/layers/convolutional/base_conv.py:107: UserWarning: Do not pass an `input_shape`/`input_dim` argument to a layer. When using Sequential models, prefer using an `Input(shape)` object as the first layer in the model instead.\n",
      "  super().__init__(activity_regularizer=activity_regularizer, **kwargs)\n"
     ]
    },
    {
     "name": "stdout",
     "output_type": "stream",
     "text": [
      "TensorFlow Lite model:\n",
      "tflite: acc=0.795918, prec=0.828318, reca=0.795515\n",
      "\u001b[1m23/23\u001b[0m \u001b[32m━━━━━━━━━━━━━━━━━━━━\u001b[0m\u001b[37m\u001b[0m \u001b[1m0s\u001b[0m 1ms/step - accuracy: 0.8531 - loss: 0.4090 - precision: 0.8613 - recall: 0.8421\n",
      "{'accuracy': 0.7755101919174194, 'loss': 0.6115500330924988, 'precision': 0.7979942560195923, 'recall': 0.75782310962677}\n",
      "INFO:tensorflow:Assets written to: /tmp/tmpuj0yfclj/assets\n"
     ]
    },
    {
     "name": "stderr",
     "output_type": "stream",
     "text": [
      "INFO:tensorflow:Assets written to: /tmp/tmpuj0yfclj/assets\n"
     ]
    },
    {
     "name": "stdout",
     "output_type": "stream",
     "text": [
      "Saved artifact at '/tmp/tmpuj0yfclj'. The following endpoints are available:\n",
      "\n",
      "* Endpoint 'serve'\n",
      "  args_0 (POSITIONAL_ONLY): TensorSpec(shape=(None, 64), dtype=tf.float32, name='keras_tensor_784')\n",
      "Output Type:\n",
      "  TensorSpec(shape=(None, 3), dtype=tf.float32, name=None)\n",
      "Captures:\n",
      "  136947762770720: TensorSpec(shape=(), dtype=tf.resource, name=None)\n",
      "  136947762761568: TensorSpec(shape=(), dtype=tf.resource, name=None)\n",
      "  136947763435072: TensorSpec(shape=(), dtype=tf.resource, name=None)\n",
      "  136947763431376: TensorSpec(shape=(), dtype=tf.resource, name=None)\n",
      "  136947762758048: TensorSpec(shape=(), dtype=tf.resource, name=None)\n",
      "  136949379604448: TensorSpec(shape=(), dtype=tf.resource, name=None)\n",
      "  136947743965600: TensorSpec(shape=(), dtype=tf.resource, name=None)\n",
      "  136947743968768: TensorSpec(shape=(), dtype=tf.resource, name=None)\n"
     ]
    },
    {
     "name": "stderr",
     "output_type": "stream",
     "text": [
      "W0000 00:00:1739975972.857432   92754 tf_tfl_flatbuffer_helpers.cc:365] Ignored output_format.\n",
      "W0000 00:00:1739975972.857443   92754 tf_tfl_flatbuffer_helpers.cc:368] Ignored drop_control_dependency.\n",
      " 60%|██████    | 6/10 [00:48<00:30,  7.52s/it]/home/paula/.local/lib/python3.10/site-packages/keras/src/layers/reshaping/reshape.py:39: UserWarning: Do not pass an `input_shape`/`input_dim` argument to a layer. When using Sequential models, prefer using an `Input(shape)` object as the first layer in the model instead.\n",
      "  super().__init__(**kwargs)\n",
      "/home/paula/.local/lib/python3.10/site-packages/keras/src/layers/convolutional/base_conv.py:107: UserWarning: Do not pass an `input_shape`/`input_dim` argument to a layer. When using Sequential models, prefer using an `Input(shape)` object as the first layer in the model instead.\n",
      "  super().__init__(activity_regularizer=activity_regularizer, **kwargs)\n"
     ]
    },
    {
     "name": "stdout",
     "output_type": "stream",
     "text": [
      "TensorFlow Lite model:\n",
      "tflite: acc=0.775510, prec=0.808671, reca=0.776454\n",
      "\u001b[1m23/23\u001b[0m \u001b[32m━━━━━━━━━━━━━━━━━━━━\u001b[0m\u001b[37m\u001b[0m \u001b[1m0s\u001b[0m 2ms/step - accuracy: 0.8801 - loss: 0.3275 - precision: 0.8952 - recall: 0.8510\n",
      "{'accuracy': 0.8081632852554321, 'loss': 0.519088625907898, 'precision': 0.8179231882095337, 'recall': 0.7823129296302795}\n",
      "INFO:tensorflow:Assets written to: /tmp/tmp_6izk5v6/assets\n"
     ]
    },
    {
     "name": "stderr",
     "output_type": "stream",
     "text": [
      "INFO:tensorflow:Assets written to: /tmp/tmp_6izk5v6/assets\n"
     ]
    },
    {
     "name": "stdout",
     "output_type": "stream",
     "text": [
      "Saved artifact at '/tmp/tmp_6izk5v6'. The following endpoints are available:\n",
      "\n",
      "* Endpoint 'serve'\n",
      "  args_0 (POSITIONAL_ONLY): TensorSpec(shape=(None, 64), dtype=tf.float32, name='keras_tensor_792')\n",
      "Output Type:\n",
      "  TensorSpec(shape=(None, 3), dtype=tf.float32, name=None)\n",
      "Captures:\n",
      "  136947728273776: TensorSpec(shape=(), dtype=tf.resource, name=None)\n",
      "  136949535763344: TensorSpec(shape=(), dtype=tf.resource, name=None)\n",
      "  136949535767392: TensorSpec(shape=(), dtype=tf.resource, name=None)\n",
      "  136949535762112: TensorSpec(shape=(), dtype=tf.resource, name=None)\n",
      "  136947762761040: TensorSpec(shape=(), dtype=tf.resource, name=None)\n",
      "  136947762761392: TensorSpec(shape=(), dtype=tf.resource, name=None)\n",
      "  136947743967360: TensorSpec(shape=(), dtype=tf.resource, name=None)\n",
      "  136947728275008: TensorSpec(shape=(), dtype=tf.resource, name=None)\n"
     ]
    },
    {
     "name": "stderr",
     "output_type": "stream",
     "text": [
      "W0000 00:00:1739975984.777632   92754 tf_tfl_flatbuffer_helpers.cc:365] Ignored output_format.\n",
      "W0000 00:00:1739975984.777643   92754 tf_tfl_flatbuffer_helpers.cc:368] Ignored drop_control_dependency.\n",
      " 70%|███████   | 7/10 [01:00<00:26,  8.95s/it]/home/paula/.local/lib/python3.10/site-packages/keras/src/layers/reshaping/reshape.py:39: UserWarning: Do not pass an `input_shape`/`input_dim` argument to a layer. When using Sequential models, prefer using an `Input(shape)` object as the first layer in the model instead.\n",
      "  super().__init__(**kwargs)\n",
      "/home/paula/.local/lib/python3.10/site-packages/keras/src/layers/convolutional/base_conv.py:107: UserWarning: Do not pass an `input_shape`/`input_dim` argument to a layer. When using Sequential models, prefer using an `Input(shape)` object as the first layer in the model instead.\n",
      "  super().__init__(activity_regularizer=activity_regularizer, **kwargs)\n"
     ]
    },
    {
     "name": "stdout",
     "output_type": "stream",
     "text": [
      "TensorFlow Lite model:\n",
      "tflite: acc=0.808163, prec=0.823859, reca=0.807928\n",
      "\u001b[1m23/23\u001b[0m \u001b[32m━━━━━━━━━━━━━━━━━━━━\u001b[0m\u001b[37m\u001b[0m \u001b[1m0s\u001b[0m 914us/step - accuracy: 0.8744 - loss: 0.3223 - precision: 0.8910 - recall: 0.8630\n",
      "{'accuracy': 0.8204081654548645, 'loss': 0.46643343567848206, 'precision': 0.8452721834182739, 'recall': 0.8027210831642151}\n",
      "INFO:tensorflow:Assets written to: /tmp/tmpbortvt5h/assets\n"
     ]
    },
    {
     "name": "stderr",
     "output_type": "stream",
     "text": [
      "INFO:tensorflow:Assets written to: /tmp/tmpbortvt5h/assets\n"
     ]
    },
    {
     "name": "stdout",
     "output_type": "stream",
     "text": [
      "Saved artifact at '/tmp/tmpbortvt5h'. The following endpoints are available:\n",
      "\n",
      "* Endpoint 'serve'\n",
      "  args_0 (POSITIONAL_ONLY): TensorSpec(shape=(None, 64), dtype=tf.float32, name='keras_tensor_800')\n",
      "Output Type:\n",
      "  TensorSpec(shape=(None, 3), dtype=tf.float32, name=None)\n",
      "Captures:\n",
      "  136947778099104: TensorSpec(shape=(), dtype=tf.resource, name=None)\n",
      "  136950988645024: TensorSpec(shape=(), dtype=tf.resource, name=None)\n",
      "  136950988649600: TensorSpec(shape=(), dtype=tf.resource, name=None)\n",
      "  136950989180768: TensorSpec(shape=(), dtype=tf.resource, name=None)\n",
      "  136949141708064: TensorSpec(shape=(), dtype=tf.resource, name=None)\n",
      "  136950989179360: TensorSpec(shape=(), dtype=tf.resource, name=None)\n",
      "  136950989181296: TensorSpec(shape=(), dtype=tf.resource, name=None)\n",
      "  136950989180416: TensorSpec(shape=(), dtype=tf.resource, name=None)\n"
     ]
    },
    {
     "name": "stderr",
     "output_type": "stream",
     "text": [
      "W0000 00:00:1739975992.602552   92754 tf_tfl_flatbuffer_helpers.cc:365] Ignored output_format.\n",
      "W0000 00:00:1739975992.602562   92754 tf_tfl_flatbuffer_helpers.cc:368] Ignored drop_control_dependency.\n",
      " 80%|████████  | 8/10 [01:08<00:17,  8.60s/it]/home/paula/.local/lib/python3.10/site-packages/keras/src/layers/reshaping/reshape.py:39: UserWarning: Do not pass an `input_shape`/`input_dim` argument to a layer. When using Sequential models, prefer using an `Input(shape)` object as the first layer in the model instead.\n",
      "  super().__init__(**kwargs)\n",
      "/home/paula/.local/lib/python3.10/site-packages/keras/src/layers/convolutional/base_conv.py:107: UserWarning: Do not pass an `input_shape`/`input_dim` argument to a layer. When using Sequential models, prefer using an `Input(shape)` object as the first layer in the model instead.\n",
      "  super().__init__(activity_regularizer=activity_regularizer, **kwargs)\n"
     ]
    },
    {
     "name": "stdout",
     "output_type": "stream",
     "text": [
      "TensorFlow Lite model:\n",
      "tflite: acc=0.820408, prec=0.829200, reca=0.821145\n",
      "\u001b[1m23/23\u001b[0m \u001b[32m━━━━━━━━━━━━━━━━━━━━\u001b[0m\u001b[37m\u001b[0m \u001b[1m0s\u001b[0m 950us/step - accuracy: 0.9181 - loss: 0.2546 - precision: 0.9229 - recall: 0.9148\n",
      "{'accuracy': 0.8625850081443787, 'loss': 0.43596938252449036, 'precision': 0.8737863898277283, 'recall': 0.8571428656578064}\n",
      "INFO:tensorflow:Assets written to: /tmp/tmp2gvy0f1z/assets\n"
     ]
    },
    {
     "name": "stderr",
     "output_type": "stream",
     "text": [
      "INFO:tensorflow:Assets written to: /tmp/tmp2gvy0f1z/assets\n"
     ]
    },
    {
     "name": "stdout",
     "output_type": "stream",
     "text": [
      "Saved artifact at '/tmp/tmp2gvy0f1z'. The following endpoints are available:\n",
      "\n",
      "* Endpoint 'serve'\n",
      "  args_0 (POSITIONAL_ONLY): TensorSpec(shape=(None, 64), dtype=tf.float32, name='keras_tensor_808')\n",
      "Output Type:\n",
      "  TensorSpec(shape=(None, 3), dtype=tf.float32, name=None)\n",
      "Captures:\n",
      "  136948203630688: TensorSpec(shape=(), dtype=tf.resource, name=None)\n",
      "  136947776573104: TensorSpec(shape=(), dtype=tf.resource, name=None)\n",
      "  136947776579792: TensorSpec(shape=(), dtype=tf.resource, name=None)\n",
      "  136947776570464: TensorSpec(shape=(), dtype=tf.resource, name=None)\n",
      "  136947776574160: TensorSpec(shape=(), dtype=tf.resource, name=None)\n",
      "  136947776581376: TensorSpec(shape=(), dtype=tf.resource, name=None)\n",
      "  136947776578736: TensorSpec(shape=(), dtype=tf.resource, name=None)\n",
      "  136947776581024: TensorSpec(shape=(), dtype=tf.resource, name=None)\n"
     ]
    },
    {
     "name": "stderr",
     "output_type": "stream",
     "text": [
      "W0000 00:00:1739976010.278564   92754 tf_tfl_flatbuffer_helpers.cc:365] Ignored output_format.\n",
      "W0000 00:00:1739976010.278576   92754 tf_tfl_flatbuffer_helpers.cc:368] Ignored drop_control_dependency.\n",
      " 90%|█████████ | 9/10 [01:25<00:11, 11.43s/it]/home/paula/.local/lib/python3.10/site-packages/keras/src/layers/reshaping/reshape.py:39: UserWarning: Do not pass an `input_shape`/`input_dim` argument to a layer. When using Sequential models, prefer using an `Input(shape)` object as the first layer in the model instead.\n",
      "  super().__init__(**kwargs)\n",
      "/home/paula/.local/lib/python3.10/site-packages/keras/src/layers/convolutional/base_conv.py:107: UserWarning: Do not pass an `input_shape`/`input_dim` argument to a layer. When using Sequential models, prefer using an `Input(shape)` object as the first layer in the model instead.\n",
      "  super().__init__(activity_regularizer=activity_regularizer, **kwargs)\n"
     ]
    },
    {
     "name": "stdout",
     "output_type": "stream",
     "text": [
      "TensorFlow Lite model:\n",
      "tflite: acc=0.862585, prec=0.864338, reca=0.862426\n",
      "\u001b[1m23/23\u001b[0m \u001b[32m━━━━━━━━━━━━━━━━━━━━\u001b[0m\u001b[37m\u001b[0m \u001b[1m0s\u001b[0m 923us/step - accuracy: 0.8638 - loss: 0.3124 - precision: 0.8780 - recall: 0.8623\n",
      "{'accuracy': 0.7945578098297119, 'loss': 0.5952083468437195, 'precision': 0.8146067261695862, 'recall': 0.7891156673431396}\n",
      "INFO:tensorflow:Assets written to: /tmp/tmpinfj9kmw/assets\n"
     ]
    },
    {
     "name": "stderr",
     "output_type": "stream",
     "text": [
      "INFO:tensorflow:Assets written to: /tmp/tmpinfj9kmw/assets\n"
     ]
    },
    {
     "name": "stdout",
     "output_type": "stream",
     "text": [
      "Saved artifact at '/tmp/tmpinfj9kmw'. The following endpoints are available:\n",
      "\n",
      "* Endpoint 'serve'\n",
      "  args_0 (POSITIONAL_ONLY): TensorSpec(shape=(None, 64), dtype=tf.float32, name='keras_tensor_816')\n",
      "Output Type:\n",
      "  TensorSpec(shape=(None, 3), dtype=tf.float32, name=None)\n",
      "Captures:\n",
      "  136947994240528: TensorSpec(shape=(), dtype=tf.resource, name=None)\n",
      "  136947994238064: TensorSpec(shape=(), dtype=tf.resource, name=None)\n",
      "  136947994240880: TensorSpec(shape=(), dtype=tf.resource, name=None)\n",
      "  136947993497440: TensorSpec(shape=(), dtype=tf.resource, name=None)\n",
      "  136947993496032: TensorSpec(shape=(), dtype=tf.resource, name=None)\n",
      "  136947993494272: TensorSpec(shape=(), dtype=tf.resource, name=None)\n",
      "  136947993497968: TensorSpec(shape=(), dtype=tf.resource, name=None)\n",
      "  136947993497088: TensorSpec(shape=(), dtype=tf.resource, name=None)\n"
     ]
    },
    {
     "name": "stderr",
     "output_type": "stream",
     "text": [
      "W0000 00:00:1739976022.823132   92754 tf_tfl_flatbuffer_helpers.cc:365] Ignored output_format.\n",
      "W0000 00:00:1739976022.823142   92754 tf_tfl_flatbuffer_helpers.cc:368] Ignored drop_control_dependency.\n",
      "100%|██████████| 10/10 [01:38<00:00,  9.83s/it]"
     ]
    },
    {
     "name": "stdout",
     "output_type": "stream",
     "text": [
      "TensorFlow Lite model:\n",
      "tflite: acc=0.794558, prec=0.818356, reca=0.797805\n"
     ]
    },
    {
     "name": "stderr",
     "output_type": "stream",
     "text": [
      "\n"
     ]
    }
   ],
   "source": [
    "### K-fold Cross Validation model evaluation\n",
    "importlib.reload(helper)\n",
    "\n",
    "kfold = KFold(n_splits=10, shuffle=True)\n",
    "results = []\n",
    "for train, test in tqdm(kfold.split(data_augmented, labels_augmented), total = 10):\n",
    "    # Define early stopping callback to monitor validation loss\n",
    "    early_stopping = EarlyStopping(monitor='val_loss', patience=4)\n",
    "\n",
    "    # Split the augmented data into training and testing sets\n",
    "    X_train, y_train, X_test, y_test = data_augmented[train], labels_augmented[train], data_augmented[test], labels_augmented[test]\n",
    "\n",
    "    model = helper.create_model()\n",
    "\n",
    "    # Train the model\n",
    "    history = model.fit(X_train, y_train, epochs=200, batch_size=8, validation_split=0.1, callbacks=[early_stopping], verbose=0)\n",
    "\n",
    "    # Evaluate the model\n",
    "    metrics = model.evaluate(X_test, y_test, return_dict=True)\n",
    "    print(metrics)\n",
    "    \n",
    "    tflite_model = helper.convert_tflite_model(model)\n",
    "    \n",
    "    accuracy,precision,recall = helper.test_tflite(tflite_model, X_test, y_test)\n",
    "    print('tflite: acc={:f}, prec={:f}, reca={:f}'.format(accuracy,sum(precision)/len(precision),sum(recall)/len(recall)))\n",
    "\n",
    "    result = {\n",
    "        'metrics': metrics,\n",
    "        'tflite_metrics': {\n",
    "            'accuracy': accuracy,\n",
    "            'precision': precision,\n",
    "            'recall': recall\n",
    "        }\n",
    "    }\n",
    "    results.append(result)\n",
    "\n",
    "accuracies = np.array([d['metrics']['accuracy'] for d in results])\n",
    "precisions = np.array([d['metrics']['precision'] for d in results])\n",
    "recalls = np.array([d['metrics']['recall'] for d in results])\n",
    "losses = np.array([d['metrics']['loss'] for d in results])\n",
    "tflite_accuracies = np.array([d['tflite_metrics']['accuracy'] for d in results])\n",
    "tflite_precisions = np.array([d['tflite_metrics']['precision'] for d in results])\n",
    "tflite_recalls = np.array([d['tflite_metrics']['recall'] for d in results])\n",
    "\n",
    "# print final metrics and tflite metrics\n",
    "with open('./training/test_results.txt', 'w') as f:\n",
    "\tf.write('Average scores for tensorflow model:\\n')\n",
    "\tf.write(f'> Accuracy: {np.round(np.mean(accuracies),3)} (+- {np.round(np.std(accuracies),3)})\\n')\n",
    "\tf.write(f'> Precision: {np.round(np.mean(precisions),3)} (+- {np.round(np.std(precisions),3)})\\n')\n",
    "\tf.write(f'> Recall: {np.round(np.mean(recalls),3)} (+- {np.round(np.std(recalls),3)})\\n')\n",
    "\tf.write(f'> Loss: {np.round(np.mean(losses),3)} (+- {np.round(np.std(losses),3)})\\n')\n",
    "\tf.write('Average scores for tflite:\\n')\n",
    "\tf.write(f'> Accuracy: {np.round(np.mean(tflite_accuracies),3)} (+- {np.round(np.std(tflite_accuracies),3)})\\n')\n",
    "\tf.write(f'> Precision: {np.round(np.mean(tflite_precisions),3)} (+- {np.round(np.std(tflite_precisions),3)})\\n')\n",
    "\tf.write(f'> Recall: {np.round(np.mean(tflite_recalls),3)} (+- {np.round(np.std(tflite_recalls),3)})\\n')"
   ]
  },
  {
   "cell_type": "code",
   "execution_count": 99,
   "metadata": {},
   "outputs": [
    {
     "name": "stderr",
     "output_type": "stream",
     "text": [
      "/home/paula/.local/lib/python3.10/site-packages/keras/src/layers/reshaping/reshape.py:39: UserWarning: Do not pass an `input_shape`/`input_dim` argument to a layer. When using Sequential models, prefer using an `Input(shape)` object as the first layer in the model instead.\n",
      "  super().__init__(**kwargs)\n",
      "/home/paula/.local/lib/python3.10/site-packages/keras/src/layers/convolutional/base_conv.py:107: UserWarning: Do not pass an `input_shape`/`input_dim` argument to a layer. When using Sequential models, prefer using an `Input(shape)` object as the first layer in the model instead.\n",
      "  super().__init__(activity_regularizer=activity_regularizer, **kwargs)\n"
     ]
    },
    {
     "data": {
      "image/png": "[encoded data removed]",
      "text/plain": [
       "<Figure size 640x480 with 1 Axes>"
      ]
     },
     "metadata": {},
     "output_type": "display_data"
    }
   ],
   "source": [
    "### Train the model on the full dataset\n",
    "X_train, X_val, y_train, y_val = train_test_split(data_augmented, labels_augmented, test_size=0.1, random_state=42)\n",
    "model = helper.create_model()\n",
    "# Define early stopping callback to monitor validation loss\n",
    "early_stopping = EarlyStopping(monitor='val_loss', patience=7)\n",
    "# train model\n",
    "class_weight = {0:0.96,1:1.01,2:1.03}\n",
    "history = model.fit(X_train, y_train, epochs=200, batch_size=8, validation_data=(X_val, y_val), callbacks=[early_stopping], verbose=0, class_weight=class_weight)\n",
    "\n",
    "# Model speichern\n",
    "model.save('training/model.keras')\n",
    "model.save_weights('training/model.weights.h5')\n",
    "\n",
    "plt.plot(history.history['loss'], label='Training Loss')\n",
    "plt.plot(history.history['val_loss'], label='Validation Loss')\n",
    "plt.plot(history.history['accuracy'], label='Training Accuracy')\n",
    "plt.plot(history.history['val_accuracy'], label='Validation Accuracy')\n",
    "plt.xlabel('Epoch')\n",
    "plt.legend()\n",
    "plt.savefig('training/loss_accuracy_plot.png')\n",
    "plt.clf()\n",
    "plt.plot(history.history['precision'], label='Training precision')\n",
    "plt.plot(history.history['val_precision'], label='Validation precision')\n",
    "plt.plot(history.history['recall'], label='Training recall')\n",
    "plt.plot(history.history['val_recall'], label='Validation recall')\n",
    "plt.xlabel('Epoch')\n",
    "plt.legend()\n",
    "plt.savefig('training/precision_recall_plot.png')"
   ]
  },
  {
   "cell_type": "code",
   "execution_count": 100,
   "metadata": {},
   "outputs": [
    {
     "name": "stdout",
     "output_type": "stream",
     "text": [
      "INFO:tensorflow:Assets written to: /tmp/tmpx59l7kq5/assets\n"
     ]
    },
    {
     "name": "stderr",
     "output_type": "stream",
     "text": [
      "INFO:tensorflow:Assets written to: /tmp/tmpx59l7kq5/assets\n"
     ]
    },
    {
     "name": "stdout",
     "output_type": "stream",
     "text": [
      "Saved artifact at '/tmp/tmpx59l7kq5'. The following endpoints are available:\n",
      "\n",
      "* Endpoint 'serve'\n",
      "  args_0 (POSITIONAL_ONLY): TensorSpec(shape=(None, 64), dtype=tf.float32, name='keras_tensor_968')\n",
      "Output Type:\n",
      "  TensorSpec(shape=(None, 3), dtype=tf.float32, name=None)\n",
      "Captures:\n",
      "  136952683363168: TensorSpec(shape=(), dtype=tf.resource, name=None)\n",
      "  136952683234928: TensorSpec(shape=(), dtype=tf.resource, name=None)\n",
      "  136952683238272: TensorSpec(shape=(), dtype=tf.resource, name=None)\n",
      "  136952683356832: TensorSpec(shape=(), dtype=tf.resource, name=None)\n",
      "  136952683245312: TensorSpec(shape=(), dtype=tf.resource, name=None)\n",
      "  136952683246016: TensorSpec(shape=(), dtype=tf.resource, name=None)\n",
      "  136952683245488: TensorSpec(shape=(), dtype=tf.resource, name=None)\n",
      "  136952683243728: TensorSpec(shape=(), dtype=tf.resource, name=None)\n"
     ]
    },
    {
     "name": "stderr",
     "output_type": "stream",
     "text": [
      "W0000 00:00:1739980266.548504   92754 tf_tfl_flatbuffer_helpers.cc:365] Ignored output_format.\n",
      "W0000 00:00:1739980266.548524   92754 tf_tfl_flatbuffer_helpers.cc:368] Ignored drop_control_dependency.\n"
     ]
    },
    {
     "name": "stdout",
     "output_type": "stream",
     "text": [
      "Tflite model saved to %s ./training\n",
      "\n",
      "TF model size: 148.95 KB\n",
      "TFLite model size: 41.39 KB\n",
      "\n"
     ]
    }
   ],
   "source": [
    "### convert model to tflite and C-array\n",
    "tflite_model = helper.convert_tflite_model(model)\n",
    "\n",
    "helper.save_tflite_model(tflite_model, './training', 'model.tflite')\n",
    "\n",
    "# print size of model\n",
    "tf_model_size = os.path.getsize('./training/model.keras') / 1024  # KB\n",
    "print(f\"\\nTF model size: {tf_model_size:.2f} KB\")\n",
    "tflite_model_size = os.path.getsize('./training/model.tflite') / 1024  # KB\n",
    "print(f\"TFLite model size: {tflite_model_size:.2f} KB\\n\")\n",
    "\n",
    "# Convert the TFLite model to a C array\n",
    "helper.convert_to_c_array('./training/model.tflite', './training/model.h')"
   ]
  },
  {
   "cell_type": "markdown",
   "metadata": {},
   "source": [
    "Here ends the design, training and conversion of the CNN. \n",
    "\n",
    "---\n",
    "Below this point I plotted the predictions of the final model plainly and as confusion matrices. It is for debugging purposes. \n",
    "The last code block is for converting the augmented data into a csv format importable by edge impulse."
   ]
  },
  {
   "cell_type": "code",
   "execution_count": 101,
   "metadata": {},
   "outputs": [
    {
     "name": "stdout",
     "output_type": "stream",
     "text": [
      "\u001b[1m230/230\u001b[0m \u001b[32m━━━━━━━━━━━━━━━━━━━━\u001b[0m\u001b[37m\u001b[0m \u001b[1m0s\u001b[0m 1ms/step\n",
      "\n",
      "Classification Report:\n",
      "               precision    recall  f1-score   support\n",
      "\n",
      "       paper       0.96      0.96      0.96      2460\n",
      "        rock       0.95      0.97      0.96      2430\n",
      "    scissors       0.99      0.97      0.98      2460\n",
      "\n",
      "    accuracy                           0.96      7350\n",
      "   macro avg       0.96      0.96      0.96      7350\n",
      "weighted avg       0.96      0.96      0.96      7350\n",
      "\n"
     ]
    },
    {
     "data": {
      "image/png": "[encoded data removed]",
      "text/plain": [
       "<Figure size 800x600 with 2 Axes>"
      ]
     },
     "metadata": {},
     "output_type": "display_data"
    }
   ],
   "source": [
    "### Confusion Matrix\n",
    "labels_predicted = model.predict(data_augmented)\n",
    "labels_predicted_classes = np.argmax(labels_predicted, axis=1)\n",
    "labels_augmented_classes = np.argmax(labels_augmented, axis=1)\n",
    "\n",
    "# Classification report\n",
    "class_report = classification_report(labels_augmented_classes, labels_predicted_classes, target_names=label_encoder.classes_)\n",
    "print(\"\\nClassification Report:\\n\", class_report)\n",
    "\n",
    "# Confusion matrix\n",
    "conf_matrix = confusion_matrix(labels_augmented_classes, labels_predicted_classes)\n",
    "plt.figure(figsize=(8, 6))\n",
    "sns.heatmap(conf_matrix, annot=True, fmt='d', cmap='Blues', xticklabels=label_encoder.classes_, yticklabels=label_encoder.classes_)\n",
    "plt.xlabel('Predicted Labels')\n",
    "plt.ylabel('True Labels')\n",
    "plt.title('Confusion Matrix')\n",
    "plt.show()"
   ]
  },
  {
   "cell_type": "code",
   "execution_count": 102,
   "metadata": {},
   "outputs": [
    {
     "name": "stdout",
     "output_type": "stream",
     "text": [
      "\n",
      "TFLite Classification Report:\n",
      "               precision    recall  f1-score   support\n",
      "\n",
      "       paper       0.96      0.96      0.96      2460\n",
      "        rock       0.95      0.97      0.96      2430\n",
      "    scissors       0.99      0.97      0.98      2460\n",
      "\n",
      "    accuracy                           0.96      7350\n",
      "   macro avg       0.96      0.96      0.96      7350\n",
      "weighted avg       0.96      0.96      0.96      7350\n",
      "\n"
     ]
    },
    {
     "data": {
      "image/png": "[encoded data removed]",
      "text/plain": [
       "<Figure size 800x600 with 2 Axes>"
      ]
     },
     "metadata": {},
     "output_type": "display_data"
    }
   ],
   "source": [
    "### TFLite Confusion Matrix\n",
    "tflite_model_path = './training/model.tflite'  # Path to your TFLite model\n",
    "tflite_predictions = helper.run_tflite_inference(tflite_model_path, data_augmented)\n",
    "\n",
    "# Convert TFLite predictions to class indices\n",
    "tflite_pred_classes = np.argmax(tflite_predictions, axis=1)\n",
    "y_true_classes = np.argmax(labels_augmented, axis=1)\n",
    "\n",
    "# Generate classification report\n",
    "class_report = classification_report(y_true_classes, tflite_pred_classes, target_names=label_encoder.classes_)\n",
    "print(\"\\nTFLite Classification Report:\\n\", class_report)\n",
    "\n",
    "# Generate confusion matrix\n",
    "conf_matrix = confusion_matrix(y_true_classes, tflite_pred_classes)\n",
    "plt.figure(figsize=(8, 6))\n",
    "sns.heatmap(conf_matrix, annot=True, fmt='d', cmap='Blues', xticklabels=label_encoder.classes_, yticklabels=label_encoder.classes_)\n",
    "plt.xlabel('Predicted Labels')\n",
    "plt.ylabel('True Labels')\n",
    "plt.title('TFLite Confusion Matrix')\n",
    "plt.show()"
   ]
  },
  {
   "cell_type": "code",
   "execution_count": null,
   "metadata": {},
   "outputs": [],
   "source": [
    "### Plot predictions\n",
    "output_dir = 'data/prediction_plots'\n",
    "if os.path.exists(output_dir):\n",
    "    shutil.rmtree(output_dir)\n",
    "os.makedirs(output_dir)\n",
    "\n",
    "predictions = helper.run_tflite_inference(tflite_model_path, data_augmented)\n",
    "\n",
    "for i in range(labels_augmented.shape[0]):\n",
    "    input_data = np.expand_dims(data_augmented[i], axis=0).astype(np.float32)\n",
    "    prediction = model.predict(input_data)\n",
    "    lite_prediction = predictions[i]\n",
    "\n",
    "    class_name = label_encoder.classes_[np.argmax(labels_augmented[i])]\n",
    "    name = class_name + \"_\" + str(i)\n",
    "    plt.figure(figsize=(8, 6))\n",
    "    plt.imshow(input_data.reshape(8, 8)*400, cmap='viridis', vmin=0, vmax=400)  # Adjust color scale to match value range\n",
    "    plt.colorbar(label='cmm')\n",
    "    plt.axis('off')\n",
    "    plt.title('predicted: '+str(prediction.round(2)) + ' (' + label_encoder.classes_[np.argmax(prediction)] + ')\\nlite-predicted: '+str(lite_prediction.round(2)) + ' (' + label_encoder.classes_[np.argmax(lite_prediction)] + ')\\nactual: ' + str(labels_augmented[i]) + ' (' + class_name+')')\n",
    "    output_path = os.path.join(output_dir, f'{name}.png')\n",
    "    plt.savefig(output_path, dpi=300, bbox_inches='tight')\n",
    "    plt.close()  # Close the figure to free memory"
   ]
  },
  {
   "cell_type": "code",
   "execution_count": 11,
   "metadata": {},
   "outputs": [],
   "source": [
    "### export augmented data to edge impulse\n",
    "header = [\n",
    "    f\"f{j}\" for j in range(1, 65)\n",
    "]\n",
    "if os.path.exists(\"data/for_edge_impulse\"):\n",
    "    shutil.rmtree(\"data/for_edge_impulse\")\n",
    "os.makedirs(\"data/for_edge_impulse\", exist_ok=True)\n",
    "os.makedirs(\"data/for_edge_impulse/rock\", exist_ok=True)\n",
    "os.makedirs(\"data/for_edge_impulse/paper\", exist_ok=True)\n",
    "os.makedirs(\"data/for_edge_impulse/scissors\", exist_ok=True)\n",
    "\n",
    "# Process each CSV file in the input folder\n",
    "for index, label in enumerate(labels_augmented):\n",
    "    if label[0] == 1:\n",
    "        target_folder = \"data/for_edge_impulse/rock\"\n",
    "        output_file = os.path.join(target_folder, f\"row_rock_{index}.csv\")\n",
    "    elif label[1] == 1:\n",
    "        target_folder = \"data/for_edge_impulse/paper\"\n",
    "        output_file = os.path.join(target_folder, f\"row_paper_{index}.csv\")\n",
    "    elif label[2] == 1:\n",
    "        target_folder = \"data/for_edge_impulse/scissors\"\n",
    "        output_file = os.path.join(target_folder, f\"row_scissors_{index}.csv\")\n",
    "    \n",
    "    # Convert numpy array to pandas DataFrame and save to new CSV file with the specified header\n",
    "    pd.DataFrame(data_augmented[index].reshape(1, -1)).to_csv(output_file, index=False, header=header)"
   ]
  }
 ],
 "metadata": {
  "kernelspec": {
   "display_name": "Python 3",
   "language": "python",
   "name": "python3"
  },
  "language_info": {
   "codemirror_mode": {
    "name": "ipython",
    "version": 3
   },
   "file_extension": ".py",
   "mimetype": "text/x-python",
   "name": "python",
   "nbconvert_exporter": "python",
   "pygments_lexer": "ipython3",
   "version": "3.10.12"
  }
 },
 "nbformat": 4,
 "nbformat_minor": 2
}
