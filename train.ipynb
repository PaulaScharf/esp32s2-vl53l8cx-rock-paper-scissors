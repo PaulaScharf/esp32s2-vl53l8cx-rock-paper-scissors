{
 "cells": [
  {
   "cell_type": "code",
   "execution_count": 2,
   "metadata": {},
   "outputs": [],
   "source": [
    "import os\n",
    "os.environ['TF_CPP_MIN_LOG_LEVEL'] = '3'  # or any {'0', '1', '2'}\n",
    "import tensorflow as tf\n",
    "from tensorflow.keras import layers, models\n",
    "import numpy as np\n",
    "import pandas as pd\n",
    "from sklearn.model_selection import train_test_split\n",
    "from sklearn.preprocessing import LabelEncoder\n",
    "from tensorflow.keras.callbacks import EarlyStopping\n",
    "from tqdm import tqdm\n",
    "from sklearn.model_selection import KFold\n",
    "import tflite_helper\n",
    "import matplotlib.pyplot as plt\n",
    "from sklearn.metrics import classification_report, confusion_matrix\n",
    "import seaborn as sns\n",
    "import shutil"
   ]
  },
  {
   "cell_type": "code",
   "execution_count": 3,
   "metadata": {},
   "outputs": [],
   "source": [
    "# Load data from CSV files\n",
    "def load_data(file_path, label):\n",
    "    df = pd.read_csv(file_path)\n",
    "    data = df.iloc[:, :].values  # Exclude header and assume data starts from the second column\n",
    "    labels = [label] * len(data)\n",
    "    return data, labels\n",
    "\n",
    "# Load the data for all classes\n",
    "data1, labels1 = load_data(\"data/rock2.csv\", \"rock\")\n",
    "data2, labels2 = load_data(\"data/paper2.csv\", \"paper\")\n",
    "data3, labels3 = load_data(\"data/scissors2.csv\", \"scissors\")\n",
    "data4, labels4 = load_data(\"data/rock.csv\", \"rock\")\n",
    "data5, labels5 = load_data(\"data/paper.csv\", \"paper\")\n",
    "data6, labels6 = load_data(\"data/scissors.csv\", \"scissors\")\n",
    "\n",
    "# Combine the data and labels\n",
    "data = np.vstack([data1, data2, data3, data4, data5, data6])\n",
    "labels = np.array(labels1 + labels2 + labels3 + labels4 + labels5 + labels6)\n",
    "\n",
    "# Encode labels\n",
    "label_encoder = LabelEncoder()\n",
    "labels_encoded = label_encoder.fit_transform(labels)\n",
    "\n",
    "# Normalize data (assuming pixel values are integers)\n",
    "data = data / 400.0\n",
    "\n",
    "# Reshape data to 8x8 images\n",
    "data = data.reshape(-1, 8, 8, 1)  # Add channel dimension"
   ]
  },
  {
   "cell_type": "code",
   "execution_count": 4,
   "metadata": {},
   "outputs": [
    {
     "name": "stdout",
     "output_type": "stream",
     "text": [
      "rock:  544\n",
      "paper:  640\n",
      "scissors:  592\n"
     ]
    }
   ],
   "source": [
    "# Data augmentation\n",
    "data_augmented = []\n",
    "labels_augmented = []\n",
    "\n",
    "for image, label in zip(data, labels_encoded):\n",
    "    data_augmented.append(image)  # Original\n",
    "    labels_augmented.append(label)\n",
    "\n",
    "    # Flip horizontally\n",
    "    flipped_h = np.flip(image, axis=1)\n",
    "    data_augmented.append(flipped_h)\n",
    "    labels_augmented.append(label)\n",
    "\n",
    "    # Flip vertically\n",
    "    flipped_v = np.flip(image, axis=0)\n",
    "    data_augmented.append(flipped_v)\n",
    "    labels_augmented.append(label)\n",
    "\n",
    "    # Add random noise\n",
    "    noise = np.random.normal(0, 0.1, image.shape)\n",
    "    noisy_image = np.clip(image + noise, 0, 1)\n",
    "    data_augmented.append(noisy_image)\n",
    "    labels_augmented.append(label)\n",
    "\n",
    "    # Add random noise\n",
    "    noise = np.random.normal(-0.1, 0, image.shape)\n",
    "    noisy_image = np.clip(image + noise, 0, 1)\n",
    "    data_augmented.append(noisy_image)\n",
    "    labels_augmented.append(label)\n",
    "\n",
    "    # Rotate 90 degrees\n",
    "    rotated_90 = np.rot90(image, k=1)\n",
    "    data_augmented.append(rotated_90)\n",
    "    labels_augmented.append(label)\n",
    "\n",
    "    # Rotate 180 degrees\n",
    "    rotated_180 = np.rot90(image, k=2)\n",
    "    data_augmented.append(rotated_180)\n",
    "    labels_augmented.append(label)\n",
    "\n",
    "    # Rotate 270 degrees\n",
    "    rotated_270 = np.rot90(image, k=3)\n",
    "    data_augmented.append(rotated_270)\n",
    "    labels_augmented.append(label)\n",
    "\n",
    "# Convert augmented data to numpy arrays\n",
    "data_augmented = np.array(data_augmented)\n",
    "labels_augmented = np.array(labels_augmented)\n",
    "\n",
    "\n",
    "# Convert labels to one-hot encoding\n",
    "labels_augmented = tf.keras.utils.to_categorical(labels_augmented, num_classes=3)\n",
    "\n",
    "print(\"rock: \", len(labels_augmented[labels_augmented[:, 0] == 1]))\n",
    "print(\"paper: \", len(labels_augmented[labels_augmented[:, 1] == 1]))\n",
    "print(\"scissors: \", len(labels_augmented[labels_augmented[:, 2] == 1]))"
   ]
  },
  {
   "cell_type": "code",
   "execution_count": 5,
   "metadata": {},
   "outputs": [],
   "source": [
    "data_augmented = np.reshape(data_augmented, (data_augmented.shape[0], 64))"
   ]
  },
  {
   "cell_type": "code",
   "execution_count": 6,
   "metadata": {},
   "outputs": [
    {
     "name": "stderr",
     "output_type": "stream",
     "text": [
      "  0%|          | 0/10 [00:00<?, ?it/s]c:\\Users\\itsmi\\anaconda3\\envs\\vsc\\lib\\site-packages\\keras\\src\\layers\\reshaping\\reshape.py:39: UserWarning: Do not pass an `input_shape`/`input_dim` argument to a layer. When using Sequential models, prefer using an `Input(shape)` object as the first layer in the model instead.\n",
      "  super().__init__(**kwargs)\n",
      "c:\\Users\\itsmi\\anaconda3\\envs\\vsc\\lib\\site-packages\\keras\\src\\layers\\convolutional\\base_conv.py:107: UserWarning: Do not pass an `input_shape`/`input_dim` argument to a layer. When using Sequential models, prefer using an `Input(shape)` object as the first layer in the model instead.\n",
      "  super().__init__(activity_regularizer=activity_regularizer, **kwargs)\n"
     ]
    },
    {
     "name": "stdout",
     "output_type": "stream",
     "text": [
      "\u001b[1m6/6\u001b[0m \u001b[32m━━━━━━━━━━━━━━━━━━━━\u001b[0m\u001b[37m\u001b[0m \u001b[1m1s\u001b[0m 19ms/step - accuracy: 0.7921 - loss: 0.4088 - precision: 0.7946 - recall: 0.7770 \n",
      "{'accuracy': 0.8202247023582458, 'loss': 0.3870321214199066, 'precision': 0.8255813717842102, 'recall': 0.7977527976036072}\n",
      "INFO:tensorflow:Assets written to: C:\\Users\\itsmi\\AppData\\Local\\Temp\\tmp8yf0zbof\\assets\n"
     ]
    },
    {
     "name": "stderr",
     "output_type": "stream",
     "text": [
      "INFO:tensorflow:Assets written to: C:\\Users\\itsmi\\AppData\\Local\\Temp\\tmp8yf0zbof\\assets\n"
     ]
    },
    {
     "name": "stdout",
     "output_type": "stream",
     "text": [
      "Saved artifact at 'C:\\Users\\itsmi\\AppData\\Local\\Temp\\tmp8yf0zbof'. The following endpoints are available:\n",
      "\n",
      "* Endpoint 'serve'\n",
      "  args_0 (POSITIONAL_ONLY): TensorSpec(shape=(None, 64), dtype=tf.float32, name='keras_tensor')\n",
      "Output Type:\n",
      "  TensorSpec(shape=(None, 3), dtype=tf.float32, name=None)\n",
      "Captures:\n",
      "  2559824494832: TensorSpec(shape=(), dtype=tf.resource, name=None)\n",
      "  2559824499232: TensorSpec(shape=(), dtype=tf.resource, name=None)\n",
      "  2559824500640: TensorSpec(shape=(), dtype=tf.resource, name=None)\n",
      "  2559824497120: TensorSpec(shape=(), dtype=tf.resource, name=None)\n",
      "  2559824502928: TensorSpec(shape=(), dtype=tf.resource, name=None)\n",
      "  2559824498528: TensorSpec(shape=(), dtype=tf.resource, name=None)\n",
      "  2559824503984: TensorSpec(shape=(), dtype=tf.resource, name=None)\n",
      "  2559824500816: TensorSpec(shape=(), dtype=tf.resource, name=None)\n"
     ]
    },
    {
     "name": "stderr",
     "output_type": "stream",
     "text": [
      " 10%|█         | 1/10 [00:17<02:35, 17.26s/it]"
     ]
    },
    {
     "name": "stdout",
     "output_type": "stream",
     "text": [
      "TensorFlow Lite model:\n",
      "tflite: acc=0.820225, prec=0.828713, reca=0.820811\n"
     ]
    },
    {
     "name": "stderr",
     "output_type": "stream",
     "text": [
      "c:\\Users\\itsmi\\anaconda3\\envs\\vsc\\lib\\site-packages\\keras\\src\\layers\\reshaping\\reshape.py:39: UserWarning: Do not pass an `input_shape`/`input_dim` argument to a layer. When using Sequential models, prefer using an `Input(shape)` object as the first layer in the model instead.\n",
      "  super().__init__(**kwargs)\n",
      "c:\\Users\\itsmi\\anaconda3\\envs\\vsc\\lib\\site-packages\\keras\\src\\layers\\convolutional\\base_conv.py:107: UserWarning: Do not pass an `input_shape`/`input_dim` argument to a layer. When using Sequential models, prefer using an `Input(shape)` object as the first layer in the model instead.\n",
      "  super().__init__(activity_regularizer=activity_regularizer, **kwargs)\n"
     ]
    },
    {
     "name": "stdout",
     "output_type": "stream",
     "text": [
      "\u001b[1m6/6\u001b[0m \u001b[32m━━━━━━━━━━━━━━━━━━━━\u001b[0m\u001b[37m\u001b[0m \u001b[1m1s\u001b[0m 20ms/step - accuracy: 0.8211 - loss: 0.4467 - precision: 0.8252 - recall: 0.8211\n",
      "{'accuracy': 0.7865168452262878, 'loss': 0.5221506357192993, 'precision': 0.7954545617103577, 'recall': 0.7865168452262878}\n",
      "INFO:tensorflow:Assets written to: C:\\Users\\itsmi\\AppData\\Local\\Temp\\tmpvpj9p660\\assets\n"
     ]
    },
    {
     "name": "stderr",
     "output_type": "stream",
     "text": [
      "INFO:tensorflow:Assets written to: C:\\Users\\itsmi\\AppData\\Local\\Temp\\tmpvpj9p660\\assets\n"
     ]
    },
    {
     "name": "stdout",
     "output_type": "stream",
     "text": [
      "Saved artifact at 'C:\\Users\\itsmi\\AppData\\Local\\Temp\\tmpvpj9p660'. The following endpoints are available:\n",
      "\n",
      "* Endpoint 'serve'\n",
      "  args_0 (POSITIONAL_ONLY): TensorSpec(shape=(None, 64), dtype=tf.float32, name='keras_tensor_8')\n",
      "Output Type:\n",
      "  TensorSpec(shape=(None, 3), dtype=tf.float32, name=None)\n",
      "Captures:\n",
      "  2560890531408: TensorSpec(shape=(), dtype=tf.resource, name=None)\n",
      "  2560890533872: TensorSpec(shape=(), dtype=tf.resource, name=None)\n",
      "  2559847205872: TensorSpec(shape=(), dtype=tf.resource, name=None)\n",
      "  2559930180432: TensorSpec(shape=(), dtype=tf.resource, name=None)\n",
      "  2559870237536: TensorSpec(shape=(), dtype=tf.resource, name=None)\n",
      "  2559870237360: TensorSpec(shape=(), dtype=tf.resource, name=None)\n",
      "  2559870233488: TensorSpec(shape=(), dtype=tf.resource, name=None)\n",
      "  2559870236656: TensorSpec(shape=(), dtype=tf.resource, name=None)\n"
     ]
    },
    {
     "name": "stderr",
     "output_type": "stream",
     "text": [
      " 20%|██        | 2/10 [00:54<03:53, 29.16s/it]"
     ]
    },
    {
     "name": "stdout",
     "output_type": "stream",
     "text": [
      "TensorFlow Lite model:\n",
      "tflite: acc=0.786517, prec=0.824338, reca=0.793048\n"
     ]
    },
    {
     "name": "stderr",
     "output_type": "stream",
     "text": [
      "c:\\Users\\itsmi\\anaconda3\\envs\\vsc\\lib\\site-packages\\keras\\src\\layers\\reshaping\\reshape.py:39: UserWarning: Do not pass an `input_shape`/`input_dim` argument to a layer. When using Sequential models, prefer using an `Input(shape)` object as the first layer in the model instead.\n",
      "  super().__init__(**kwargs)\n",
      "c:\\Users\\itsmi\\anaconda3\\envs\\vsc\\lib\\site-packages\\keras\\src\\layers\\convolutional\\base_conv.py:107: UserWarning: Do not pass an `input_shape`/`input_dim` argument to a layer. When using Sequential models, prefer using an `Input(shape)` object as the first layer in the model instead.\n",
      "  super().__init__(activity_regularizer=activity_regularizer, **kwargs)\n"
     ]
    },
    {
     "name": "stdout",
     "output_type": "stream",
     "text": [
      "\u001b[1m6/6\u001b[0m \u001b[32m━━━━━━━━━━━━━━━━━━━━\u001b[0m\u001b[37m\u001b[0m \u001b[1m1s\u001b[0m 23ms/step - accuracy: 0.7736 - loss: 0.4689 - precision: 0.7749 - recall: 0.7685\n",
      "{'accuracy': 0.7134831547737122, 'loss': 0.5474430322647095, 'precision': 0.7159090638160706, 'recall': 0.7078651785850525}\n",
      "INFO:tensorflow:Assets written to: C:\\Users\\itsmi\\AppData\\Local\\Temp\\tmpmu1xo5v2\\assets\n"
     ]
    },
    {
     "name": "stderr",
     "output_type": "stream",
     "text": [
      "INFO:tensorflow:Assets written to: C:\\Users\\itsmi\\AppData\\Local\\Temp\\tmpmu1xo5v2\\assets\n"
     ]
    },
    {
     "name": "stdout",
     "output_type": "stream",
     "text": [
      "Saved artifact at 'C:\\Users\\itsmi\\AppData\\Local\\Temp\\tmpmu1xo5v2'. The following endpoints are available:\n",
      "\n",
      "* Endpoint 'serve'\n",
      "  args_0 (POSITIONAL_ONLY): TensorSpec(shape=(None, 64), dtype=tf.float32, name='keras_tensor_16')\n",
      "Output Type:\n",
      "  TensorSpec(shape=(None, 3), dtype=tf.float32, name=None)\n",
      "Captures:\n",
      "  2559986599712: TensorSpec(shape=(), dtype=tf.resource, name=None)\n",
      "  2559986602000: TensorSpec(shape=(), dtype=tf.resource, name=None)\n",
      "  2559986600416: TensorSpec(shape=(), dtype=tf.resource, name=None)\n",
      "  2559986598128: TensorSpec(shape=(), dtype=tf.resource, name=None)\n",
      "  2559986607632: TensorSpec(shape=(), dtype=tf.resource, name=None)\n",
      "  2559986607456: TensorSpec(shape=(), dtype=tf.resource, name=None)\n",
      "  2559986611680: TensorSpec(shape=(), dtype=tf.resource, name=None)\n",
      "  2559986609568: TensorSpec(shape=(), dtype=tf.resource, name=None)\n"
     ]
    },
    {
     "name": "stderr",
     "output_type": "stream",
     "text": [
      " 30%|███       | 3/10 [01:19<03:09, 27.06s/it]"
     ]
    },
    {
     "name": "stdout",
     "output_type": "stream",
     "text": [
      "TensorFlow Lite model:\n",
      "tflite: acc=0.713483, prec=0.789644, reca=0.735692\n"
     ]
    },
    {
     "name": "stderr",
     "output_type": "stream",
     "text": [
      "c:\\Users\\itsmi\\anaconda3\\envs\\vsc\\lib\\site-packages\\keras\\src\\layers\\reshaping\\reshape.py:39: UserWarning: Do not pass an `input_shape`/`input_dim` argument to a layer. When using Sequential models, prefer using an `Input(shape)` object as the first layer in the model instead.\n",
      "  super().__init__(**kwargs)\n",
      "c:\\Users\\itsmi\\anaconda3\\envs\\vsc\\lib\\site-packages\\keras\\src\\layers\\convolutional\\base_conv.py:107: UserWarning: Do not pass an `input_shape`/`input_dim` argument to a layer. When using Sequential models, prefer using an `Input(shape)` object as the first layer in the model instead.\n",
      "  super().__init__(activity_regularizer=activity_regularizer, **kwargs)\n"
     ]
    },
    {
     "name": "stdout",
     "output_type": "stream",
     "text": [
      "\u001b[1m6/6\u001b[0m \u001b[32m━━━━━━━━━━━━━━━━━━━━\u001b[0m\u001b[37m\u001b[0m \u001b[1m1s\u001b[0m 28ms/step - accuracy: 0.8239 - loss: 0.4012 - precision: 0.8505 - recall: 0.8113\n",
      "{'accuracy': 0.7808988690376282, 'loss': 0.5123295187950134, 'precision': 0.8035714030265808, 'recall': 0.7584269642829895}\n",
      "INFO:tensorflow:Assets written to: C:\\Users\\itsmi\\AppData\\Local\\Temp\\tmpq8ua8jnd\\assets\n"
     ]
    },
    {
     "name": "stderr",
     "output_type": "stream",
     "text": [
      "INFO:tensorflow:Assets written to: C:\\Users\\itsmi\\AppData\\Local\\Temp\\tmpq8ua8jnd\\assets\n"
     ]
    },
    {
     "name": "stdout",
     "output_type": "stream",
     "text": [
      "Saved artifact at 'C:\\Users\\itsmi\\AppData\\Local\\Temp\\tmpq8ua8jnd'. The following endpoints are available:\n",
      "\n",
      "* Endpoint 'serve'\n",
      "  args_0 (POSITIONAL_ONLY): TensorSpec(shape=(None, 64), dtype=tf.float32, name='keras_tensor_24')\n",
      "Output Type:\n",
      "  TensorSpec(shape=(None, 3), dtype=tf.float32, name=None)\n",
      "Captures:\n",
      "  2559931863760: TensorSpec(shape=(), dtype=tf.resource, name=None)\n",
      "  2559931352160: TensorSpec(shape=(), dtype=tf.resource, name=None)\n",
      "  2559951203744: TensorSpec(shape=(), dtype=tf.resource, name=None)\n",
      "  2559949119456: TensorSpec(shape=(), dtype=tf.resource, name=None)\n",
      "  2559949124736: TensorSpec(shape=(), dtype=tf.resource, name=None)\n",
      "  2559951204976: TensorSpec(shape=(), dtype=tf.resource, name=None)\n",
      "  2559951193888: TensorSpec(shape=(), dtype=tf.resource, name=None)\n",
      "  2559949646208: TensorSpec(shape=(), dtype=tf.resource, name=None)\n"
     ]
    },
    {
     "name": "stderr",
     "output_type": "stream",
     "text": [
      " 40%|████      | 4/10 [01:46<02:41, 26.93s/it]"
     ]
    },
    {
     "name": "stdout",
     "output_type": "stream",
     "text": [
      "TensorFlow Lite model:\n",
      "tflite: acc=0.780899, prec=0.817835, reca=0.777389\n"
     ]
    },
    {
     "name": "stderr",
     "output_type": "stream",
     "text": [
      "c:\\Users\\itsmi\\anaconda3\\envs\\vsc\\lib\\site-packages\\keras\\src\\layers\\reshaping\\reshape.py:39: UserWarning: Do not pass an `input_shape`/`input_dim` argument to a layer. When using Sequential models, prefer using an `Input(shape)` object as the first layer in the model instead.\n",
      "  super().__init__(**kwargs)\n",
      "c:\\Users\\itsmi\\anaconda3\\envs\\vsc\\lib\\site-packages\\keras\\src\\layers\\convolutional\\base_conv.py:107: UserWarning: Do not pass an `input_shape`/`input_dim` argument to a layer. When using Sequential models, prefer using an `Input(shape)` object as the first layer in the model instead.\n",
      "  super().__init__(activity_regularizer=activity_regularizer, **kwargs)\n"
     ]
    },
    {
     "name": "stdout",
     "output_type": "stream",
     "text": [
      "\u001b[1m6/6\u001b[0m \u001b[32m━━━━━━━━━━━━━━━━━━━━\u001b[0m\u001b[37m\u001b[0m \u001b[1m1s\u001b[0m 33ms/step - accuracy: 0.8378 - loss: 0.3361 - precision: 0.8627 - recall: 0.8342\n",
      "{'accuracy': 0.8146067261695862, 'loss': 0.390742689371109, 'precision': 0.8372092843055725, 'recall': 0.8089887499809265}\n",
      "INFO:tensorflow:Assets written to: C:\\Users\\itsmi\\AppData\\Local\\Temp\\tmpfku62278\\assets\n"
     ]
    },
    {
     "name": "stderr",
     "output_type": "stream",
     "text": [
      "INFO:tensorflow:Assets written to: C:\\Users\\itsmi\\AppData\\Local\\Temp\\tmpfku62278\\assets\n"
     ]
    },
    {
     "name": "stdout",
     "output_type": "stream",
     "text": [
      "Saved artifact at 'C:\\Users\\itsmi\\AppData\\Local\\Temp\\tmpfku62278'. The following endpoints are available:\n",
      "\n",
      "* Endpoint 'serve'\n",
      "  args_0 (POSITIONAL_ONLY): TensorSpec(shape=(None, 64), dtype=tf.float32, name='keras_tensor_32')\n",
      "Output Type:\n",
      "  TensorSpec(shape=(None, 3), dtype=tf.float32, name=None)\n",
      "Captures:\n",
      "  2560041994016: TensorSpec(shape=(), dtype=tf.resource, name=None)\n",
      "  2560043191280: TensorSpec(shape=(), dtype=tf.resource, name=None)\n",
      "  2560043193040: TensorSpec(shape=(), dtype=tf.resource, name=None)\n",
      "  2560043188992: TensorSpec(shape=(), dtype=tf.resource, name=None)\n",
      "  2560043193920: TensorSpec(shape=(), dtype=tf.resource, name=None)\n",
      "  2560043191984: TensorSpec(shape=(), dtype=tf.resource, name=None)\n",
      "  2560043195680: TensorSpec(shape=(), dtype=tf.resource, name=None)\n",
      "  2560043192160: TensorSpec(shape=(), dtype=tf.resource, name=None)\n"
     ]
    },
    {
     "name": "stderr",
     "output_type": "stream",
     "text": [
      " 50%|█████     | 5/10 [02:30<02:45, 33.17s/it]"
     ]
    },
    {
     "name": "stdout",
     "output_type": "stream",
     "text": [
      "TensorFlow Lite model:\n",
      "tflite: acc=0.814607, prec=0.835621, reca=0.819231\n"
     ]
    },
    {
     "name": "stderr",
     "output_type": "stream",
     "text": [
      "c:\\Users\\itsmi\\anaconda3\\envs\\vsc\\lib\\site-packages\\keras\\src\\layers\\reshaping\\reshape.py:39: UserWarning: Do not pass an `input_shape`/`input_dim` argument to a layer. When using Sequential models, prefer using an `Input(shape)` object as the first layer in the model instead.\n",
      "  super().__init__(**kwargs)\n",
      "c:\\Users\\itsmi\\anaconda3\\envs\\vsc\\lib\\site-packages\\keras\\src\\layers\\convolutional\\base_conv.py:107: UserWarning: Do not pass an `input_shape`/`input_dim` argument to a layer. When using Sequential models, prefer using an `Input(shape)` object as the first layer in the model instead.\n",
      "  super().__init__(activity_regularizer=activity_regularizer, **kwargs)\n"
     ]
    },
    {
     "name": "stdout",
     "output_type": "stream",
     "text": [
      "\u001b[1m6/6\u001b[0m \u001b[32m━━━━━━━━━━━━━━━━━━━━\u001b[0m\u001b[37m\u001b[0m \u001b[1m1s\u001b[0m 20ms/step - accuracy: 0.8323 - loss: 0.4694 - precision: 0.8587 - recall: 0.8081\n",
      "{'accuracy': 0.8146067261695862, 'loss': 0.4642024040222168, 'precision': 0.8452380895614624, 'recall': 0.7977527976036072}\n",
      "INFO:tensorflow:Assets written to: C:\\Users\\itsmi\\AppData\\Local\\Temp\\tmp72mi0kt1\\assets\n"
     ]
    },
    {
     "name": "stderr",
     "output_type": "stream",
     "text": [
      "INFO:tensorflow:Assets written to: C:\\Users\\itsmi\\AppData\\Local\\Temp\\tmp72mi0kt1\\assets\n"
     ]
    },
    {
     "name": "stdout",
     "output_type": "stream",
     "text": [
      "Saved artifact at 'C:\\Users\\itsmi\\AppData\\Local\\Temp\\tmp72mi0kt1'. The following endpoints are available:\n",
      "\n",
      "* Endpoint 'serve'\n",
      "  args_0 (POSITIONAL_ONLY): TensorSpec(shape=(None, 64), dtype=tf.float32, name='keras_tensor_40')\n",
      "Output Type:\n",
      "  TensorSpec(shape=(None, 3), dtype=tf.float32, name=None)\n",
      "Captures:\n",
      "  2560063113344: TensorSpec(shape=(), dtype=tf.resource, name=None)\n",
      "  2560063707216: TensorSpec(shape=(), dtype=tf.resource, name=None)\n",
      "  2560063710032: TensorSpec(shape=(), dtype=tf.resource, name=None)\n",
      "  2560063705632: TensorSpec(shape=(), dtype=tf.resource, name=None)\n",
      "  2560063708624: TensorSpec(shape=(), dtype=tf.resource, name=None)\n",
      "  2560063708976: TensorSpec(shape=(), dtype=tf.resource, name=None)\n",
      "  2560063712672: TensorSpec(shape=(), dtype=tf.resource, name=None)\n",
      "  2560063709152: TensorSpec(shape=(), dtype=tf.resource, name=None)\n"
     ]
    },
    {
     "name": "stderr",
     "output_type": "stream",
     "text": [
      " 60%|██████    | 6/10 [03:07<02:17, 34.39s/it]"
     ]
    },
    {
     "name": "stdout",
     "output_type": "stream",
     "text": [
      "TensorFlow Lite model:\n",
      "tflite: acc=0.814607, prec=0.813816, reca=0.817616\n"
     ]
    },
    {
     "name": "stderr",
     "output_type": "stream",
     "text": [
      "c:\\Users\\itsmi\\anaconda3\\envs\\vsc\\lib\\site-packages\\keras\\src\\layers\\reshaping\\reshape.py:39: UserWarning: Do not pass an `input_shape`/`input_dim` argument to a layer. When using Sequential models, prefer using an `Input(shape)` object as the first layer in the model instead.\n",
      "  super().__init__(**kwargs)\n",
      "c:\\Users\\itsmi\\anaconda3\\envs\\vsc\\lib\\site-packages\\keras\\src\\layers\\convolutional\\base_conv.py:107: UserWarning: Do not pass an `input_shape`/`input_dim` argument to a layer. When using Sequential models, prefer using an `Input(shape)` object as the first layer in the model instead.\n",
      "  super().__init__(activity_regularizer=activity_regularizer, **kwargs)\n"
     ]
    },
    {
     "name": "stdout",
     "output_type": "stream",
     "text": [
      "\u001b[1m6/6\u001b[0m \u001b[32m━━━━━━━━━━━━━━━━━━━━\u001b[0m\u001b[37m\u001b[0m \u001b[1m1s\u001b[0m 29ms/step - accuracy: 0.8556 - loss: 0.3498 - precision: 0.8591 - recall: 0.8438\n",
      "{'accuracy': 0.8305084705352783, 'loss': 0.41532036662101746, 'precision': 0.8390804529190063, 'recall': 0.8248587846755981}\n",
      "INFO:tensorflow:Assets written to: C:\\Users\\itsmi\\AppData\\Local\\Temp\\tmpjvqsaqzx\\assets\n"
     ]
    },
    {
     "name": "stderr",
     "output_type": "stream",
     "text": [
      "INFO:tensorflow:Assets written to: C:\\Users\\itsmi\\AppData\\Local\\Temp\\tmpjvqsaqzx\\assets\n"
     ]
    },
    {
     "name": "stdout",
     "output_type": "stream",
     "text": [
      "Saved artifact at 'C:\\Users\\itsmi\\AppData\\Local\\Temp\\tmpjvqsaqzx'. The following endpoints are available:\n",
      "\n",
      "* Endpoint 'serve'\n",
      "  args_0 (POSITIONAL_ONLY): TensorSpec(shape=(None, 64), dtype=tf.float32, name='keras_tensor_48')\n",
      "Output Type:\n",
      "  TensorSpec(shape=(None, 3), dtype=tf.float32, name=None)\n",
      "Captures:\n",
      "  2560101289472: TensorSpec(shape=(), dtype=tf.resource, name=None)\n",
      "  2560101290352: TensorSpec(shape=(), dtype=tf.resource, name=None)\n",
      "  2560101300912: TensorSpec(shape=(), dtype=tf.resource, name=None)\n",
      "  2560101308496: TensorSpec(shape=(), dtype=tf.resource, name=None)\n",
      "  2560101310080: TensorSpec(shape=(), dtype=tf.resource, name=None)\n",
      "  2560101307440: TensorSpec(shape=(), dtype=tf.resource, name=None)\n",
      "  2560101311136: TensorSpec(shape=(), dtype=tf.resource, name=None)\n",
      "  2560101307616: TensorSpec(shape=(), dtype=tf.resource, name=None)\n"
     ]
    },
    {
     "name": "stderr",
     "output_type": "stream",
     "text": [
      " 70%|███████   | 7/10 [03:51<01:52, 37.66s/it]c:\\Users\\itsmi\\anaconda3\\envs\\vsc\\lib\\site-packages\\keras\\src\\layers\\reshaping\\reshape.py:39: UserWarning: Do not pass an `input_shape`/`input_dim` argument to a layer. When using Sequential models, prefer using an `Input(shape)` object as the first layer in the model instead.\n",
      "  super().__init__(**kwargs)\n",
      "c:\\Users\\itsmi\\anaconda3\\envs\\vsc\\lib\\site-packages\\keras\\src\\layers\\convolutional\\base_conv.py:107: UserWarning: Do not pass an `input_shape`/`input_dim` argument to a layer. When using Sequential models, prefer using an `Input(shape)` object as the first layer in the model instead.\n",
      "  super().__init__(activity_regularizer=activity_regularizer, **kwargs)\n"
     ]
    },
    {
     "name": "stdout",
     "output_type": "stream",
     "text": [
      "TensorFlow Lite model:\n",
      "tflite: acc=0.830508, prec=0.863534, reca=0.817942\n",
      "\u001b[1m6/6\u001b[0m \u001b[32m━━━━━━━━━━━━━━━━━━━━\u001b[0m\u001b[37m\u001b[0m \u001b[1m0s\u001b[0m 9ms/step - accuracy: 0.8194 - loss: 0.3555 - precision: 0.8333 - recall: 0.8169  \n",
      "{'accuracy': 0.8418079018592834, 'loss': 0.31556105613708496, 'precision': 0.8554913401603699, 'recall': 0.8361582159996033}\n",
      "INFO:tensorflow:Assets written to: C:\\Users\\itsmi\\AppData\\Local\\Temp\\tmp1vdhz_dk\\assets\n"
     ]
    },
    {
     "name": "stderr",
     "output_type": "stream",
     "text": [
      "INFO:tensorflow:Assets written to: C:\\Users\\itsmi\\AppData\\Local\\Temp\\tmp1vdhz_dk\\assets\n"
     ]
    },
    {
     "name": "stdout",
     "output_type": "stream",
     "text": [
      "Saved artifact at 'C:\\Users\\itsmi\\AppData\\Local\\Temp\\tmp1vdhz_dk'. The following endpoints are available:\n",
      "\n",
      "* Endpoint 'serve'\n",
      "  args_0 (POSITIONAL_ONLY): TensorSpec(shape=(None, 64), dtype=tf.float32, name='keras_tensor_56')\n",
      "Output Type:\n",
      "  TensorSpec(shape=(None, 3), dtype=tf.float32, name=None)\n",
      "Captures:\n",
      "  2560157113104: TensorSpec(shape=(), dtype=tf.resource, name=None)\n",
      "  2560157120496: TensorSpec(shape=(), dtype=tf.resource, name=None)\n",
      "  2560157119616: TensorSpec(shape=(), dtype=tf.resource, name=None)\n",
      "  2560157241712: TensorSpec(shape=(), dtype=tf.resource, name=None)\n",
      "  2560157241536: TensorSpec(shape=(), dtype=tf.resource, name=None)\n",
      "  2560157239952: TensorSpec(shape=(), dtype=tf.resource, name=None)\n",
      "  2560157242592: TensorSpec(shape=(), dtype=tf.resource, name=None)\n",
      "  2560157239072: TensorSpec(shape=(), dtype=tf.resource, name=None)\n"
     ]
    },
    {
     "name": "stderr",
     "output_type": "stream",
     "text": [
      " 80%|████████  | 8/10 [04:15<01:06, 33.33s/it]"
     ]
    },
    {
     "name": "stdout",
     "output_type": "stream",
     "text": [
      "TensorFlow Lite model:\n",
      "tflite: acc=0.841808, prec=0.846632, reca=0.847676\n"
     ]
    },
    {
     "name": "stderr",
     "output_type": "stream",
     "text": [
      "c:\\Users\\itsmi\\anaconda3\\envs\\vsc\\lib\\site-packages\\keras\\src\\layers\\reshaping\\reshape.py:39: UserWarning: Do not pass an `input_shape`/`input_dim` argument to a layer. When using Sequential models, prefer using an `Input(shape)` object as the first layer in the model instead.\n",
      "  super().__init__(**kwargs)\n",
      "c:\\Users\\itsmi\\anaconda3\\envs\\vsc\\lib\\site-packages\\keras\\src\\layers\\convolutional\\base_conv.py:107: UserWarning: Do not pass an `input_shape`/`input_dim` argument to a layer. When using Sequential models, prefer using an `Input(shape)` object as the first layer in the model instead.\n",
      "  super().__init__(activity_regularizer=activity_regularizer, **kwargs)\n"
     ]
    },
    {
     "name": "stdout",
     "output_type": "stream",
     "text": [
      "\u001b[1m6/6\u001b[0m \u001b[32m━━━━━━━━━━━━━━━━━━━━\u001b[0m\u001b[37m\u001b[0m \u001b[1m0s\u001b[0m 9ms/step - accuracy: 0.8513 - loss: 0.4039 - precision: 0.8715 - recall: 0.8462  \n",
      "{'accuracy': 0.7796609997749329, 'loss': 0.5131920576095581, 'precision': 0.8011695742607117, 'recall': 0.7740113139152527}\n",
      "INFO:tensorflow:Assets written to: C:\\Users\\itsmi\\AppData\\Local\\Temp\\tmp5wshcez3\\assets\n"
     ]
    },
    {
     "name": "stderr",
     "output_type": "stream",
     "text": [
      "INFO:tensorflow:Assets written to: C:\\Users\\itsmi\\AppData\\Local\\Temp\\tmp5wshcez3\\assets\n"
     ]
    },
    {
     "name": "stdout",
     "output_type": "stream",
     "text": [
      "Saved artifact at 'C:\\Users\\itsmi\\AppData\\Local\\Temp\\tmp5wshcez3'. The following endpoints are available:\n",
      "\n",
      "* Endpoint 'serve'\n",
      "  args_0 (POSITIONAL_ONLY): TensorSpec(shape=(None, 64), dtype=tf.float32, name='keras_tensor_64')\n",
      "Output Type:\n",
      "  TensorSpec(shape=(None, 3), dtype=tf.float32, name=None)\n",
      "Captures:\n",
      "  2560042006864: TensorSpec(shape=(), dtype=tf.resource, name=None)\n",
      "  2560041998240: TensorSpec(shape=(), dtype=tf.resource, name=None)\n",
      "  2560042007040: TensorSpec(shape=(), dtype=tf.resource, name=None)\n",
      "  2560041995952: TensorSpec(shape=(), dtype=tf.resource, name=None)\n",
      "  2561882261104: TensorSpec(shape=(), dtype=tf.resource, name=None)\n",
      "  2559948847440: TensorSpec(shape=(), dtype=tf.resource, name=None)\n",
      "  2561393200112: TensorSpec(shape=(), dtype=tf.resource, name=None)\n",
      "  2559948951216: TensorSpec(shape=(), dtype=tf.resource, name=None)\n"
     ]
    },
    {
     "name": "stderr",
     "output_type": "stream",
     "text": [
      " 90%|█████████ | 9/10 [04:27<00:26, 26.76s/it]"
     ]
    },
    {
     "name": "stdout",
     "output_type": "stream",
     "text": [
      "TensorFlow Lite model:\n",
      "tflite: acc=0.779661, prec=0.839057, reca=0.788139\n"
     ]
    },
    {
     "name": "stderr",
     "output_type": "stream",
     "text": [
      "c:\\Users\\itsmi\\anaconda3\\envs\\vsc\\lib\\site-packages\\keras\\src\\layers\\reshaping\\reshape.py:39: UserWarning: Do not pass an `input_shape`/`input_dim` argument to a layer. When using Sequential models, prefer using an `Input(shape)` object as the first layer in the model instead.\n",
      "  super().__init__(**kwargs)\n",
      "c:\\Users\\itsmi\\anaconda3\\envs\\vsc\\lib\\site-packages\\keras\\src\\layers\\convolutional\\base_conv.py:107: UserWarning: Do not pass an `input_shape`/`input_dim` argument to a layer. When using Sequential models, prefer using an `Input(shape)` object as the first layer in the model instead.\n",
      "  super().__init__(activity_regularizer=activity_regularizer, **kwargs)\n"
     ]
    },
    {
     "name": "stdout",
     "output_type": "stream",
     "text": [
      "\u001b[1m6/6\u001b[0m \u001b[32m━━━━━━━━━━━━━━━━━━━━\u001b[0m\u001b[37m\u001b[0m \u001b[1m0s\u001b[0m 10ms/step - accuracy: 0.8420 - loss: 0.4028 - precision: 0.8544 - recall: 0.8228 \n",
      "{'accuracy': 0.7796609997749329, 'loss': 0.5027033686637878, 'precision': 0.7906976938247681, 'recall': 0.7683615684509277}\n",
      "INFO:tensorflow:Assets written to: C:\\Users\\itsmi\\AppData\\Local\\Temp\\tmpopzn9rdo\\assets\n"
     ]
    },
    {
     "name": "stderr",
     "output_type": "stream",
     "text": [
      "INFO:tensorflow:Assets written to: C:\\Users\\itsmi\\AppData\\Local\\Temp\\tmpopzn9rdo\\assets\n"
     ]
    },
    {
     "name": "stdout",
     "output_type": "stream",
     "text": [
      "Saved artifact at 'C:\\Users\\itsmi\\AppData\\Local\\Temp\\tmpopzn9rdo'. The following endpoints are available:\n",
      "\n",
      "* Endpoint 'serve'\n",
      "  args_0 (POSITIONAL_ONLY): TensorSpec(shape=(None, 64), dtype=tf.float32, name='keras_tensor_72')\n",
      "Output Type:\n",
      "  TensorSpec(shape=(None, 3), dtype=tf.float32, name=None)\n",
      "Captures:\n",
      "  2560157602688: TensorSpec(shape=(), dtype=tf.resource, name=None)\n",
      "  2560157611840: TensorSpec(shape=(), dtype=tf.resource, name=None)\n",
      "  2560157610960: TensorSpec(shape=(), dtype=tf.resource, name=None)\n",
      "  2560157613424: TensorSpec(shape=(), dtype=tf.resource, name=None)\n",
      "  2560157609904: TensorSpec(shape=(), dtype=tf.resource, name=None)\n",
      "  2560158584672: TensorSpec(shape=(), dtype=tf.resource, name=None)\n",
      "  2560157602864: TensorSpec(shape=(), dtype=tf.resource, name=None)\n",
      "  2560158584144: TensorSpec(shape=(), dtype=tf.resource, name=None)\n"
     ]
    },
    {
     "name": "stderr",
     "output_type": "stream",
     "text": [
      "100%|██████████| 10/10 [04:37<00:00, 27.78s/it]"
     ]
    },
    {
     "name": "stdout",
     "output_type": "stream",
     "text": [
      "TensorFlow Lite model:\n",
      "tflite: acc=0.779661, prec=0.817395, reca=0.789916\n"
     ]
    },
    {
     "name": "stderr",
     "output_type": "stream",
     "text": [
      "\n"
     ]
    }
   ],
   "source": [
    "def create_model():\n",
    "    # Build a larger CNN model\n",
    "    model = models.Sequential([\n",
    "        layers.Reshape((8,8,1), input_shape=(64,)),\n",
    "        layers.Conv2D(8, (3, 3), activation='relu', padding='same', input_shape=(8, 8, 1)),\n",
    "        layers.MaxPooling2D((2, 2), padding='same'),\n",
    "        layers.Conv2D(16, (3, 3), activation='relu', padding='same'),\n",
    "        layers.Flatten(),\n",
    "        layers.Dense(32, activation='relu'),\n",
    "        layers.Dense(3, activation='softmax')\n",
    "    ])\n",
    "\n",
    "    # Compile the model\n",
    "    model.compile(optimizer='adam',\n",
    "                loss='categorical_crossentropy',\n",
    "                metrics=['accuracy', \n",
    "\t\t\ttf.keras.metrics.Precision(name='precision'),\n",
    "\t\t\ttf.keras.metrics.Recall(name='recall')])\n",
    "    \n",
    "    return model\n",
    "\n",
    "# K-fold Cross Validation model evaluation\n",
    "kfold = KFold(n_splits=10, shuffle=True)\n",
    "results = []\n",
    "for train, test in tqdm(kfold.split(data_augmented, labels_augmented), total = 10):\n",
    "    # Define early stopping callback to monitor validation loss\n",
    "    early_stopping = EarlyStopping(monitor='val_loss', patience=4)\n",
    "\n",
    "    # Split the augmented data into training and testing sets\n",
    "    X_train, y_train, X_test, y_test = data_augmented[train], labels_augmented[train], data_augmented[test], labels_augmented[test]\n",
    "\n",
    "    model = create_model()\n",
    "\n",
    "    # Train the model\n",
    "    history = model.fit(X_train, y_train, epochs=35, batch_size=8, validation_split=0.1, callbacks=[early_stopping], verbose=0)\n",
    "\n",
    "    # Evaluate the model\n",
    "    metrics = model.evaluate(X_test, y_test, return_dict=True)\n",
    "    print(metrics)\n",
    "    \n",
    "    tflite_model = tflite_helper.convert_tflite_model(model)\n",
    "    \n",
    "    accuracy,precision,recall = tflite_helper.test_tflite(tflite_model, X_test, y_test)\n",
    "    print('tflite: acc={:f}, prec={:f}, reca={:f}'.format(accuracy,sum(precision)/len(precision),sum(recall)/len(recall)))\n",
    "\n",
    "    result = {\n",
    "        'metrics': metrics,\n",
    "        'tflite_metrics': {\n",
    "            'accuracy': accuracy,\n",
    "            'precision': precision,\n",
    "            'recall': recall\n",
    "        }\n",
    "    }\n",
    "    results.append(result)"
   ]
  },
  {
   "cell_type": "code",
   "execution_count": 7,
   "metadata": {},
   "outputs": [],
   "source": [
    "accuracies = np.array([d['metrics']['accuracy'] for d in results])\n",
    "precisions = np.array([d['metrics']['precision'] for d in results])\n",
    "recalls = np.array([d['metrics']['recall'] for d in results])\n",
    "losses = np.array([d['metrics']['loss'] for d in results])\n",
    "tflite_accuracies = np.array([d['tflite_metrics']['accuracy'] for d in results])\n",
    "tflite_precisions = np.array([d['tflite_metrics']['precision'] for d in results])\n",
    "tflite_recalls = np.array([d['tflite_metrics']['recall'] for d in results])\n",
    "\n",
    "# print final metrics and tflite metrics\n",
    "with open('.\\\\training\\\\test_results.txt', 'w') as f:\n",
    "\tf.write('Average scores for tensorflow model:\\n')\n",
    "\tf.write(f'> Accuracy: {np.mean(accuracies)} (+- {np.std(accuracies)})\\n')\n",
    "\tf.write(f'> Precision: {np.mean(precisions)} (+- {np.std(precisions)})\\n')\n",
    "\tf.write(f'> Recall: {np.mean(recalls)} (+- {np.std(recalls)})\\n')\n",
    "\tf.write(f'> Loss: {np.mean(losses)} (+- {np.std(losses)})\\n')\n",
    "\tf.write('Average scores for tflite:\\n')\n",
    "\tf.write(f'> Accuracy: {np.mean(tflite_accuracies)} (+- {np.std(tflite_accuracies)})\\n')\n",
    "\tf.write(f'> Precision: {np.mean(tflite_precisions)} (+- {np.std(tflite_precisions)})\\n')\n",
    "\tf.write(f'> Recall: {np.mean(tflite_recalls)} (+- {np.std(tflite_recalls)})\\n')"
   ]
  },
  {
   "cell_type": "code",
   "execution_count": 8,
   "metadata": {},
   "outputs": [
    {
     "name": "stderr",
     "output_type": "stream",
     "text": [
      "c:\\Users\\itsmi\\anaconda3\\envs\\vsc\\lib\\site-packages\\keras\\src\\layers\\reshaping\\reshape.py:39: UserWarning: Do not pass an `input_shape`/`input_dim` argument to a layer. When using Sequential models, prefer using an `Input(shape)` object as the first layer in the model instead.\n",
      "  super().__init__(**kwargs)\n",
      "c:\\Users\\itsmi\\anaconda3\\envs\\vsc\\lib\\site-packages\\keras\\src\\layers\\convolutional\\base_conv.py:107: UserWarning: Do not pass an `input_shape`/`input_dim` argument to a layer. When using Sequential models, prefer using an `Input(shape)` object as the first layer in the model instead.\n",
      "  super().__init__(activity_regularizer=activity_regularizer, **kwargs)\n"
     ]
    },
    {
     "data": {
      "text/html": [
       "<pre style=\"white-space:pre;overflow-x:auto;line-height:normal;font-family:Menlo,'DejaVu Sans Mono',consolas,'Courier New',monospace\"><span style=\"font-weight: bold\">Model: \"sequential_10\"</span>\n",
       "</pre>\n"
      ],
      "text/plain": [
       "\u001b[1mModel: \"sequential_10\"\u001b[0m\n"
      ]
     },
     "metadata": {},
     "output_type": "display_data"
    },
    {
     "data": {
      "text/html": [
       "<pre style=\"white-space:pre;overflow-x:auto;line-height:normal;font-family:Menlo,'DejaVu Sans Mono',consolas,'Courier New',monospace\">┏━━━━━━━━━━━━━━━━━━━━━━━━━━━━━━━━━┳━━━━━━━━━━━━━━━━━━━━━━━━┳━━━━━━━━━━━━━━━┓\n",
       "┃<span style=\"font-weight: bold\"> Layer (type)                    </span>┃<span style=\"font-weight: bold\"> Output Shape           </span>┃<span style=\"font-weight: bold\">       Param # </span>┃\n",
       "┡━━━━━━━━━━━━━━━━━━━━━━━━━━━━━━━━━╇━━━━━━━━━━━━━━━━━━━━━━━━╇━━━━━━━━━━━━━━━┩\n",
       "│ reshape_10 (<span style=\"color: #0087ff; text-decoration-color: #0087ff\">Reshape</span>)            │ (<span style=\"color: #00d7ff; text-decoration-color: #00d7ff\">None</span>, <span style=\"color: #00af00; text-decoration-color: #00af00\">8</span>, <span style=\"color: #00af00; text-decoration-color: #00af00\">8</span>, <span style=\"color: #00af00; text-decoration-color: #00af00\">1</span>)        │             <span style=\"color: #00af00; text-decoration-color: #00af00\">0</span> │\n",
       "├─────────────────────────────────┼────────────────────────┼───────────────┤\n",
       "│ conv2d_20 (<span style=\"color: #0087ff; text-decoration-color: #0087ff\">Conv2D</span>)              │ (<span style=\"color: #00d7ff; text-decoration-color: #00d7ff\">None</span>, <span style=\"color: #00af00; text-decoration-color: #00af00\">8</span>, <span style=\"color: #00af00; text-decoration-color: #00af00\">8</span>, <span style=\"color: #00af00; text-decoration-color: #00af00\">8</span>)        │            <span style=\"color: #00af00; text-decoration-color: #00af00\">80</span> │\n",
       "├─────────────────────────────────┼────────────────────────┼───────────────┤\n",
       "│ max_pooling2d_10 (<span style=\"color: #0087ff; text-decoration-color: #0087ff\">MaxPooling2D</span>) │ (<span style=\"color: #00d7ff; text-decoration-color: #00d7ff\">None</span>, <span style=\"color: #00af00; text-decoration-color: #00af00\">4</span>, <span style=\"color: #00af00; text-decoration-color: #00af00\">4</span>, <span style=\"color: #00af00; text-decoration-color: #00af00\">8</span>)        │             <span style=\"color: #00af00; text-decoration-color: #00af00\">0</span> │\n",
       "├─────────────────────────────────┼────────────────────────┼───────────────┤\n",
       "│ conv2d_21 (<span style=\"color: #0087ff; text-decoration-color: #0087ff\">Conv2D</span>)              │ (<span style=\"color: #00d7ff; text-decoration-color: #00d7ff\">None</span>, <span style=\"color: #00af00; text-decoration-color: #00af00\">4</span>, <span style=\"color: #00af00; text-decoration-color: #00af00\">4</span>, <span style=\"color: #00af00; text-decoration-color: #00af00\">16</span>)       │         <span style=\"color: #00af00; text-decoration-color: #00af00\">1,168</span> │\n",
       "├─────────────────────────────────┼────────────────────────┼───────────────┤\n",
       "│ flatten_10 (<span style=\"color: #0087ff; text-decoration-color: #0087ff\">Flatten</span>)            │ (<span style=\"color: #00d7ff; text-decoration-color: #00d7ff\">None</span>, <span style=\"color: #00af00; text-decoration-color: #00af00\">256</span>)            │             <span style=\"color: #00af00; text-decoration-color: #00af00\">0</span> │\n",
       "├─────────────────────────────────┼────────────────────────┼───────────────┤\n",
       "│ dense_20 (<span style=\"color: #0087ff; text-decoration-color: #0087ff\">Dense</span>)                │ (<span style=\"color: #00d7ff; text-decoration-color: #00d7ff\">None</span>, <span style=\"color: #00af00; text-decoration-color: #00af00\">32</span>)             │         <span style=\"color: #00af00; text-decoration-color: #00af00\">8,224</span> │\n",
       "├─────────────────────────────────┼────────────────────────┼───────────────┤\n",
       "│ dense_21 (<span style=\"color: #0087ff; text-decoration-color: #0087ff\">Dense</span>)                │ (<span style=\"color: #00d7ff; text-decoration-color: #00d7ff\">None</span>, <span style=\"color: #00af00; text-decoration-color: #00af00\">3</span>)              │            <span style=\"color: #00af00; text-decoration-color: #00af00\">99</span> │\n",
       "└─────────────────────────────────┴────────────────────────┴───────────────┘\n",
       "</pre>\n"
      ],
      "text/plain": [
       "┏━━━━━━━━━━━━━━━━━━━━━━━━━━━━━━━━━┳━━━━━━━━━━━━━━━━━━━━━━━━┳━━━━━━━━━━━━━━━┓\n",
       "┃\u001b[1m \u001b[0m\u001b[1mLayer (type)                   \u001b[0m\u001b[1m \u001b[0m┃\u001b[1m \u001b[0m\u001b[1mOutput Shape          \u001b[0m\u001b[1m \u001b[0m┃\u001b[1m \u001b[0m\u001b[1m      Param #\u001b[0m\u001b[1m \u001b[0m┃\n",
       "┡━━━━━━━━━━━━━━━━━━━━━━━━━━━━━━━━━╇━━━━━━━━━━━━━━━━━━━━━━━━╇━━━━━━━━━━━━━━━┩\n",
       "│ reshape_10 (\u001b[38;5;33mReshape\u001b[0m)            │ (\u001b[38;5;45mNone\u001b[0m, \u001b[38;5;34m8\u001b[0m, \u001b[38;5;34m8\u001b[0m, \u001b[38;5;34m1\u001b[0m)        │             \u001b[38;5;34m0\u001b[0m │\n",
       "├─────────────────────────────────┼────────────────────────┼───────────────┤\n",
       "│ conv2d_20 (\u001b[38;5;33mConv2D\u001b[0m)              │ (\u001b[38;5;45mNone\u001b[0m, \u001b[38;5;34m8\u001b[0m, \u001b[38;5;34m8\u001b[0m, \u001b[38;5;34m8\u001b[0m)        │            \u001b[38;5;34m80\u001b[0m │\n",
       "├─────────────────────────────────┼────────────────────────┼───────────────┤\n",
       "│ max_pooling2d_10 (\u001b[38;5;33mMaxPooling2D\u001b[0m) │ (\u001b[38;5;45mNone\u001b[0m, \u001b[38;5;34m4\u001b[0m, \u001b[38;5;34m4\u001b[0m, \u001b[38;5;34m8\u001b[0m)        │             \u001b[38;5;34m0\u001b[0m │\n",
       "├─────────────────────────────────┼────────────────────────┼───────────────┤\n",
       "│ conv2d_21 (\u001b[38;5;33mConv2D\u001b[0m)              │ (\u001b[38;5;45mNone\u001b[0m, \u001b[38;5;34m4\u001b[0m, \u001b[38;5;34m4\u001b[0m, \u001b[38;5;34m16\u001b[0m)       │         \u001b[38;5;34m1,168\u001b[0m │\n",
       "├─────────────────────────────────┼────────────────────────┼───────────────┤\n",
       "│ flatten_10 (\u001b[38;5;33mFlatten\u001b[0m)            │ (\u001b[38;5;45mNone\u001b[0m, \u001b[38;5;34m256\u001b[0m)            │             \u001b[38;5;34m0\u001b[0m │\n",
       "├─────────────────────────────────┼────────────────────────┼───────────────┤\n",
       "│ dense_20 (\u001b[38;5;33mDense\u001b[0m)                │ (\u001b[38;5;45mNone\u001b[0m, \u001b[38;5;34m32\u001b[0m)             │         \u001b[38;5;34m8,224\u001b[0m │\n",
       "├─────────────────────────────────┼────────────────────────┼───────────────┤\n",
       "│ dense_21 (\u001b[38;5;33mDense\u001b[0m)                │ (\u001b[38;5;45mNone\u001b[0m, \u001b[38;5;34m3\u001b[0m)              │            \u001b[38;5;34m99\u001b[0m │\n",
       "└─────────────────────────────────┴────────────────────────┴───────────────┘\n"
      ]
     },
     "metadata": {},
     "output_type": "display_data"
    },
    {
     "data": {
      "text/html": [
       "<pre style=\"white-space:pre;overflow-x:auto;line-height:normal;font-family:Menlo,'DejaVu Sans Mono',consolas,'Courier New',monospace\"><span style=\"font-weight: bold\"> Total params: </span><span style=\"color: #00af00; text-decoration-color: #00af00\">28,715</span> (112.17 KB)\n",
       "</pre>\n"
      ],
      "text/plain": [
       "\u001b[1m Total params: \u001b[0m\u001b[38;5;34m28,715\u001b[0m (112.17 KB)\n"
      ]
     },
     "metadata": {},
     "output_type": "display_data"
    },
    {
     "data": {
      "text/html": [
       "<pre style=\"white-space:pre;overflow-x:auto;line-height:normal;font-family:Menlo,'DejaVu Sans Mono',consolas,'Courier New',monospace\"><span style=\"font-weight: bold\"> Trainable params: </span><span style=\"color: #00af00; text-decoration-color: #00af00\">9,571</span> (37.39 KB)\n",
       "</pre>\n"
      ],
      "text/plain": [
       "\u001b[1m Trainable params: \u001b[0m\u001b[38;5;34m9,571\u001b[0m (37.39 KB)\n"
      ]
     },
     "metadata": {},
     "output_type": "display_data"
    },
    {
     "data": {
      "text/html": [
       "<pre style=\"white-space:pre;overflow-x:auto;line-height:normal;font-family:Menlo,'DejaVu Sans Mono',consolas,'Courier New',monospace\"><span style=\"font-weight: bold\"> Non-trainable params: </span><span style=\"color: #00af00; text-decoration-color: #00af00\">0</span> (0.00 B)\n",
       "</pre>\n"
      ],
      "text/plain": [
       "\u001b[1m Non-trainable params: \u001b[0m\u001b[38;5;34m0\u001b[0m (0.00 B)\n"
      ]
     },
     "metadata": {},
     "output_type": "display_data"
    },
    {
     "data": {
      "text/html": [
       "<pre style=\"white-space:pre;overflow-x:auto;line-height:normal;font-family:Menlo,'DejaVu Sans Mono',consolas,'Courier New',monospace\"><span style=\"font-weight: bold\"> Optimizer params: </span><span style=\"color: #00af00; text-decoration-color: #00af00\">19,144</span> (74.79 KB)\n",
       "</pre>\n"
      ],
      "text/plain": [
       "\u001b[1m Optimizer params: \u001b[0m\u001b[38;5;34m19,144\u001b[0m (74.79 KB)\n"
      ]
     },
     "metadata": {},
     "output_type": "display_data"
    },
    {
     "data": {
      "image/png": "[encoded data removed]",
      "text/plain": [
       "<Figure size 640x480 with 1 Axes>"
      ]
     },
     "metadata": {},
     "output_type": "display_data"
    }
   ],
   "source": [
    "### Train the model on the full dataset ###\n",
    "X_train, X_val, y_train, y_val = train_test_split(data_augmented, labels_augmented, test_size=0.1, random_state=42)\n",
    "model = create_model()\n",
    "# Define early stopping callback to monitor validation loss\n",
    "early_stopping = EarlyStopping(monitor='val_loss', patience=7)\n",
    "# train model\n",
    "history = model.fit(X_train, y_train, epochs=200, batch_size=64, validation_data=(X_val, y_val), callbacks=[early_stopping], verbose=0)\n",
    "model.summary()\n",
    "\n",
    "# Model speichern\n",
    "model.save('training/model.keras')\n",
    "\n",
    "plt.plot(history.history['loss'], label='Training Loss')\n",
    "plt.plot(history.history['val_loss'], label='Validation Loss')\n",
    "plt.plot(history.history['accuracy'], label='Training Accuracy')\n",
    "plt.plot(history.history['val_accuracy'], label='Validation Accuracy')\n",
    "plt.xlabel('Epoch')\n",
    "plt.legend()\n",
    "plt.savefig('training/loss_accuracy_plot.png')\n",
    "plt.clf()\n",
    "plt.plot(history.history['precision'], label='Training precision')\n",
    "plt.plot(history.history['val_precision'], label='Validation precision')\n",
    "plt.plot(history.history['recall'], label='Training recall')\n",
    "plt.plot(history.history['val_recall'], label='Validation recall')\n",
    "plt.xlabel('Epoch')\n",
    "plt.legend()\n",
    "plt.savefig('training/precision_recall_plot.png')"
   ]
  },
  {
   "cell_type": "code",
   "execution_count": 9,
   "metadata": {},
   "outputs": [
    {
     "name": "stdout",
     "output_type": "stream",
     "text": [
      "\u001b[1m56/56\u001b[0m \u001b[32m━━━━━━━━━━━━━━━━━━━━\u001b[0m\u001b[37m\u001b[0m \u001b[1m0s\u001b[0m 4ms/step\n",
      "\n",
      "Classification Report:\n",
      "               precision    recall  f1-score   support\n",
      "\n",
      "       paper       0.97      0.99      0.98       544\n",
      "        rock       0.88      0.94      0.91       640\n",
      "    scissors       0.94      0.85      0.89       592\n",
      "\n",
      "    accuracy                           0.93      1776\n",
      "   macro avg       0.93      0.93      0.93      1776\n",
      "weighted avg       0.93      0.93      0.92      1776\n",
      "\n"
     ]
    },
    {
     "data": {
      "image/png": "[encoded data removed]",
      "text/plain": [
       "<Figure size 800x600 with 2 Axes>"
      ]
     },
     "metadata": {},
     "output_type": "display_data"
    }
   ],
   "source": [
    "# Generate predictions\n",
    "labels_predicted = model.predict(data_augmented)\n",
    "labels_predicted_classes = np.argmax(labels_predicted, axis=1)\n",
    "labels_augmented_classes = np.argmax(labels_augmented, axis=1)\n",
    "\n",
    "# Classification report\n",
    "class_report = classification_report(labels_augmented_classes, labels_predicted_classes, target_names=label_encoder.classes_)\n",
    "print(\"\\nClassification Report:\\n\", class_report)\n",
    "\n",
    "# Confusion matrix\n",
    "conf_matrix = confusion_matrix(labels_augmented_classes, labels_predicted_classes)\n",
    "plt.figure(figsize=(8, 6))\n",
    "sns.heatmap(conf_matrix, annot=True, fmt='d', cmap='Blues', xticklabels=label_encoder.classes_, yticklabels=label_encoder.classes_)\n",
    "plt.xlabel('Predicted Labels')\n",
    "plt.ylabel('True Labels')\n",
    "plt.title('Confusion Matrix')\n",
    "plt.show()"
   ]
  },
  {
   "cell_type": "code",
   "execution_count": 10,
   "metadata": {},
   "outputs": [
    {
     "name": "stdout",
     "output_type": "stream",
     "text": [
      "INFO:tensorflow:Assets written to: C:\\Users\\itsmi\\AppData\\Local\\Temp\\tmpgo7rhz9i\\assets\n"
     ]
    },
    {
     "name": "stderr",
     "output_type": "stream",
     "text": [
      "INFO:tensorflow:Assets written to: C:\\Users\\itsmi\\AppData\\Local\\Temp\\tmpgo7rhz9i\\assets\n"
     ]
    },
    {
     "name": "stdout",
     "output_type": "stream",
     "text": [
      "Saved artifact at 'C:\\Users\\itsmi\\AppData\\Local\\Temp\\tmpgo7rhz9i'. The following endpoints are available:\n",
      "\n",
      "* Endpoint 'serve'\n",
      "  args_0 (POSITIONAL_ONLY): TensorSpec(shape=(None, 64), dtype=tf.float32, name='keras_tensor_80')\n",
      "Output Type:\n",
      "  TensorSpec(shape=(None, 3), dtype=tf.float32, name=None)\n",
      "Captures:\n",
      "  2560179601472: TensorSpec(shape=(), dtype=tf.resource, name=None)\n",
      "  2560179617488: TensorSpec(shape=(), dtype=tf.resource, name=None)\n",
      "  2560179604816: TensorSpec(shape=(), dtype=tf.resource, name=None)\n",
      "  2560179653088: TensorSpec(shape=(), dtype=tf.resource, name=None)\n",
      "  2560179654320: TensorSpec(shape=(), dtype=tf.resource, name=None)\n",
      "  2560179652032: TensorSpec(shape=(), dtype=tf.resource, name=None)\n",
      "  2560179655904: TensorSpec(shape=(), dtype=tf.resource, name=None)\n",
      "  2560179652208: TensorSpec(shape=(), dtype=tf.resource, name=None)\n",
      "Tflite model saved to %s ./training\n",
      "\n",
      "TFLite model size: 41.41 KB\n"
     ]
    }
   ],
   "source": [
    "tflite_model = tflite_helper.convert_tflite_model(model)\n",
    "\n",
    "tflite_helper.save_tflite_model(tflite_model, './training', 'model.tflite')\n",
    "\n",
    "# print size of model\n",
    "tflite_model_size = os.path.getsize('./training/model.tflite') / 1024  # KB\n",
    "print(f\"\\nTFLite model size: {tflite_model_size:.2f} KB\")\n",
    "\n",
    "# funktion um das tflite modell in ein c array zu konvertieren(?)\n",
    "def convert_to_c_array(file_path, output_file):\n",
    "    with open(file_path, \"rb\") as f:\n",
    "        data = f.read()\n",
    "    \n",
    "    data_length = len(data)\n",
    "    \n",
    "    with open(output_file, \"w\") as f:\n",
    "        f.write(f\"unsigned char model_tflite[] = {{\\n\")\n",
    "        for i, byte in enumerate(data):\n",
    "            f.write(f\"0x{byte:02x}, \")\n",
    "            if (i + 1) % 12 == 0:\n",
    "                f.write(\"\\n\")\n",
    "        f.write(f\"\\n}};\\n\\n\")\n",
    "        f.write(f\"unsigned int model_tflite_len = {data_length};\\n\")\n",
    "\n",
    "# Convert the TFLite model to a C array\n",
    "convert_to_c_array('./training/model.tflite', './training/model.h')"
   ]
  },
  {
   "cell_type": "code",
   "execution_count": 11,
   "metadata": {},
   "outputs": [
    {
     "name": "stdout",
     "output_type": "stream",
     "text": [
      "\n",
      "TFLite Classification Report:\n",
      "               precision    recall  f1-score   support\n",
      "\n",
      "       paper       0.97      0.99      0.98       544\n",
      "        rock       0.88      0.94      0.91       640\n",
      "    scissors       0.94      0.85      0.89       592\n",
      "\n",
      "    accuracy                           0.93      1776\n",
      "   macro avg       0.93      0.93      0.93      1776\n",
      "weighted avg       0.93      0.93      0.92      1776\n",
      "\n"
     ]
    },
    {
     "data": {
      "image/png": "[encoded data removed]",
      "text/plain": [
       "<Figure size 800x600 with 2 Axes>"
      ]
     },
     "metadata": {},
     "output_type": "display_data"
    }
   ],
   "source": [
    "# Function to load the TFLite model and run inference\n",
    "def run_tflite_inference(tflite_model_path, X_test):\n",
    "    # Load the TFLite model\n",
    "    interpreter = tf.lite.Interpreter(model_path=tflite_model_path)\n",
    "    interpreter.allocate_tensors()\n",
    "\n",
    "    # Get input and output details\n",
    "    input_details = interpreter.get_input_details()\n",
    "    output_details = interpreter.get_output_details()\n",
    "\n",
    "    predictions = []\n",
    "    for sample in X_test:\n",
    "        # Prepare input tensor\n",
    "        sample = np.expand_dims(sample, axis=0).astype(np.float32)\n",
    "        interpreter.set_tensor(input_details[0]['index'], sample)\n",
    "\n",
    "        # Run inference\n",
    "        interpreter.invoke()\n",
    "\n",
    "        # Get output tensor\n",
    "        output_data = interpreter.get_tensor(output_details[0]['index'])\n",
    "        predictions.append(output_data[0])\n",
    "\n",
    "    return np.array(predictions)\n",
    "\n",
    "# Run inference with TFLite model\n",
    "tflite_model_path = './training/model.tflite'  # Path to your TFLite model\n",
    "tflite_predictions = run_tflite_inference(tflite_model_path, data_augmented)\n",
    "\n",
    "# Convert TFLite predictions to class indices\n",
    "tflite_pred_classes = np.argmax(tflite_predictions, axis=1)\n",
    "y_true_classes = np.argmax(labels_augmented, axis=1)\n",
    "\n",
    "# Generate classification report\n",
    "class_report = classification_report(y_true_classes, tflite_pred_classes, target_names=label_encoder.classes_)\n",
    "print(\"\\nTFLite Classification Report:\\n\", class_report)\n",
    "\n",
    "# Generate confusion matrix\n",
    "conf_matrix = confusion_matrix(y_true_classes, tflite_pred_classes)\n",
    "plt.figure(figsize=(8, 6))\n",
    "sns.heatmap(conf_matrix, annot=True, fmt='d', cmap='Blues', xticklabels=label_encoder.classes_, yticklabels=label_encoder.classes_)\n",
    "plt.xlabel('Predicted Labels')\n",
    "plt.ylabel('True Labels')\n",
    "plt.title('TFLite Confusion Matrix')\n",
    "plt.show()"
   ]
  },
  {
   "cell_type": "code",
   "execution_count": null,
   "metadata": {},
   "outputs": [
    {
     "name": "stdout",
     "output_type": "stream",
     "text": [
      "\u001b[1m1/1\u001b[0m \u001b[32m━━━━━━━━━━━━━━━━━━━━\u001b[0m\u001b[37m\u001b[0m \u001b[1m0s\u001b[0m 208ms/step\n",
      "Vorhersage (TensorFlow-Modell): [[5.8323923e-10 9.9880362e-01 1.1963807e-03]]\n",
      "Vorhersage (TensorFlow Lite Modell): [[5.8323918e-10 9.9880362e-01 1.1963755e-03]]\n"
     ]
    }
   ],
   "source": [
    "# Deine 64 Werte als numpy-Array\n",
    "data = np.array([\n",
    "    2.00, 2.00, 2.00, 2.00, 2.00, 2.00, 2.00, 0.60, \n",
    "    0.51, 0.50, 0.50, 0.56, 0.56, 0.61, 2.00, 2.00, \n",
    "    0.50, 0.47, 0.48, 0.49, 0.50, 0.53, 0.54, 0.57, \n",
    "    0.57, 0.49, 0.50, 0.49, 0.50, 0.52, 0.51, 0.51, \n",
    "    2.00, 0.57, 0.57, 0.56, 0.54, 0.56, 0.54, 0.55, \n",
    "    2.00, 0.59, 0.57, 0.57, 0.56, 0.56, 0.56, 0.54, \n",
    "    0.56, 0.52, 0.52, 0.51, 0.51, 0.51, 0.52, 0.53, \n",
    "    0.52, 0.50, 0.50, 0.50, 0.50, 0.50, 0.50, 0.51\n",
    "]).astype(np.float32)\n",
    "\n",
    "# Falls nötig, die Form anpassen (abhängig vom Modell-Input)\n",
    "data = np.reshape(data, (1, 64))  # Falls das Modell eine 64er-Input-Schicht erwartet\n",
    "\n",
    "model = tf.keras.models.load_model('./training/model.keras')\n",
    "\n",
    "# Vorhersage mit TensorFlow-Modell\n",
    "prediction = model.predict(data)\n",
    "print(\"Vorhersage (TensorFlow):\", prediction)\n",
    "\n",
    "tflite_model_path = './training/model.tflite'\n",
    "\n",
    "# TensorFlow Lite Interpreter vorbereiten\n",
    "interpreter = tf.lite.Interpreter(model_path=tflite_model_path)\n",
    "interpreter.allocate_tensors()\n",
    "\n",
    "# Tensor Indizes abrufen\n",
    "input_tensor_index = interpreter.get_input_details()[0]['index']\n",
    "output_tensor_index = interpreter.get_output_details()[0]['index']\n",
    "\n",
    "# TensorFlow Lite Modell mit Daten füttern\n",
    "interpreter.set_tensor(input_tensor_index, data)\n",
    "interpreter.invoke()\n",
    "\n",
    "# Vorhersage abrufen\n",
    "lite_prediction = interpreter.get_tensor(output_tensor_index)\n",
    "print(\"Vorhersage (TensorFlow Lite)\", lite_prediction)"
   ]
  },
  {
   "cell_type": "code",
   "execution_count": 26,
   "metadata": {},
   "outputs": [
    {
     "name": "stdout",
     "output_type": "stream",
     "text": [
      "Label Mapping: {np.int64(0): np.str_('paper'), np.int64(1): np.str_('rock'), np.int64(2): np.str_('scissors')}\n"
     ]
    }
   ],
   "source": [
    "\n",
    "# Decode labels\n",
    "label_map = dict(zip(label_encoder.transform(label_encoder.classes_), label_encoder.classes_))\n",
    "print(\"Label Mapping:\", label_map)"
   ]
  }
 ],
 "metadata": {
  "kernelspec": {
   "display_name": "vsc",
   "language": "python",
   "name": "python3"
  },
  "language_info": {
   "codemirror_mode": {
    "name": "ipython",
    "version": 3
   },
   "file_extension": ".py",
   "mimetype": "text/x-python",
   "name": "python",
   "nbconvert_exporter": "python",
   "pygments_lexer": "ipython3",
   "version": "3.10.15"
  }
 },
 "nbformat": 4,
 "nbformat_minor": 2
}
